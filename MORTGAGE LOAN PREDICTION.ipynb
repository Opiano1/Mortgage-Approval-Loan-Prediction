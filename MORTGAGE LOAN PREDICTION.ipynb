{
 "cells": [
  {
   "cell_type": "code",
   "execution_count": 1,
   "metadata": {},
   "outputs": [],
   "source": [
    "#Importing Libraries\n",
    "import numpy as np\n",
    "import pandas as pd\n",
    "import seaborn as sns\n",
    "import matplotlib.pyplot as plt\n",
    "from scipy.stats import norm, skew\n",
    "import datetime as dt\n",
    "import matplotlib.style as style\n",
    "# Use a clean stylizatino for our charts and graphs\n",
    "import matplotlib.ticker as ticker\n",
    "import xgboost as xgb\n",
    "import catboost as cb\n",
    "import os\n",
    "import lightgbm as lgb\n",
    "import seaborn as sns\n",
    "#import catboost as cb\n",
    "plt.style.use('fivethirtyeight')\n",
    "import warnings\n",
    "warnings.filterwarnings(\"ignore\")\n",
    "%matplotlib inline"
   ]
  },
  {
   "cell_type": "code",
   "execution_count": null,
   "metadata": {},
   "outputs": [],
   "source": []
  },
  {
   "cell_type": "code",
   "execution_count": 2,
   "metadata": {},
   "outputs": [
    {
     "data": {
      "text/plain": [
       "['.ipynb_checkpoints',\n",
       " '1.JPG',\n",
       " 'capston.ipynb',\n",
       " 'CAPSTONE PROJECT SOLUTION.ipynb',\n",
       " 'capstone.ipynb',\n",
       " 'catboost.ipynb',\n",
       " 'catboost_info',\n",
       " 'cat_feature_index.94f4af99-4a879910-1b13acd8-5e0527eb.tmp',\n",
       " 'Challenge 1',\n",
       " 'Fabiyi Opeyemi Capstone FInal Report.docx',\n",
       " 'Microsoft.ipynb',\n",
       " 'NEW',\n",
       " 'submission.csv',\n",
       " 'submission2.csv',\n",
       " 'submission_format.csv',\n",
       " 'test_values.csv',\n",
       " 'train_labels.csv',\n",
       " 'train_values.csv',\n",
       " 'train_values.zip',\n",
       " '~$biyi Opeyemi Capstone FInal Report.docx',\n",
       " '~WRL0005.tmp',\n",
       " '~WRL0833.tmp']"
      ]
     },
     "execution_count": 2,
     "metadata": {},
     "output_type": "execute_result"
    }
   ],
   "source": [
    "os.listdir()"
   ]
  },
  {
   "cell_type": "code",
   "execution_count": 3,
   "metadata": {},
   "outputs": [],
   "source": [
    "train = pd.read_csv(\"train_values.csv\")\n",
    "train_labels = pd.read_csv(\"train_labels.csv\")\n",
    "test = pd.read_csv(\"test_values.csv\")"
   ]
  },
  {
   "cell_type": "code",
   "execution_count": null,
   "metadata": {},
   "outputs": [],
   "source": []
  },
  {
   "cell_type": "code",
   "execution_count": 4,
   "metadata": {},
   "outputs": [
    {
     "data": {
      "text/html": [
       "<div>\n",
       "<style scoped>\n",
       "    .dataframe tbody tr th:only-of-type {\n",
       "        vertical-align: middle;\n",
       "    }\n",
       "\n",
       "    .dataframe tbody tr th {\n",
       "        vertical-align: top;\n",
       "    }\n",
       "\n",
       "    .dataframe thead th {\n",
       "        text-align: right;\n",
       "    }\n",
       "</style>\n",
       "<table border=\"1\" class=\"dataframe\">\n",
       "  <thead>\n",
       "    <tr style=\"text-align: right;\">\n",
       "      <th></th>\n",
       "      <th>0</th>\n",
       "      <th>1</th>\n",
       "      <th>2</th>\n",
       "      <th>3</th>\n",
       "      <th>4</th>\n",
       "    </tr>\n",
       "  </thead>\n",
       "  <tbody>\n",
       "    <tr>\n",
       "      <th>row_id</th>\n",
       "      <td>0</td>\n",
       "      <td>1</td>\n",
       "      <td>2</td>\n",
       "      <td>3</td>\n",
       "      <td>4</td>\n",
       "    </tr>\n",
       "    <tr>\n",
       "      <th>loan_type</th>\n",
       "      <td>3</td>\n",
       "      <td>1</td>\n",
       "      <td>2</td>\n",
       "      <td>1</td>\n",
       "      <td>1</td>\n",
       "    </tr>\n",
       "    <tr>\n",
       "      <th>property_type</th>\n",
       "      <td>1</td>\n",
       "      <td>1</td>\n",
       "      <td>1</td>\n",
       "      <td>1</td>\n",
       "      <td>1</td>\n",
       "    </tr>\n",
       "    <tr>\n",
       "      <th>loan_purpose</th>\n",
       "      <td>1</td>\n",
       "      <td>3</td>\n",
       "      <td>3</td>\n",
       "      <td>1</td>\n",
       "      <td>1</td>\n",
       "    </tr>\n",
       "    <tr>\n",
       "      <th>occupancy</th>\n",
       "      <td>1</td>\n",
       "      <td>1</td>\n",
       "      <td>1</td>\n",
       "      <td>1</td>\n",
       "      <td>1</td>\n",
       "    </tr>\n",
       "    <tr>\n",
       "      <th>loan_amount</th>\n",
       "      <td>70</td>\n",
       "      <td>178</td>\n",
       "      <td>163</td>\n",
       "      <td>155</td>\n",
       "      <td>305</td>\n",
       "    </tr>\n",
       "    <tr>\n",
       "      <th>preapproval</th>\n",
       "      <td>3</td>\n",
       "      <td>3</td>\n",
       "      <td>3</td>\n",
       "      <td>1</td>\n",
       "      <td>3</td>\n",
       "    </tr>\n",
       "    <tr>\n",
       "      <th>msa_md</th>\n",
       "      <td>18</td>\n",
       "      <td>369</td>\n",
       "      <td>16</td>\n",
       "      <td>305</td>\n",
       "      <td>24</td>\n",
       "    </tr>\n",
       "    <tr>\n",
       "      <th>state_code</th>\n",
       "      <td>37</td>\n",
       "      <td>52</td>\n",
       "      <td>10</td>\n",
       "      <td>47</td>\n",
       "      <td>37</td>\n",
       "    </tr>\n",
       "    <tr>\n",
       "      <th>county_code</th>\n",
       "      <td>246</td>\n",
       "      <td>299</td>\n",
       "      <td>306</td>\n",
       "      <td>180</td>\n",
       "      <td>20</td>\n",
       "    </tr>\n",
       "    <tr>\n",
       "      <th>applicant_ethnicity</th>\n",
       "      <td>2</td>\n",
       "      <td>1</td>\n",
       "      <td>2</td>\n",
       "      <td>2</td>\n",
       "      <td>2</td>\n",
       "    </tr>\n",
       "    <tr>\n",
       "      <th>applicant_race</th>\n",
       "      <td>5</td>\n",
       "      <td>5</td>\n",
       "      <td>5</td>\n",
       "      <td>5</td>\n",
       "      <td>3</td>\n",
       "    </tr>\n",
       "    <tr>\n",
       "      <th>applicant_sex</th>\n",
       "      <td>1</td>\n",
       "      <td>1</td>\n",
       "      <td>1</td>\n",
       "      <td>1</td>\n",
       "      <td>2</td>\n",
       "    </tr>\n",
       "    <tr>\n",
       "      <th>applicant_income</th>\n",
       "      <td>24</td>\n",
       "      <td>57</td>\n",
       "      <td>67</td>\n",
       "      <td>105</td>\n",
       "      <td>71</td>\n",
       "    </tr>\n",
       "    <tr>\n",
       "      <th>population</th>\n",
       "      <td>6203</td>\n",
       "      <td>5774</td>\n",
       "      <td>6094</td>\n",
       "      <td>6667</td>\n",
       "      <td>6732</td>\n",
       "    </tr>\n",
       "    <tr>\n",
       "      <th>minority_population_pct</th>\n",
       "      <td>44.23</td>\n",
       "      <td>15.905</td>\n",
       "      <td>61.27</td>\n",
       "      <td>6.246</td>\n",
       "      <td>100</td>\n",
       "    </tr>\n",
       "    <tr>\n",
       "      <th>ffiecmedian_family_income</th>\n",
       "      <td>60588</td>\n",
       "      <td>54821</td>\n",
       "      <td>67719</td>\n",
       "      <td>78439</td>\n",
       "      <td>63075</td>\n",
       "    </tr>\n",
       "    <tr>\n",
       "      <th>tract_to_msa_md_income_pct</th>\n",
       "      <td>50.933</td>\n",
       "      <td>100</td>\n",
       "      <td>100</td>\n",
       "      <td>100</td>\n",
       "      <td>82.2</td>\n",
       "    </tr>\n",
       "    <tr>\n",
       "      <th>number_of_owner-occupied_units</th>\n",
       "      <td>716</td>\n",
       "      <td>1622</td>\n",
       "      <td>760</td>\n",
       "      <td>2025</td>\n",
       "      <td>1464</td>\n",
       "    </tr>\n",
       "    <tr>\n",
       "      <th>number_of_1_to_4_family_units</th>\n",
       "      <td>2642</td>\n",
       "      <td>2108</td>\n",
       "      <td>1048</td>\n",
       "      <td>2299</td>\n",
       "      <td>1847</td>\n",
       "    </tr>\n",
       "    <tr>\n",
       "      <th>lender</th>\n",
       "      <td>4536</td>\n",
       "      <td>2458</td>\n",
       "      <td>5710</td>\n",
       "      <td>5888</td>\n",
       "      <td>289</td>\n",
       "    </tr>\n",
       "    <tr>\n",
       "      <th>co_applicant</th>\n",
       "      <td>False</td>\n",
       "      <td>False</td>\n",
       "      <td>False</td>\n",
       "      <td>True</td>\n",
       "      <td>False</td>\n",
       "    </tr>\n",
       "  </tbody>\n",
       "</table>\n",
       "</div>"
      ],
      "text/plain": [
       "                                     0       1      2      3      4\n",
       "row_id                               0       1      2      3      4\n",
       "loan_type                            3       1      2      1      1\n",
       "property_type                        1       1      1      1      1\n",
       "loan_purpose                         1       3      3      1      1\n",
       "occupancy                            1       1      1      1      1\n",
       "loan_amount                         70     178    163    155    305\n",
       "preapproval                          3       3      3      1      3\n",
       "msa_md                              18     369     16    305     24\n",
       "state_code                          37      52     10     47     37\n",
       "county_code                        246     299    306    180     20\n",
       "applicant_ethnicity                  2       1      2      2      2\n",
       "applicant_race                       5       5      5      5      3\n",
       "applicant_sex                        1       1      1      1      2\n",
       "applicant_income                    24      57     67    105     71\n",
       "population                        6203    5774   6094   6667   6732\n",
       "minority_population_pct          44.23  15.905  61.27  6.246    100\n",
       "ffiecmedian_family_income        60588   54821  67719  78439  63075\n",
       "tract_to_msa_md_income_pct      50.933     100    100    100   82.2\n",
       "number_of_owner-occupied_units     716    1622    760   2025   1464\n",
       "number_of_1_to_4_family_units     2642    2108   1048   2299   1847\n",
       "lender                            4536    2458   5710   5888    289\n",
       "co_applicant                     False   False  False   True  False"
      ]
     },
     "execution_count": 4,
     "metadata": {},
     "output_type": "execute_result"
    }
   ],
   "source": [
    "train.head().T"
   ]
  },
  {
   "cell_type": "code",
   "execution_count": 5,
   "metadata": {},
   "outputs": [
    {
     "data": {
      "text/plain": [
       "(500000, 2)"
      ]
     },
     "execution_count": 5,
     "metadata": {},
     "output_type": "execute_result"
    }
   ],
   "source": [
    "train_labels.shape"
   ]
  },
  {
   "cell_type": "code",
   "execution_count": null,
   "metadata": {},
   "outputs": [],
   "source": []
  },
  {
   "cell_type": "code",
   "execution_count": 6,
   "metadata": {},
   "outputs": [
    {
     "data": {
      "text/html": [
       "<div>\n",
       "<style scoped>\n",
       "    .dataframe tbody tr th:only-of-type {\n",
       "        vertical-align: middle;\n",
       "    }\n",
       "\n",
       "    .dataframe tbody tr th {\n",
       "        vertical-align: top;\n",
       "    }\n",
       "\n",
       "    .dataframe thead th {\n",
       "        text-align: right;\n",
       "    }\n",
       "</style>\n",
       "<table border=\"1\" class=\"dataframe\">\n",
       "  <thead>\n",
       "    <tr style=\"text-align: right;\">\n",
       "      <th></th>\n",
       "      <th>row_id</th>\n",
       "      <th>loan_type</th>\n",
       "      <th>property_type</th>\n",
       "      <th>loan_purpose</th>\n",
       "      <th>occupancy</th>\n",
       "      <th>loan_amount</th>\n",
       "      <th>preapproval</th>\n",
       "      <th>msa_md</th>\n",
       "      <th>state_code</th>\n",
       "      <th>county_code</th>\n",
       "      <th>...</th>\n",
       "      <th>applicant_sex</th>\n",
       "      <th>applicant_income</th>\n",
       "      <th>population</th>\n",
       "      <th>minority_population_pct</th>\n",
       "      <th>ffiecmedian_family_income</th>\n",
       "      <th>tract_to_msa_md_income_pct</th>\n",
       "      <th>number_of_owner-occupied_units</th>\n",
       "      <th>number_of_1_to_4_family_units</th>\n",
       "      <th>lender</th>\n",
       "      <th>co_applicant</th>\n",
       "    </tr>\n",
       "  </thead>\n",
       "  <tbody>\n",
       "    <tr>\n",
       "      <th>0</th>\n",
       "      <td>0</td>\n",
       "      <td>2</td>\n",
       "      <td>1</td>\n",
       "      <td>3</td>\n",
       "      <td>1</td>\n",
       "      <td>115.0</td>\n",
       "      <td>3</td>\n",
       "      <td>101</td>\n",
       "      <td>16</td>\n",
       "      <td>276</td>\n",
       "      <td>...</td>\n",
       "      <td>1</td>\n",
       "      <td>NaN</td>\n",
       "      <td>6329.0</td>\n",
       "      <td>59.536</td>\n",
       "      <td>69889.0</td>\n",
       "      <td>85.78</td>\n",
       "      <td>1874.0</td>\n",
       "      <td>2410.0</td>\n",
       "      <td>3791</td>\n",
       "      <td>True</td>\n",
       "    </tr>\n",
       "    <tr>\n",
       "      <th>1</th>\n",
       "      <td>1</td>\n",
       "      <td>1</td>\n",
       "      <td>1</td>\n",
       "      <td>1</td>\n",
       "      <td>1</td>\n",
       "      <td>252.0</td>\n",
       "      <td>2</td>\n",
       "      <td>87</td>\n",
       "      <td>20</td>\n",
       "      <td>68</td>\n",
       "      <td>...</td>\n",
       "      <td>1</td>\n",
       "      <td>107.0</td>\n",
       "      <td>2473.0</td>\n",
       "      <td>8.050</td>\n",
       "      <td>65313.0</td>\n",
       "      <td>100.00</td>\n",
       "      <td>947.0</td>\n",
       "      <td>1214.0</td>\n",
       "      <td>2839</td>\n",
       "      <td>True</td>\n",
       "    </tr>\n",
       "    <tr>\n",
       "      <th>2</th>\n",
       "      <td>2</td>\n",
       "      <td>1</td>\n",
       "      <td>1</td>\n",
       "      <td>1</td>\n",
       "      <td>1</td>\n",
       "      <td>270.0</td>\n",
       "      <td>1</td>\n",
       "      <td>-1</td>\n",
       "      <td>-1</td>\n",
       "      <td>-1</td>\n",
       "      <td>...</td>\n",
       "      <td>2</td>\n",
       "      <td>119.0</td>\n",
       "      <td>NaN</td>\n",
       "      <td>NaN</td>\n",
       "      <td>NaN</td>\n",
       "      <td>NaN</td>\n",
       "      <td>NaN</td>\n",
       "      <td>NaN</td>\n",
       "      <td>4701</td>\n",
       "      <td>False</td>\n",
       "    </tr>\n",
       "    <tr>\n",
       "      <th>3</th>\n",
       "      <td>3</td>\n",
       "      <td>2</td>\n",
       "      <td>1</td>\n",
       "      <td>1</td>\n",
       "      <td>1</td>\n",
       "      <td>179.0</td>\n",
       "      <td>2</td>\n",
       "      <td>376</td>\n",
       "      <td>20</td>\n",
       "      <td>11</td>\n",
       "      <td>...</td>\n",
       "      <td>2</td>\n",
       "      <td>44.0</td>\n",
       "      <td>4795.0</td>\n",
       "      <td>29.676</td>\n",
       "      <td>57766.0</td>\n",
       "      <td>100.00</td>\n",
       "      <td>1426.0</td>\n",
       "      <td>1765.0</td>\n",
       "      <td>2153</td>\n",
       "      <td>True</td>\n",
       "    </tr>\n",
       "    <tr>\n",
       "      <th>4</th>\n",
       "      <td>4</td>\n",
       "      <td>2</td>\n",
       "      <td>1</td>\n",
       "      <td>1</td>\n",
       "      <td>1</td>\n",
       "      <td>36.0</td>\n",
       "      <td>2</td>\n",
       "      <td>254</td>\n",
       "      <td>48</td>\n",
       "      <td>156</td>\n",
       "      <td>...</td>\n",
       "      <td>3</td>\n",
       "      <td>32.0</td>\n",
       "      <td>5246.0</td>\n",
       "      <td>5.110</td>\n",
       "      <td>63332.0</td>\n",
       "      <td>100.00</td>\n",
       "      <td>1452.0</td>\n",
       "      <td>2092.0</td>\n",
       "      <td>5710</td>\n",
       "      <td>False</td>\n",
       "    </tr>\n",
       "  </tbody>\n",
       "</table>\n",
       "<p>5 rows × 22 columns</p>\n",
       "</div>"
      ],
      "text/plain": [
       "   row_id  loan_type  property_type  loan_purpose  occupancy  loan_amount  \\\n",
       "0       0          2              1             3          1        115.0   \n",
       "1       1          1              1             1          1        252.0   \n",
       "2       2          1              1             1          1        270.0   \n",
       "3       3          2              1             1          1        179.0   \n",
       "4       4          2              1             1          1         36.0   \n",
       "\n",
       "   preapproval  msa_md  state_code  county_code      ...       applicant_sex  \\\n",
       "0            3     101          16          276      ...                   1   \n",
       "1            2      87          20           68      ...                   1   \n",
       "2            1      -1          -1           -1      ...                   2   \n",
       "3            2     376          20           11      ...                   2   \n",
       "4            2     254          48          156      ...                   3   \n",
       "\n",
       "   applicant_income  population  minority_population_pct  \\\n",
       "0               NaN      6329.0                   59.536   \n",
       "1             107.0      2473.0                    8.050   \n",
       "2             119.0         NaN                      NaN   \n",
       "3              44.0      4795.0                   29.676   \n",
       "4              32.0      5246.0                    5.110   \n",
       "\n",
       "   ffiecmedian_family_income  tract_to_msa_md_income_pct  \\\n",
       "0                    69889.0                       85.78   \n",
       "1                    65313.0                      100.00   \n",
       "2                        NaN                         NaN   \n",
       "3                    57766.0                      100.00   \n",
       "4                    63332.0                      100.00   \n",
       "\n",
       "   number_of_owner-occupied_units  number_of_1_to_4_family_units  lender  \\\n",
       "0                          1874.0                         2410.0    3791   \n",
       "1                           947.0                         1214.0    2839   \n",
       "2                             NaN                            NaN    4701   \n",
       "3                          1426.0                         1765.0    2153   \n",
       "4                          1452.0                         2092.0    5710   \n",
       "\n",
       "   co_applicant  \n",
       "0          True  \n",
       "1          True  \n",
       "2         False  \n",
       "3          True  \n",
       "4         False  \n",
       "\n",
       "[5 rows x 22 columns]"
      ]
     },
     "execution_count": 6,
     "metadata": {},
     "output_type": "execute_result"
    }
   ],
   "source": [
    "test.head()"
   ]
  },
  {
   "cell_type": "markdown",
   "metadata": {},
   "source": [
    "## Step1 : Performing basic Data Preprocessing \n",
    "Data Preprocessing to be done include;\n",
    "\n",
    "1. Checking for `Duplicates`\n",
    "2. Checking for `Missing Values`\n",
    "3. Exploratory Data Analysis to gain insights from the data\n",
    "4. Feature Engineering\n",
    "5. Label Encoding of Categorical Variable"
   ]
  },
  {
   "cell_type": "code",
   "execution_count": 7,
   "metadata": {},
   "outputs": [
    {
     "name": "stdout",
     "output_type": "stream",
     "text": [
      "(500000, 22)\n",
      "(500000,)\n",
      "(500000, 2)\n"
     ]
    }
   ],
   "source": [
    "#------------------1. Checking for Duplicates----------------------------------------\n",
    "print(train.shape)\n",
    "\n",
    "print (train['row_id'].unique().shape)\n",
    "\n",
    "print(train_labels.shape)"
   ]
  },
  {
   "cell_type": "code",
   "execution_count": 8,
   "metadata": {},
   "outputs": [
    {
     "name": "stdout",
     "output_type": "stream",
     "text": [
      "Shape before merging Data: (500000, 22)\n",
      "Shape After merging Data: (500000, 23)\n"
     ]
    }
   ],
   "source": [
    "#Merging the target variable data with the other features\n",
    "print('Shape before merging Data:', train.shape)\n",
    "train=pd.merge(train,train_labels,how='inner', on='row_id')\n",
    "print('Shape After merging Data:', train.shape)"
   ]
  },
  {
   "cell_type": "code",
   "execution_count": 9,
   "metadata": {},
   "outputs": [
    {
     "data": {
      "text/plain": [
       "row_id                                0\n",
       "loan_type                             0\n",
       "property_type                         0\n",
       "loan_purpose                          0\n",
       "occupancy                             0\n",
       "loan_amount                           0\n",
       "preapproval                           0\n",
       "msa_md                                0\n",
       "state_code                            0\n",
       "county_code                           0\n",
       "applicant_ethnicity                   0\n",
       "applicant_race                        0\n",
       "applicant_sex                         0\n",
       "applicant_income                  39948\n",
       "population                        22465\n",
       "minority_population_pct           22466\n",
       "ffiecmedian_family_income         22440\n",
       "tract_to_msa_md_income_pct        22514\n",
       "number_of_owner-occupied_units    22565\n",
       "number_of_1_to_4_family_units     22530\n",
       "lender                                0\n",
       "co_applicant                          0\n",
       "accepted                              0\n",
       "dtype: int64"
      ]
     },
     "execution_count": 9,
     "metadata": {},
     "output_type": "execute_result"
    }
   ],
   "source": [
    "train.isnull().sum()"
   ]
  },
  {
   "cell_type": "markdown",
   "metadata": {},
   "source": [
    "## Exploratory Data Analysis (EDA)"
   ]
  },
  {
   "cell_type": "code",
   "execution_count": 751,
   "metadata": {},
   "outputs": [
    {
     "data": {
      "text/plain": [
       "1.0"
      ]
     },
     "execution_count": 751,
     "metadata": {},
     "output_type": "execute_result"
    }
   ],
   "source": [
    "train['loan_amount'].min()"
   ]
  },
  {
   "cell_type": "code",
   "execution_count": 10,
   "metadata": {},
   "outputs": [
    {
     "data": {
      "text/html": [
       "<div>\n",
       "<style scoped>\n",
       "    .dataframe tbody tr th:only-of-type {\n",
       "        vertical-align: middle;\n",
       "    }\n",
       "\n",
       "    .dataframe tbody tr th {\n",
       "        vertical-align: top;\n",
       "    }\n",
       "\n",
       "    .dataframe thead th {\n",
       "        text-align: right;\n",
       "    }\n",
       "</style>\n",
       "<table border=\"1\" class=\"dataframe\">\n",
       "  <thead>\n",
       "    <tr style=\"text-align: right;\">\n",
       "      <th></th>\n",
       "      <th>row_id</th>\n",
       "      <th>loan_type</th>\n",
       "      <th>property_type</th>\n",
       "      <th>loan_purpose</th>\n",
       "      <th>occupancy</th>\n",
       "      <th>loan_amount</th>\n",
       "      <th>preapproval</th>\n",
       "      <th>msa_md</th>\n",
       "      <th>state_code</th>\n",
       "      <th>county_code</th>\n",
       "      <th>...</th>\n",
       "      <th>applicant_sex</th>\n",
       "      <th>applicant_income</th>\n",
       "      <th>population</th>\n",
       "      <th>minority_population_pct</th>\n",
       "      <th>ffiecmedian_family_income</th>\n",
       "      <th>tract_to_msa_md_income_pct</th>\n",
       "      <th>number_of_owner-occupied_units</th>\n",
       "      <th>number_of_1_to_4_family_units</th>\n",
       "      <th>lender</th>\n",
       "      <th>accepted</th>\n",
       "    </tr>\n",
       "  </thead>\n",
       "  <tbody>\n",
       "    <tr>\n",
       "      <th>count</th>\n",
       "      <td>500000.000000</td>\n",
       "      <td>500000.000000</td>\n",
       "      <td>500000.000000</td>\n",
       "      <td>500000.000000</td>\n",
       "      <td>500000.000000</td>\n",
       "      <td>500000.000000</td>\n",
       "      <td>500000.000000</td>\n",
       "      <td>500000.000000</td>\n",
       "      <td>500000.000000</td>\n",
       "      <td>500000.000000</td>\n",
       "      <td>...</td>\n",
       "      <td>500000.000000</td>\n",
       "      <td>460052.000000</td>\n",
       "      <td>477535.000000</td>\n",
       "      <td>477534.000000</td>\n",
       "      <td>477560.000000</td>\n",
       "      <td>477486.000000</td>\n",
       "      <td>477435.000000</td>\n",
       "      <td>477470.000000</td>\n",
       "      <td>500000.000000</td>\n",
       "      <td>500000.000000</td>\n",
       "    </tr>\n",
       "    <tr>\n",
       "      <th>mean</th>\n",
       "      <td>249999.500000</td>\n",
       "      <td>1.366276</td>\n",
       "      <td>1.047650</td>\n",
       "      <td>2.066810</td>\n",
       "      <td>1.109590</td>\n",
       "      <td>221.753158</td>\n",
       "      <td>2.764722</td>\n",
       "      <td>181.606972</td>\n",
       "      <td>23.726924</td>\n",
       "      <td>144.542062</td>\n",
       "      <td>...</td>\n",
       "      <td>1.462374</td>\n",
       "      <td>102.389521</td>\n",
       "      <td>5416.833956</td>\n",
       "      <td>31.617310</td>\n",
       "      <td>69235.603298</td>\n",
       "      <td>91.832624</td>\n",
       "      <td>1427.718282</td>\n",
       "      <td>1886.147065</td>\n",
       "      <td>3720.121344</td>\n",
       "      <td>0.500228</td>\n",
       "    </tr>\n",
       "    <tr>\n",
       "      <th>std</th>\n",
       "      <td>144337.711634</td>\n",
       "      <td>0.690555</td>\n",
       "      <td>0.231404</td>\n",
       "      <td>0.948371</td>\n",
       "      <td>0.326092</td>\n",
       "      <td>590.641648</td>\n",
       "      <td>0.543061</td>\n",
       "      <td>138.464169</td>\n",
       "      <td>15.982768</td>\n",
       "      <td>100.243612</td>\n",
       "      <td>...</td>\n",
       "      <td>0.677685</td>\n",
       "      <td>153.534496</td>\n",
       "      <td>2728.144999</td>\n",
       "      <td>26.333938</td>\n",
       "      <td>14810.058791</td>\n",
       "      <td>14.210924</td>\n",
       "      <td>737.559511</td>\n",
       "      <td>914.123744</td>\n",
       "      <td>1838.313175</td>\n",
       "      <td>0.500000</td>\n",
       "    </tr>\n",
       "    <tr>\n",
       "      <th>min</th>\n",
       "      <td>0.000000</td>\n",
       "      <td>1.000000</td>\n",
       "      <td>1.000000</td>\n",
       "      <td>1.000000</td>\n",
       "      <td>1.000000</td>\n",
       "      <td>1.000000</td>\n",
       "      <td>1.000000</td>\n",
       "      <td>-1.000000</td>\n",
       "      <td>-1.000000</td>\n",
       "      <td>-1.000000</td>\n",
       "      <td>...</td>\n",
       "      <td>1.000000</td>\n",
       "      <td>1.000000</td>\n",
       "      <td>14.000000</td>\n",
       "      <td>0.534000</td>\n",
       "      <td>17858.000000</td>\n",
       "      <td>3.981000</td>\n",
       "      <td>4.000000</td>\n",
       "      <td>1.000000</td>\n",
       "      <td>0.000000</td>\n",
       "      <td>0.000000</td>\n",
       "    </tr>\n",
       "    <tr>\n",
       "      <th>25%</th>\n",
       "      <td>124999.750000</td>\n",
       "      <td>1.000000</td>\n",
       "      <td>1.000000</td>\n",
       "      <td>1.000000</td>\n",
       "      <td>1.000000</td>\n",
       "      <td>93.000000</td>\n",
       "      <td>3.000000</td>\n",
       "      <td>25.000000</td>\n",
       "      <td>6.000000</td>\n",
       "      <td>57.000000</td>\n",
       "      <td>...</td>\n",
       "      <td>1.000000</td>\n",
       "      <td>47.000000</td>\n",
       "      <td>3744.000000</td>\n",
       "      <td>10.700000</td>\n",
       "      <td>59731.000000</td>\n",
       "      <td>88.067250</td>\n",
       "      <td>944.000000</td>\n",
       "      <td>1301.000000</td>\n",
       "      <td>2442.000000</td>\n",
       "      <td>0.000000</td>\n",
       "    </tr>\n",
       "    <tr>\n",
       "      <th>50%</th>\n",
       "      <td>249999.500000</td>\n",
       "      <td>1.000000</td>\n",
       "      <td>1.000000</td>\n",
       "      <td>2.000000</td>\n",
       "      <td>1.000000</td>\n",
       "      <td>162.000000</td>\n",
       "      <td>3.000000</td>\n",
       "      <td>192.000000</td>\n",
       "      <td>26.000000</td>\n",
       "      <td>131.000000</td>\n",
       "      <td>...</td>\n",
       "      <td>1.000000</td>\n",
       "      <td>74.000000</td>\n",
       "      <td>4975.000000</td>\n",
       "      <td>22.901000</td>\n",
       "      <td>67526.000000</td>\n",
       "      <td>100.000000</td>\n",
       "      <td>1327.000000</td>\n",
       "      <td>1753.000000</td>\n",
       "      <td>3731.000000</td>\n",
       "      <td>1.000000</td>\n",
       "    </tr>\n",
       "    <tr>\n",
       "      <th>75%</th>\n",
       "      <td>374999.250000</td>\n",
       "      <td>2.000000</td>\n",
       "      <td>1.000000</td>\n",
       "      <td>3.000000</td>\n",
       "      <td>1.000000</td>\n",
       "      <td>266.000000</td>\n",
       "      <td>3.000000</td>\n",
       "      <td>314.000000</td>\n",
       "      <td>37.000000</td>\n",
       "      <td>246.000000</td>\n",
       "      <td>...</td>\n",
       "      <td>2.000000</td>\n",
       "      <td>117.000000</td>\n",
       "      <td>6467.000000</td>\n",
       "      <td>46.020000</td>\n",
       "      <td>75351.000000</td>\n",
       "      <td>100.000000</td>\n",
       "      <td>1780.000000</td>\n",
       "      <td>2309.000000</td>\n",
       "      <td>5436.000000</td>\n",
       "      <td>1.000000</td>\n",
       "    </tr>\n",
       "    <tr>\n",
       "      <th>max</th>\n",
       "      <td>499999.000000</td>\n",
       "      <td>4.000000</td>\n",
       "      <td>3.000000</td>\n",
       "      <td>3.000000</td>\n",
       "      <td>3.000000</td>\n",
       "      <td>100878.000000</td>\n",
       "      <td>3.000000</td>\n",
       "      <td>408.000000</td>\n",
       "      <td>52.000000</td>\n",
       "      <td>324.000000</td>\n",
       "      <td>...</td>\n",
       "      <td>4.000000</td>\n",
       "      <td>10139.000000</td>\n",
       "      <td>37097.000000</td>\n",
       "      <td>100.000000</td>\n",
       "      <td>125248.000000</td>\n",
       "      <td>100.000000</td>\n",
       "      <td>8771.000000</td>\n",
       "      <td>13623.000000</td>\n",
       "      <td>6508.000000</td>\n",
       "      <td>1.000000</td>\n",
       "    </tr>\n",
       "  </tbody>\n",
       "</table>\n",
       "<p>8 rows × 22 columns</p>\n",
       "</div>"
      ],
      "text/plain": [
       "              row_id      loan_type  property_type   loan_purpose  \\\n",
       "count  500000.000000  500000.000000  500000.000000  500000.000000   \n",
       "mean   249999.500000       1.366276       1.047650       2.066810   \n",
       "std    144337.711634       0.690555       0.231404       0.948371   \n",
       "min         0.000000       1.000000       1.000000       1.000000   \n",
       "25%    124999.750000       1.000000       1.000000       1.000000   \n",
       "50%    249999.500000       1.000000       1.000000       2.000000   \n",
       "75%    374999.250000       2.000000       1.000000       3.000000   \n",
       "max    499999.000000       4.000000       3.000000       3.000000   \n",
       "\n",
       "           occupancy    loan_amount    preapproval         msa_md  \\\n",
       "count  500000.000000  500000.000000  500000.000000  500000.000000   \n",
       "mean        1.109590     221.753158       2.764722     181.606972   \n",
       "std         0.326092     590.641648       0.543061     138.464169   \n",
       "min         1.000000       1.000000       1.000000      -1.000000   \n",
       "25%         1.000000      93.000000       3.000000      25.000000   \n",
       "50%         1.000000     162.000000       3.000000     192.000000   \n",
       "75%         1.000000     266.000000       3.000000     314.000000   \n",
       "max         3.000000  100878.000000       3.000000     408.000000   \n",
       "\n",
       "          state_code    county_code      ...        applicant_sex  \\\n",
       "count  500000.000000  500000.000000      ...        500000.000000   \n",
       "mean       23.726924     144.542062      ...             1.462374   \n",
       "std        15.982768     100.243612      ...             0.677685   \n",
       "min        -1.000000      -1.000000      ...             1.000000   \n",
       "25%         6.000000      57.000000      ...             1.000000   \n",
       "50%        26.000000     131.000000      ...             1.000000   \n",
       "75%        37.000000     246.000000      ...             2.000000   \n",
       "max        52.000000     324.000000      ...             4.000000   \n",
       "\n",
       "       applicant_income     population  minority_population_pct  \\\n",
       "count     460052.000000  477535.000000            477534.000000   \n",
       "mean         102.389521    5416.833956                31.617310   \n",
       "std          153.534496    2728.144999                26.333938   \n",
       "min            1.000000      14.000000                 0.534000   \n",
       "25%           47.000000    3744.000000                10.700000   \n",
       "50%           74.000000    4975.000000                22.901000   \n",
       "75%          117.000000    6467.000000                46.020000   \n",
       "max        10139.000000   37097.000000               100.000000   \n",
       "\n",
       "       ffiecmedian_family_income  tract_to_msa_md_income_pct  \\\n",
       "count              477560.000000               477486.000000   \n",
       "mean                69235.603298                   91.832624   \n",
       "std                 14810.058791                   14.210924   \n",
       "min                 17858.000000                    3.981000   \n",
       "25%                 59731.000000                   88.067250   \n",
       "50%                 67526.000000                  100.000000   \n",
       "75%                 75351.000000                  100.000000   \n",
       "max                125248.000000                  100.000000   \n",
       "\n",
       "       number_of_owner-occupied_units  number_of_1_to_4_family_units  \\\n",
       "count                   477435.000000                  477470.000000   \n",
       "mean                      1427.718282                    1886.147065   \n",
       "std                        737.559511                     914.123744   \n",
       "min                          4.000000                       1.000000   \n",
       "25%                        944.000000                    1301.000000   \n",
       "50%                       1327.000000                    1753.000000   \n",
       "75%                       1780.000000                    2309.000000   \n",
       "max                       8771.000000                   13623.000000   \n",
       "\n",
       "              lender       accepted  \n",
       "count  500000.000000  500000.000000  \n",
       "mean     3720.121344       0.500228  \n",
       "std      1838.313175       0.500000  \n",
       "min         0.000000       0.000000  \n",
       "25%      2442.000000       0.000000  \n",
       "50%      3731.000000       1.000000  \n",
       "75%      5436.000000       1.000000  \n",
       "max      6508.000000       1.000000  \n",
       "\n",
       "[8 rows x 22 columns]"
      ]
     },
     "execution_count": 10,
     "metadata": {},
     "output_type": "execute_result"
    }
   ],
   "source": [
    "train.describe()"
   ]
  },
  {
   "cell_type": "code",
   "execution_count": 724,
   "metadata": {},
   "outputs": [
    {
     "data": {
      "text/plain": [
       "221.753158"
      ]
     },
     "execution_count": 724,
     "metadata": {},
     "output_type": "execute_result"
    }
   ],
   "source": [
    "train['loan_amount'].mean()"
   ]
  },
  {
   "cell_type": "code",
   "execution_count": 611,
   "metadata": {},
   "outputs": [
    {
     "data": {
      "text/plain": [
       "100878.0"
      ]
     },
     "execution_count": 611,
     "metadata": {},
     "output_type": "execute_result"
    }
   ],
   "source": [
    "train['loan_amount'].max()"
   ]
  },
  {
   "cell_type": "code",
   "execution_count": null,
   "metadata": {},
   "outputs": [],
   "source": [
    "facet = sns.FacetGrid(join_train,hue='accepted',aspect=4)\n",
    "facet.map(sns.kdeplot,'applicant_income',shade=True)\n",
    "facet.set(xlim=(0,join_train['applicant_income'].max()))\n",
    "facet.add_legend()\n",
    "plt.xlim(0,400)\n",
    "plt.show()"
   ]
  },
  {
   "cell_type": "code",
   "execution_count": 39,
   "metadata": {},
   "outputs": [],
   "source": [
    "train.fillna(-999,inplace=True)\n",
    "test.fillna(-999,inplace=True)"
   ]
  },
  {
   "cell_type": "code",
   "execution_count": 25,
   "metadata": {},
   "outputs": [
    {
     "data": {
      "image/png": "[encoded data removed]",
      "text/plain": [
       "<Figure size 720x504 with 1 Axes>"
      ]
     },
     "metadata": {
      "needs_background": "light"
     },
     "output_type": "display_data"
    }
   ],
   "source": [
    "plt.figure(figsize=(10,7))\n",
    "sns.distplot(train['loan_amount'])\n",
    "plt.title(\"Distribution of Loan Amount\")\n",
    "plt.ylabel(\"Frequency\")\n",
    "plt.xlabel('Loan Amount')\n",
    "plt.tight_layout()\n",
    "plt.show()"
   ]
  },
  {
   "cell_type": "code",
   "execution_count": 33,
   "metadata": {
    "scrolled": true
   },
   "outputs": [
    {
     "data": {
      "image/png": "[encoded data removed]",
      "text/plain": [
       "<Figure size 576x504 with 1 Axes>"
      ]
     },
     "metadata": {
      "needs_background": "light"
     },
     "output_type": "display_data"
    }
   ],
   "source": [
    "plt.figure(figsize=(8,7))\n",
    "sns.distplot(train['applicant_income'])\n",
    "plt.title(\"Distribution of Loan Amount\")\n",
    "plt.ylabel(\"Frequency\")\n",
    "plt.xlabel('Applicant Income')\n",
    "plt.tight_layout()\n",
    "plt.show()"
   ]
  },
  {
   "cell_type": "code",
   "execution_count": 36,
   "metadata": {},
   "outputs": [
    {
     "data": {
      "text/plain": [
       "<Figure size 1080x720 with 0 Axes>"
      ]
     },
     "metadata": {},
     "output_type": "display_data"
    },
    {
     "data": {
      "image/png": "[encoded data removed]",
      "text/plain": [
       "<Figure size 927.25x216 with 1 Axes>"
      ]
     },
     "metadata": {
      "needs_background": "light"
     },
     "output_type": "display_data"
    }
   ],
   "source": [
    "plt.figure(figsize=(15,10))\n",
    "facet = sns.FacetGrid(train,hue='accepted',aspect=4)\n",
    "facet.map(sns.kdeplot,'applicant_income',shade=True)\n",
    "facet.set(xlim=(0,train['applicant_income'].max()))\n",
    "facet.add_legend()\n",
    "plt.title(\"Distribution of Applicant Income and Acceptance Rate\")\n",
    "plt.ylabel(\"Frequency\")\n",
    "plt.xlabel('Applicant Income')\n",
    "plt.tight_layout()\n",
    "plt.xlim(0,400)\n",
    "plt.show()"
   ]
  },
  {
   "cell_type": "code",
   "execution_count": 206,
   "metadata": {},
   "outputs": [
    {
     "data": {
      "text/plain": [
       "<matplotlib.axes._subplots.AxesSubplot at 0x46124d8550>"
      ]
     },
     "execution_count": 206,
     "metadata": {},
     "output_type": "execute_result"
    },
    {
     "data": {
      "image/png": "[encoded data removed]",
      "text/plain": [
       "<Figure size 720x504 with 1 Axes>"
      ]
     },
     "metadata": {
      "needs_background": "light"
     },
     "output_type": "display_data"
    }
   ],
   "source": [
    "plt.figure(figsize=(10,7))\n",
    "sns.boxplot(x='loan_amount',data=train)"
   ]
  },
  {
   "cell_type": "code",
   "execution_count": 14,
   "metadata": {},
   "outputs": [
    {
     "data": {
      "text/plain": [
       "<matplotlib.axes._subplots.AxesSubplot at 0xa88568ce10>"
      ]
     },
     "execution_count": 14,
     "metadata": {},
     "output_type": "execute_result"
    },
    {
     "data": {
      "image/png": "[encoded data removed]",
      "text/plain": [
       "<Figure size 720x504 with 1 Axes>"
      ]
     },
     "metadata": {
      "needs_background": "light"
     },
     "output_type": "display_data"
    }
   ],
   "source": [
    "plt.figure(figsize=(10,7))\n",
    "plt.title(\"Acceptance Rate by Loan Purpose\")\n",
    "plt.ylabel(\"Acceptance Rate\")\n",
    "plt.xlabel('Loan Purpose')\n",
    "plt.tight_layout()\n",
    "train.groupby(['loan_purpose'])['accepted'].mean().plot.bar()"
   ]
  },
  {
   "cell_type": "code",
   "execution_count": 15,
   "metadata": {},
   "outputs": [
    {
     "data": {
      "text/plain": [
       "<matplotlib.axes._subplots.AxesSubplot at 0xa885703a58>"
      ]
     },
     "execution_count": 15,
     "metadata": {},
     "output_type": "execute_result"
    },
    {
     "data": {
      "image/png": "[encoded data removed]",
      "text/plain": [
       "<Figure size 720x504 with 1 Axes>"
      ]
     },
     "metadata": {
      "needs_background": "light"
     },
     "output_type": "display_data"
    }
   ],
   "source": [
    "plt.figure(figsize=(10,7))\n",
    "plt.title(\"Acceptance Rate by Loan Type\")\n",
    "plt.ylabel(\"Acceptance Rate\")\n",
    "plt.xlabel('Loan Type')\n",
    "plt.tight_layout()\n",
    "train.groupby(['loan_type'])['accepted'].mean().plot.bar()"
   ]
  },
  {
   "cell_type": "code",
   "execution_count": 16,
   "metadata": {},
   "outputs": [
    {
     "data": {
      "text/plain": [
       "<matplotlib.axes._subplots.AxesSubplot at 0xa885703ef0>"
      ]
     },
     "execution_count": 16,
     "metadata": {},
     "output_type": "execute_result"
    },
    {
     "data": {
      "image/png": "[encoded data removed]",
      "text/plain": [
       "<Figure size 720x504 with 1 Axes>"
      ]
     },
     "metadata": {
      "needs_background": "light"
     },
     "output_type": "display_data"
    }
   ],
   "source": [
    "plt.figure(figsize=(10,7))\n",
    "plt.title(\"Acceptance Rate by Applicant Race\")\n",
    "plt.ylabel(\"Acceptance Rate\")\n",
    "plt.xlabel('Applicant Race')\n",
    "plt.tight_layout()\n",
    "train.groupby(['applicant_race'])['accepted'].mean().plot.bar()"
   ]
  },
  {
   "cell_type": "code",
   "execution_count": 38,
   "metadata": {},
   "outputs": [
    {
     "data": {
      "text/plain": [
       "<matplotlib.axes._subplots.AxesSubplot at 0xa89e7006d8>"
      ]
     },
     "execution_count": 38,
     "metadata": {},
     "output_type": "execute_result"
    },
    {
     "data": {
      "image/png": "[encoded data removed]",
      "text/plain": [
       "<Figure size 720x504 with 1 Axes>"
      ]
     },
     "metadata": {
      "needs_background": "light"
     },
     "output_type": "display_data"
    }
   ],
   "source": [
    "plt.figure(figsize=(10,7))\n",
    "plt.title(\"Acceptance ethnicity by Applicant Race\")\n",
    "plt.ylabel(\"Acceptance ethnicity\")\n",
    "plt.xlabel('Applicant ethnicity')\n",
    "plt.tight_layout()\n",
    "train.groupby(['applicant_ethnicity'])['accepted'].mean().plot.bar()"
   ]
  },
  {
   "cell_type": "code",
   "execution_count": 48,
   "metadata": {},
   "outputs": [
    {
     "data": {
      "image/png": "[encoded data removed]",
      "text/plain": [
       "<Figure size 1800x1440 with 2 Axes>"
      ]
     },
     "metadata": {
      "needs_background": "light"
     },
     "output_type": "display_data"
    }
   ],
   "source": [
    "plt.figure(figsize=(25,20))\n",
    "sns.heatmap(train.corr()).get_figure().savefig('Heat Map Correlation of features')\n"
   ]
  },
  {
   "cell_type": "code",
   "execution_count": 55,
   "metadata": {},
   "outputs": [
    {
     "data": {
      "text/plain": [
       "<matplotlib.axes._subplots.AxesSubplot at 0xa8b9b72390>"
      ]
     },
     "execution_count": 55,
     "metadata": {},
     "output_type": "execute_result"
    },
    {
     "data": {
      "image/png": "[encoded data removed]",
      "text/plain": [
       "<Figure size 864x504 with 1 Axes>"
      ]
     },
     "metadata": {
      "needs_background": "light"
     },
     "output_type": "display_data"
    }
   ],
   "source": [
    "plt.figure(figsize=(12,7))\n",
    "plt.title(\"Accepted Loan Application\")\n",
    "train['accepted'].value_counts().plot.bar()"
   ]
  },
  {
   "cell_type": "code",
   "execution_count": 77,
   "metadata": {},
   "outputs": [
    {
     "name": "stdout",
     "output_type": "stream",
     "text": [
      "<class 'pandas.core.frame.DataFrame'>\n",
      "Int64Index: 154463 entries, 2 to 499999\n",
      "Data columns (total 23 columns):\n",
      "row_id                            154463 non-null int64\n",
      "loan_type                         154463 non-null int64\n",
      "property_type                     154463 non-null int64\n",
      "loan_purpose                      154463 non-null int64\n",
      "occupancy                         154463 non-null int64\n",
      "loan_amount                       154463 non-null float64\n",
      "preapproval                       154463 non-null int64\n",
      "msa_md                            154463 non-null int64\n",
      "state_code                        154463 non-null int64\n",
      "county_code                       154463 non-null int64\n",
      "applicant_ethnicity               154463 non-null int64\n",
      "applicant_race                    154463 non-null int64\n",
      "applicant_sex                     154463 non-null int64\n",
      "applicant_income                  142261 non-null float64\n",
      "population                        153062 non-null float64\n",
      "minority_population_pct           153061 non-null float64\n",
      "ffiecmedian_family_income         153072 non-null float64\n",
      "tract_to_msa_md_income_pct        153056 non-null float64\n",
      "number_of_owner-occupied_units    153055 non-null float64\n",
      "number_of_1_to_4_family_units     153055 non-null float64\n",
      "lender                            154463 non-null int64\n",
      "co_applicant                      154463 non-null bool\n",
      "accepted                          154463 non-null int64\n",
      "dtypes: bool(1), float64(8), int64(14)\n",
      "memory usage: 27.3 MB\n"
     ]
    }
   ],
   "source": [
    "train.info()"
   ]
  },
  {
   "cell_type": "code",
   "execution_count": 228,
   "metadata": {},
   "outputs": [
    {
     "data": {
      "text/plain": [
       "1    0.500228\n",
       "0    0.499772\n",
       "Name: accepted, dtype: float64"
      ]
     },
     "execution_count": 228,
     "metadata": {},
     "output_type": "execute_result"
    }
   ],
   "source": [
    "train['accepted'].value_counts(normalize=True)"
   ]
  },
  {
   "cell_type": "code",
   "execution_count": 229,
   "metadata": {},
   "outputs": [
    {
     "data": {
      "text/plain": [
       "0.6299807976879397"
      ]
     },
     "execution_count": 229,
     "metadata": {},
     "output_type": "execute_result"
    }
   ],
   "source": [
    "appli_45= train[train['state_code']==45]\n",
    "appli_45['applicant_income'].corr(appli_45['loan_amount'])"
   ]
  },
  {
   "cell_type": "code",
   "execution_count": 230,
   "metadata": {},
   "outputs": [
    {
     "data": {
      "text/plain": [
       "county_code  accepted\n",
       "2            0           0.544118\n",
       "             1           0.455882\n",
       "3            1           0.513158\n",
       "             0           0.486842\n",
       "10           1           0.643836\n",
       "Name: accepted, dtype: float64"
      ]
     },
     "execution_count": 230,
     "metadata": {},
     "output_type": "execute_result"
    }
   ],
   "source": [
    "train[(train['state_code']==48) & (train['county_code'] != -1)].groupby(['county_code'])['accepted'].value_counts(normalize=True).head()"
   ]
  },
  {
   "cell_type": "code",
   "execution_count": 28,
   "metadata": {},
   "outputs": [],
   "source": [
    "overall= train[(train['state_code']==2) |(train['state_code'] == 4)]\n",
    "state_2= train[train['state_code']==2]\n",
    "state_4 = train[train['state_code']==4]"
   ]
  },
  {
   "cell_type": "code",
   "execution_count": 29,
   "metadata": {},
   "outputs": [
    {
     "name": "stdout",
     "output_type": "stream",
     "text": [
      "loan_type  accepted\n",
      "1          0           56.983829\n",
      "           1           43.016171\n",
      "2          1           50.336521\n",
      "           0           49.663479\n",
      "3          1           53.111740\n",
      "           0           46.888260\n",
      "4          0           53.875969\n",
      "           1           46.124031\n",
      "Name: accepted, dtype: float64\n",
      "\n",
      "0    0.517332\n",
      "1    0.482668\n",
      "Name: accepted, dtype: float64\n"
     ]
    }
   ],
   "source": [
    "print(state_2.groupby(['loan_type'])['accepted'].value_counts(normalize=True)*100)\n",
    "\n",
    "print()\n",
    "print(overall['accepted'].value_counts(normalize=True))"
   ]
  },
  {
   "cell_type": "code",
   "execution_count": 30,
   "metadata": {},
   "outputs": [
    {
     "name": "stdout",
     "output_type": "stream",
     "text": [
      "loan_type  accepted\n",
      "1          1           55.446772\n",
      "           0           44.553228\n",
      "2          1           54.838710\n",
      "           0           45.161290\n",
      "3          1           63.561418\n",
      "           0           36.438582\n",
      "4          1           62.222222\n",
      "           0           37.777778\n",
      "Name: accepted, dtype: float64\n",
      "\n",
      "0    0.517332\n",
      "1    0.482668\n",
      "Name: accepted, dtype: float64\n"
     ]
    }
   ],
   "source": [
    "print(state_4.groupby(['loan_type'])['accepted'].value_counts(normalize=True)*100)\n",
    "\n",
    "print()\n",
    "print(overall['accepted'].value_counts(normalize=True))"
   ]
  },
  {
   "cell_type": "code",
   "execution_count": 31,
   "metadata": {},
   "outputs": [
    {
     "name": "stdout",
     "output_type": "stream",
     "text": [
      "****State 2****\n",
      "loan_type  accepted\n",
      "1          0           56.983829\n",
      "           1           43.016171\n",
      "2          1           50.336521\n",
      "           0           49.663479\n",
      "3          1           53.111740\n",
      "           0           46.888260\n",
      "4          0           53.875969\n",
      "           1           46.124031\n",
      "Name: accepted, dtype: float64\n",
      "\n",
      "****State 4*****\n",
      "loan_type  accepted\n",
      "1          1           55.446772\n",
      "           0           44.553228\n",
      "2          1           54.838710\n",
      "           0           45.161290\n",
      "3          1           63.561418\n",
      "           0           36.438582\n",
      "4          1           62.222222\n",
      "           0           37.777778\n",
      "Name: accepted, dtype: float64\n"
     ]
    }
   ],
   "source": [
    "print('****State 2****')\n",
    "print(state_2.groupby(['loan_type'])['accepted'].value_counts(normalize=True)*100)\n",
    "\n",
    "print()\n",
    "\n",
    "print(\"****State 4*****\")\n",
    "print(state_4.groupby(['loan_type'])['accepted'].value_counts(normalize=True)*100)"
   ]
  },
  {
   "cell_type": "code",
   "execution_count": 110,
   "metadata": {},
   "outputs": [
    {
     "data": {
      "text/html": [
       "<div>\n",
       "<style scoped>\n",
       "    .dataframe tbody tr th:only-of-type {\n",
       "        vertical-align: middle;\n",
       "    }\n",
       "\n",
       "    .dataframe tbody tr th {\n",
       "        vertical-align: top;\n",
       "    }\n",
       "\n",
       "    .dataframe thead th {\n",
       "        text-align: right;\n",
       "    }\n",
       "</style>\n",
       "<table border=\"1\" class=\"dataframe\">\n",
       "  <thead>\n",
       "    <tr style=\"text-align: right;\">\n",
       "      <th></th>\n",
       "      <th>0</th>\n",
       "      <th>1</th>\n",
       "      <th>2</th>\n",
       "      <th>3</th>\n",
       "      <th>4</th>\n",
       "    </tr>\n",
       "  </thead>\n",
       "  <tbody>\n",
       "    <tr>\n",
       "      <th>row_id</th>\n",
       "      <td>0</td>\n",
       "      <td>1</td>\n",
       "      <td>2</td>\n",
       "      <td>3</td>\n",
       "      <td>4</td>\n",
       "    </tr>\n",
       "    <tr>\n",
       "      <th>loan_type</th>\n",
       "      <td>3</td>\n",
       "      <td>1</td>\n",
       "      <td>2</td>\n",
       "      <td>1</td>\n",
       "      <td>1</td>\n",
       "    </tr>\n",
       "    <tr>\n",
       "      <th>property_type</th>\n",
       "      <td>1</td>\n",
       "      <td>1</td>\n",
       "      <td>1</td>\n",
       "      <td>1</td>\n",
       "      <td>1</td>\n",
       "    </tr>\n",
       "    <tr>\n",
       "      <th>loan_purpose</th>\n",
       "      <td>1</td>\n",
       "      <td>3</td>\n",
       "      <td>3</td>\n",
       "      <td>1</td>\n",
       "      <td>1</td>\n",
       "    </tr>\n",
       "    <tr>\n",
       "      <th>occupancy</th>\n",
       "      <td>1</td>\n",
       "      <td>1</td>\n",
       "      <td>1</td>\n",
       "      <td>1</td>\n",
       "      <td>1</td>\n",
       "    </tr>\n",
       "    <tr>\n",
       "      <th>loan_amount</th>\n",
       "      <td>70</td>\n",
       "      <td>178</td>\n",
       "      <td>163</td>\n",
       "      <td>155</td>\n",
       "      <td>305</td>\n",
       "    </tr>\n",
       "    <tr>\n",
       "      <th>preapproval</th>\n",
       "      <td>3</td>\n",
       "      <td>3</td>\n",
       "      <td>3</td>\n",
       "      <td>1</td>\n",
       "      <td>3</td>\n",
       "    </tr>\n",
       "    <tr>\n",
       "      <th>msa_md</th>\n",
       "      <td>18</td>\n",
       "      <td>369</td>\n",
       "      <td>16</td>\n",
       "      <td>305</td>\n",
       "      <td>24</td>\n",
       "    </tr>\n",
       "    <tr>\n",
       "      <th>state_code</th>\n",
       "      <td>37</td>\n",
       "      <td>52</td>\n",
       "      <td>10</td>\n",
       "      <td>47</td>\n",
       "      <td>37</td>\n",
       "    </tr>\n",
       "    <tr>\n",
       "      <th>county_code</th>\n",
       "      <td>246</td>\n",
       "      <td>299</td>\n",
       "      <td>306</td>\n",
       "      <td>180</td>\n",
       "      <td>20</td>\n",
       "    </tr>\n",
       "    <tr>\n",
       "      <th>applicant_ethnicity</th>\n",
       "      <td>2</td>\n",
       "      <td>1</td>\n",
       "      <td>2</td>\n",
       "      <td>2</td>\n",
       "      <td>2</td>\n",
       "    </tr>\n",
       "    <tr>\n",
       "      <th>applicant_race</th>\n",
       "      <td>5</td>\n",
       "      <td>5</td>\n",
       "      <td>5</td>\n",
       "      <td>5</td>\n",
       "      <td>3</td>\n",
       "    </tr>\n",
       "    <tr>\n",
       "      <th>applicant_sex</th>\n",
       "      <td>1</td>\n",
       "      <td>1</td>\n",
       "      <td>1</td>\n",
       "      <td>1</td>\n",
       "      <td>2</td>\n",
       "    </tr>\n",
       "    <tr>\n",
       "      <th>applicant_income</th>\n",
       "      <td>24</td>\n",
       "      <td>57</td>\n",
       "      <td>67</td>\n",
       "      <td>105</td>\n",
       "      <td>71</td>\n",
       "    </tr>\n",
       "    <tr>\n",
       "      <th>population</th>\n",
       "      <td>6203</td>\n",
       "      <td>5774</td>\n",
       "      <td>6094</td>\n",
       "      <td>6667</td>\n",
       "      <td>6732</td>\n",
       "    </tr>\n",
       "    <tr>\n",
       "      <th>minority_population_pct</th>\n",
       "      <td>44.23</td>\n",
       "      <td>15.905</td>\n",
       "      <td>61.27</td>\n",
       "      <td>6.246</td>\n",
       "      <td>100</td>\n",
       "    </tr>\n",
       "    <tr>\n",
       "      <th>ffiecmedian_family_income</th>\n",
       "      <td>60588</td>\n",
       "      <td>54821</td>\n",
       "      <td>67719</td>\n",
       "      <td>78439</td>\n",
       "      <td>63075</td>\n",
       "    </tr>\n",
       "    <tr>\n",
       "      <th>tract_to_msa_md_income_pct</th>\n",
       "      <td>50.933</td>\n",
       "      <td>100</td>\n",
       "      <td>100</td>\n",
       "      <td>100</td>\n",
       "      <td>82.2</td>\n",
       "    </tr>\n",
       "    <tr>\n",
       "      <th>number_of_owner-occupied_units</th>\n",
       "      <td>716</td>\n",
       "      <td>1622</td>\n",
       "      <td>760</td>\n",
       "      <td>2025</td>\n",
       "      <td>1464</td>\n",
       "    </tr>\n",
       "    <tr>\n",
       "      <th>number_of_1_to_4_family_units</th>\n",
       "      <td>2642</td>\n",
       "      <td>2108</td>\n",
       "      <td>1048</td>\n",
       "      <td>2299</td>\n",
       "      <td>1847</td>\n",
       "    </tr>\n",
       "    <tr>\n",
       "      <th>lender</th>\n",
       "      <td>4536</td>\n",
       "      <td>2458</td>\n",
       "      <td>5710</td>\n",
       "      <td>5888</td>\n",
       "      <td>289</td>\n",
       "    </tr>\n",
       "    <tr>\n",
       "      <th>co_applicant</th>\n",
       "      <td>False</td>\n",
       "      <td>False</td>\n",
       "      <td>False</td>\n",
       "      <td>True</td>\n",
       "      <td>False</td>\n",
       "    </tr>\n",
       "    <tr>\n",
       "      <th>accepted</th>\n",
       "      <td>1</td>\n",
       "      <td>0</td>\n",
       "      <td>1</td>\n",
       "      <td>1</td>\n",
       "      <td>1</td>\n",
       "    </tr>\n",
       "  </tbody>\n",
       "</table>\n",
       "</div>"
      ],
      "text/plain": [
       "                                     0       1      2      3      4\n",
       "row_id                               0       1      2      3      4\n",
       "loan_type                            3       1      2      1      1\n",
       "property_type                        1       1      1      1      1\n",
       "loan_purpose                         1       3      3      1      1\n",
       "occupancy                            1       1      1      1      1\n",
       "loan_amount                         70     178    163    155    305\n",
       "preapproval                          3       3      3      1      3\n",
       "msa_md                              18     369     16    305     24\n",
       "state_code                          37      52     10     47     37\n",
       "county_code                        246     299    306    180     20\n",
       "applicant_ethnicity                  2       1      2      2      2\n",
       "applicant_race                       5       5      5      5      3\n",
       "applicant_sex                        1       1      1      1      2\n",
       "applicant_income                    24      57     67    105     71\n",
       "population                        6203    5774   6094   6667   6732\n",
       "minority_population_pct          44.23  15.905  61.27  6.246    100\n",
       "ffiecmedian_family_income        60588   54821  67719  78439  63075\n",
       "tract_to_msa_md_income_pct      50.933     100    100    100   82.2\n",
       "number_of_owner-occupied_units     716    1622    760   2025   1464\n",
       "number_of_1_to_4_family_units     2642    2108   1048   2299   1847\n",
       "lender                            4536    2458   5710   5888    289\n",
       "co_applicant                     False   False  False   True  False\n",
       "accepted                             1       0      1      1      1"
      ]
     },
     "execution_count": 110,
     "metadata": {},
     "output_type": "execute_result"
    }
   ],
   "source": [
    "train.head().T"
   ]
  },
  {
   "cell_type": "code",
   "execution_count": 538,
   "metadata": {},
   "outputs": [],
   "source": [
    "def bar_chart(feature):\n",
    "    accepted = train[train['accepted']==1][feature].value_counts()\n",
    "    rejected = train[train['accepted']==0][feature].value_counts()\n",
    "    df = pd.DataFrame([accepted,rejected])\n",
    "    df.index = ['accepted','rejected']\n",
    "    df.plot(kind='bar',stacked=True, figsize=(12,8))"
   ]
  },
  {
   "cell_type": "code",
   "execution_count": 232,
   "metadata": {},
   "outputs": [
    {
     "data": {
      "image/png": "[encoded data removed]",
      "text/plain": [
       "<Figure size 864x576 with 1 Axes>"
      ]
     },
     "metadata": {},
     "output_type": "display_data"
    }
   ],
   "source": [
    "bar_chart('loan_type')"
   ]
  },
  {
   "cell_type": "code",
   "execution_count": 233,
   "metadata": {},
   "outputs": [
    {
     "data": {
      "image/png": "[encoded data removed]",
      "text/plain": [
       "<Figure size 864x576 with 1 Axes>"
      ]
     },
     "metadata": {},
     "output_type": "display_data"
    }
   ],
   "source": [
    "bar_chart('applicant_race')"
   ]
  },
  {
   "cell_type": "code",
   "execution_count": 234,
   "metadata": {},
   "outputs": [
    {
     "data": {
      "text/plain": [
       "applicant_race  accepted\n",
       "1               0           0.664127\n",
       "                1           0.335873\n",
       "2               1           0.536807\n",
       "                0           0.463193\n",
       "3               0           0.674602\n",
       "                1           0.325398\n",
       "4               0           0.579735\n",
       "                1           0.420265\n",
       "5               1           0.531916\n",
       "                0           0.468084\n",
       "6               0           0.601584\n",
       "                1           0.398416\n",
       "7               1           0.795174\n",
       "                0           0.204826\n",
       "Name: accepted, dtype: float64"
      ]
     },
     "execution_count": 234,
     "metadata": {},
     "output_type": "execute_result"
    }
   ],
   "source": [
    "train.groupby(['applicant_race'])['accepted'].value_counts(normalize=True)"
   ]
  },
  {
   "cell_type": "code",
   "execution_count": 235,
   "metadata": {},
   "outputs": [
    {
     "data": {
      "image/png": "[encoded data removed]",
      "text/plain": [
       "<Figure size 864x576 with 1 Axes>"
      ]
     },
     "metadata": {},
     "output_type": "display_data"
    }
   ],
   "source": [
    "bar_chart('applicant_sex')"
   ]
  },
  {
   "cell_type": "code",
   "execution_count": 582,
   "metadata": {},
   "outputs": [
    {
     "data": {
      "image/png": "[encoded data removed]",
      "text/plain": [
       "<Figure size 864x576 with 1 Axes>"
      ]
     },
     "metadata": {},
     "output_type": "display_data"
    }
   ],
   "source": [
    "bar_chart('loan_purpose')"
   ]
  },
  {
   "cell_type": "code",
   "execution_count": 139,
   "metadata": {},
   "outputs": [
    {
     "data": {
      "text/html": [
       "<div>\n",
       "<style scoped>\n",
       "    .dataframe tbody tr th:only-of-type {\n",
       "        vertical-align: middle;\n",
       "    }\n",
       "\n",
       "    .dataframe tbody tr th {\n",
       "        vertical-align: top;\n",
       "    }\n",
       "\n",
       "    .dataframe thead th {\n",
       "        text-align: right;\n",
       "    }\n",
       "</style>\n",
       "<table border=\"1\" class=\"dataframe\">\n",
       "  <thead>\n",
       "    <tr style=\"text-align: right;\">\n",
       "      <th></th>\n",
       "      <th>row_id</th>\n",
       "      <th>loan_type</th>\n",
       "      <th>property_type</th>\n",
       "      <th>loan_purpose</th>\n",
       "      <th>occupancy</th>\n",
       "      <th>loan_amount</th>\n",
       "      <th>preapproval</th>\n",
       "      <th>msa_md</th>\n",
       "      <th>state_code</th>\n",
       "      <th>county_code</th>\n",
       "      <th>...</th>\n",
       "      <th>applicant_income</th>\n",
       "      <th>population</th>\n",
       "      <th>minority_population_pct</th>\n",
       "      <th>ffiecmedian_family_income</th>\n",
       "      <th>tract_to_msa_md_income_pct</th>\n",
       "      <th>number_of_owner-occupied_units</th>\n",
       "      <th>number_of_1_to_4_family_units</th>\n",
       "      <th>lender</th>\n",
       "      <th>co_applicant</th>\n",
       "      <th>accepted</th>\n",
       "    </tr>\n",
       "  </thead>\n",
       "  <tbody>\n",
       "    <tr>\n",
       "      <th>0</th>\n",
       "      <td>0</td>\n",
       "      <td>3</td>\n",
       "      <td>1</td>\n",
       "      <td>1</td>\n",
       "      <td>1</td>\n",
       "      <td>70.0</td>\n",
       "      <td>3</td>\n",
       "      <td>18</td>\n",
       "      <td>37</td>\n",
       "      <td>246</td>\n",
       "      <td>...</td>\n",
       "      <td>24.0</td>\n",
       "      <td>6203.0</td>\n",
       "      <td>44.23</td>\n",
       "      <td>60588.0</td>\n",
       "      <td>50.933</td>\n",
       "      <td>716.0</td>\n",
       "      <td>2642.0</td>\n",
       "      <td>4536</td>\n",
       "      <td>False</td>\n",
       "      <td>1</td>\n",
       "    </tr>\n",
       "  </tbody>\n",
       "</table>\n",
       "<p>1 rows × 23 columns</p>\n",
       "</div>"
      ],
      "text/plain": [
       "   row_id  loan_type  property_type  loan_purpose  occupancy  loan_amount  \\\n",
       "0       0          3              1             1          1         70.0   \n",
       "\n",
       "   preapproval  msa_md  state_code  county_code    ...     applicant_income  \\\n",
       "0            3      18          37          246    ...                 24.0   \n",
       "\n",
       "   population  minority_population_pct  ffiecmedian_family_income  \\\n",
       "0      6203.0                    44.23                    60588.0   \n",
       "\n",
       "   tract_to_msa_md_income_pct  number_of_owner-occupied_units  \\\n",
       "0                      50.933                           716.0   \n",
       "\n",
       "   number_of_1_to_4_family_units  lender  co_applicant  accepted  \n",
       "0                         2642.0    4536         False         1  \n",
       "\n",
       "[1 rows x 23 columns]"
      ]
     },
     "execution_count": 139,
     "metadata": {},
     "output_type": "execute_result"
    }
   ],
   "source": [
    "train.head(1)"
   ]
  },
  {
   "cell_type": "code",
   "execution_count": 236,
   "metadata": {},
   "outputs": [
    {
     "data": {
      "image/png": "[encoded data removed]",
      "text/plain": [
       "<Figure size 864x576 with 1 Axes>"
      ]
     },
     "metadata": {},
     "output_type": "display_data"
    }
   ],
   "source": [
    "bar_chart('preapproval')"
   ]
  },
  {
   "cell_type": "code",
   "execution_count": 584,
   "metadata": {},
   "outputs": [
    {
     "data": {
      "image/png": "[encoded data removed]",
      "text/plain": [
       "<Figure size 864x576 with 1 Axes>"
      ]
     },
     "metadata": {},
     "output_type": "display_data"
    }
   ],
   "source": [
    "bar_chart('applicant_ethnicity')"
   ]
  },
  {
   "cell_type": "code",
   "execution_count": 612,
   "metadata": {},
   "outputs": [
    {
     "data": {
      "text/plain": [
       "<matplotlib.axes._subplots.AxesSubplot at 0xcbbc5054a8>"
      ]
     },
     "execution_count": 612,
     "metadata": {},
     "output_type": "execute_result"
    },
    {
     "data": {
      "image/png": "[encoded data removed]",
      "text/plain": [
       "<Figure size 720x504 with 1 Axes>"
      ]
     },
     "metadata": {
      "needs_background": "light"
     },
     "output_type": "display_data"
    }
   ],
   "source": [
    "plt.figure(figsize=(10,7))\n",
    "sns.countplot(x='applicant_race',data=train)"
   ]
  },
  {
   "cell_type": "code",
   "execution_count": null,
   "metadata": {},
   "outputs": [],
   "source": []
  },
  {
   "cell_type": "code",
   "execution_count": 613,
   "metadata": {},
   "outputs": [],
   "source": [
    "train['race'] = train['applicant_race'].apply(lambda x: '1' if x==5 else '0') "
   ]
  },
  {
   "cell_type": "code",
   "execution_count": 614,
   "metadata": {},
   "outputs": [],
   "source": [
    "train.drop(['applicant_race'],axis=1,inplace=True)"
   ]
  },
  {
   "cell_type": "code",
   "execution_count": 615,
   "metadata": {},
   "outputs": [],
   "source": [
    "test['race'] = test['applicant_race'].apply(lambda x: '1' if x==5 else '0') "
   ]
  },
  {
   "cell_type": "code",
   "execution_count": 616,
   "metadata": {},
   "outputs": [],
   "source": [
    "test.drop(['applicant_race'],axis=1,inplace=True)"
   ]
  },
  {
   "cell_type": "code",
   "execution_count": 440,
   "metadata": {},
   "outputs": [
    {
     "data": {
      "text/plain": [
       "<matplotlib.axes._subplots.AxesSubplot at 0xcb93d944e0>"
      ]
     },
     "execution_count": 440,
     "metadata": {},
     "output_type": "execute_result"
    },
    {
     "data": {
      "image/png": "[encoded data removed]",
      "text/plain": [
       "<Figure size 720x504 with 1 Axes>"
      ]
     },
     "metadata": {
      "needs_background": "light"
     },
     "output_type": "display_data"
    }
   ],
   "source": [
    "plt.figure(figsize=(10,7))\n",
    "sns.countplot(x='applicant_sex',data=train)"
   ]
  },
  {
   "cell_type": "code",
   "execution_count": 443,
   "metadata": {},
   "outputs": [
    {
     "data": {
      "text/plain": [
       "<matplotlib.axes._subplots.AxesSubplot at 0xcb8ab528d0>"
      ]
     },
     "execution_count": 443,
     "metadata": {},
     "output_type": "execute_result"
    },
    {
     "data": {
      "image/png": "[encoded data removed]",
      "text/plain": [
       "<Figure size 720x504 with 1 Axes>"
      ]
     },
     "metadata": {
      "needs_background": "light"
     },
     "output_type": "display_data"
    }
   ],
   "source": [
    "plt.figure(figsize=(10,7))\n",
    "sns.countplot(x='occupancy',data=train)"
   ]
  },
  {
   "cell_type": "code",
   "execution_count": 617,
   "metadata": {},
   "outputs": [],
   "source": [
    "train['occupancy'] = train['occupancy'].apply(lambda x: 1 if x==1 else '0')\n",
    "test['occupancy'] = test['occupancy'].apply(lambda x: 1 if x==1 else '0')\n"
   ]
  },
  {
   "cell_type": "code",
   "execution_count": 618,
   "metadata": {},
   "outputs": [
    {
     "data": {
      "text/plain": [
       "<matplotlib.axes._subplots.AxesSubplot at 0xcb8ff31ef0>"
      ]
     },
     "execution_count": 618,
     "metadata": {},
     "output_type": "execute_result"
    },
    {
     "data": {
      "image/png": "[encoded data removed]",
      "text/plain": [
       "<Figure size 720x504 with 1 Axes>"
      ]
     },
     "metadata": {
      "needs_background": "light"
     },
     "output_type": "display_data"
    }
   ],
   "source": [
    "plt.figure(figsize=(10,7))\n",
    "sns.countplot(x='preapproval',data=train)"
   ]
  },
  {
   "cell_type": "code",
   "execution_count": 452,
   "metadata": {},
   "outputs": [
    {
     "data": {
      "text/plain": [
       "<matplotlib.axes._subplots.AxesSubplot at 0xcb8ac098d0>"
      ]
     },
     "execution_count": 452,
     "metadata": {},
     "output_type": "execute_result"
    },
    {
     "data": {
      "image/png": "[encoded data removed]",
      "text/plain": [
       "<Figure size 720x504 with 1 Axes>"
      ]
     },
     "metadata": {
      "needs_background": "light"
     },
     "output_type": "display_data"
    }
   ],
   "source": [
    "plt.figure(figsize=(10,7))\n",
    "sns.countplot(x='loan_type',data=train)"
   ]
  },
  {
   "cell_type": "code",
   "execution_count": 540,
   "metadata": {},
   "outputs": [
    {
     "data": {
      "image/png": "[encoded data removed]",
      "text/plain": [
       "<Figure size 864x576 with 1 Axes>"
      ]
     },
     "metadata": {
      "needs_background": "light"
     },
     "output_type": "display_data"
    }
   ],
   "source": [
    "bar_chart('applicant_sex')"
   ]
  },
  {
   "cell_type": "code",
   "execution_count": 619,
   "metadata": {
    "scrolled": true
   },
   "outputs": [],
   "source": [
    "sex={1:'M', 2:'F', 3:'others', 4:'others'}\n",
    "dataset=[train,test]\n",
    "for data in dataset:\n",
    "    data['applicant_sex']=data['applicant_sex'].replace(sex)"
   ]
  },
  {
   "cell_type": "code",
   "execution_count": 454,
   "metadata": {},
   "outputs": [],
   "source": [
    "data_missing = (train.isnull().sum()/len(train))*100\n",
    "data_missing = data_missing.drop(data_missing[data_missing==0].index).sort_values(ascending=False)"
   ]
  },
  {
   "cell_type": "code",
   "execution_count": 455,
   "metadata": {},
   "outputs": [],
   "source": [
    "missing_data = pd.DataFrame({'Missing Percentage': data_missing})"
   ]
  },
  {
   "cell_type": "code",
   "execution_count": 456,
   "metadata": {},
   "outputs": [
    {
     "data": {
      "text/html": [
       "<div>\n",
       "<style scoped>\n",
       "    .dataframe tbody tr th:only-of-type {\n",
       "        vertical-align: middle;\n",
       "    }\n",
       "\n",
       "    .dataframe tbody tr th {\n",
       "        vertical-align: top;\n",
       "    }\n",
       "\n",
       "    .dataframe thead th {\n",
       "        text-align: right;\n",
       "    }\n",
       "</style>\n",
       "<table border=\"1\" class=\"dataframe\">\n",
       "  <thead>\n",
       "    <tr style=\"text-align: right;\">\n",
       "      <th></th>\n",
       "      <th>Missing Percentage</th>\n",
       "    </tr>\n",
       "  </thead>\n",
       "  <tbody>\n",
       "    <tr>\n",
       "      <th>applicant_income</th>\n",
       "      <td>7.9896</td>\n",
       "    </tr>\n",
       "    <tr>\n",
       "      <th>number_of_owner-occupied_units</th>\n",
       "      <td>4.5130</td>\n",
       "    </tr>\n",
       "    <tr>\n",
       "      <th>number_of_1_to_4_family_units</th>\n",
       "      <td>4.5060</td>\n",
       "    </tr>\n",
       "    <tr>\n",
       "      <th>tract_to_msa_md_income_pct</th>\n",
       "      <td>4.5028</td>\n",
       "    </tr>\n",
       "    <tr>\n",
       "      <th>minority_population_pct</th>\n",
       "      <td>4.4932</td>\n",
       "    </tr>\n",
       "    <tr>\n",
       "      <th>population</th>\n",
       "      <td>4.4930</td>\n",
       "    </tr>\n",
       "    <tr>\n",
       "      <th>ffiecmedian_family_income</th>\n",
       "      <td>4.4880</td>\n",
       "    </tr>\n",
       "  </tbody>\n",
       "</table>\n",
       "</div>"
      ],
      "text/plain": [
       "                                Missing Percentage\n",
       "applicant_income                            7.9896\n",
       "number_of_owner-occupied_units              4.5130\n",
       "number_of_1_to_4_family_units               4.5060\n",
       "tract_to_msa_md_income_pct                  4.5028\n",
       "minority_population_pct                     4.4932\n",
       "population                                  4.4930\n",
       "ffiecmedian_family_income                   4.4880"
      ]
     },
     "execution_count": 456,
     "metadata": {},
     "output_type": "execute_result"
    }
   ],
   "source": [
    "missing_data"
   ]
  },
  {
   "cell_type": "code",
   "execution_count": 753,
   "metadata": {},
   "outputs": [],
   "source": [
    "train.fillna(-999,inplace=True)\n",
    "test.fillna(-999,inplace=True)"
   ]
  },
  {
   "cell_type": "code",
   "execution_count": 726,
   "metadata": {},
   "outputs": [
    {
     "data": {
      "text/plain": [
       "row_id                            0\n",
       "loan_type                         0\n",
       "property_type                     0\n",
       "loan_purpose                      0\n",
       "occupancy                         0\n",
       "loan_amount                       0\n",
       "preapproval                       0\n",
       "msa_md                            0\n",
       "state_code                        0\n",
       "county_code                       0\n",
       "applicant_ethnicity               0\n",
       "applicant_race                    0\n",
       "applicant_sex                     0\n",
       "applicant_income                  0\n",
       "population                        0\n",
       "minority_population_pct           0\n",
       "ffiecmedian_family_income         0\n",
       "tract_to_msa_md_income_pct        0\n",
       "number_of_owner-occupied_units    0\n",
       "number_of_1_to_4_family_units     0\n",
       "lender                            0\n",
       "co_applicant                      0\n",
       "accepted                          0\n",
       "dtype: int64"
      ]
     },
     "execution_count": 726,
     "metadata": {},
     "output_type": "execute_result"
    }
   ],
   "source": [
    "train.isnull().sum()"
   ]
  },
  {
   "cell_type": "code",
   "execution_count": 249,
   "metadata": {},
   "outputs": [
    {
     "data": {
      "text/plain": [
       "<matplotlib.axes._subplots.AxesSubplot at 0x460a271b38>"
      ]
     },
     "execution_count": 249,
     "metadata": {},
     "output_type": "execute_result"
    },
    {
     "data": {
      "image/png": "[encoded data removed]",
      "text/plain": [
       "<Figure size 432x288 with 1 Axes>"
      ]
     },
     "metadata": {},
     "output_type": "display_data"
    }
   ],
   "source": [
    "train['applicant_income'].plot.hist()"
   ]
  },
  {
   "cell_type": "code",
   "execution_count": 250,
   "metadata": {},
   "outputs": [
    {
     "data": {
      "text/plain": [
       "row_id                                0\n",
       "loan_type                             0\n",
       "property_type                         0\n",
       "loan_purpose                          0\n",
       "occupancy                             0\n",
       "loan_amount                           0\n",
       "preapproval                           0\n",
       "msa_md                                0\n",
       "state_code                            0\n",
       "county_code                           0\n",
       "applicant_ethnicity                   0\n",
       "applicant_sex                         0\n",
       "applicant_income                  39948\n",
       "population                        22465\n",
       "minority_population_pct           22466\n",
       "ffiecmedian_family_income         22440\n",
       "tract_to_msa_md_income_pct        22514\n",
       "number_of_owner-occupied_units    22565\n",
       "number_of_1_to_4_family_units     22530\n",
       "lender                                0\n",
       "co_applicant                          0\n",
       "accepted                              0\n",
       "race                                  0\n",
       "dtype: int64"
      ]
     },
     "execution_count": 250,
     "metadata": {},
     "output_type": "execute_result"
    }
   ],
   "source": [
    "train.isnull().sum()"
   ]
  },
  {
   "cell_type": "code",
   "execution_count": 251,
   "metadata": {},
   "outputs": [
    {
     "data": {
      "image/png": "[encoded data removed]",
      "text/plain": [
       "<Figure size 720x504 with 1 Axes>"
      ]
     },
     "metadata": {},
     "output_type": "display_data"
    }
   ],
   "source": [
    "plt.figure(figsize=(10,7))\n",
    "train['applicant_income'].plot.hist(bins=100)\n",
    "plt.xlim([0,400])\n",
    "plt.xticks(np.arange(0, 1000, step=200))\n",
    "sns.set_style('darkgrid')\n",
    "plt.tight_layout()"
   ]
  },
  {
   "cell_type": "code",
   "execution_count": 252,
   "metadata": {},
   "outputs": [
    {
     "data": {
      "text/plain": [
       "row_id                                0\n",
       "loan_type                             0\n",
       "property_type                         0\n",
       "loan_purpose                          0\n",
       "occupancy                             0\n",
       "loan_amount                           0\n",
       "preapproval                           0\n",
       "msa_md                                0\n",
       "state_code                            0\n",
       "county_code                           0\n",
       "applicant_ethnicity                   0\n",
       "applicant_sex                         0\n",
       "applicant_income                  39948\n",
       "population                        22465\n",
       "minority_population_pct           22466\n",
       "ffiecmedian_family_income         22440\n",
       "tract_to_msa_md_income_pct        22514\n",
       "number_of_owner-occupied_units    22565\n",
       "number_of_1_to_4_family_units     22530\n",
       "lender                                0\n",
       "co_applicant                          0\n",
       "accepted                              0\n",
       "race                                  0\n",
       "dtype: int64"
      ]
     },
     "execution_count": 252,
     "metadata": {},
     "output_type": "execute_result"
    }
   ],
   "source": [
    "train.isnull().sum()"
   ]
  },
  {
   "cell_type": "code",
   "execution_count": 258,
   "metadata": {},
   "outputs": [
    {
     "data": {
      "text/plain": [
       "<matplotlib.axes._subplots.AxesSubplot at 0x461307d2e8>"
      ]
     },
     "execution_count": 258,
     "metadata": {},
     "output_type": "execute_result"
    },
    {
     "data": {
      "image/png": "[encoded data removed]",
      "text/plain": [
       "<Figure size 864x576 with 1 Axes>"
      ]
     },
     "metadata": {},
     "output_type": "display_data"
    }
   ],
   "source": [
    "plt.figure(figsize=(12,8))\n",
    "sns.boxplot(x='loan_type',y='loan_amount',data=train[train['loan_amount']<train['loan_amount'].quantile(.90)])"
   ]
  },
  {
   "cell_type": "code",
   "execution_count": 257,
   "metadata": {},
   "outputs": [
    {
     "data": {
      "text/plain": [
       "407.0"
      ]
     },
     "execution_count": 257,
     "metadata": {},
     "output_type": "execute_result"
    }
   ],
   "source": [
    "train['loan_amount'].quantile(.90)"
   ]
  },
  {
   "cell_type": "code",
   "execution_count": 226,
   "metadata": {},
   "outputs": [
    {
     "data": {
      "text/plain": [
       "<matplotlib.axes._subplots.AxesSubplot at 0xc3888f84e0>"
      ]
     },
     "execution_count": 226,
     "metadata": {},
     "output_type": "execute_result"
    },
    {
     "data": {
      "image/png": "[encoded data removed]",
      "text/plain": [
       "<Figure size 864x576 with 1 Axes>"
      ]
     },
     "metadata": {},
     "output_type": "display_data"
    }
   ],
   "source": [
    "plt.figure(figsize=(12,8))\n",
    "sns.boxplot(x='loan_purpose',y='applicant_income',data=train)"
   ]
  },
  {
   "cell_type": "code",
   "execution_count": 541,
   "metadata": {},
   "outputs": [],
   "source": [
    "train['applicant_income'].fillna(train['applicant_income'].median(),inplace=True)\n",
    "test['applicant_income'].fillna(test['applicant_income'].median(),inplace=True)\n",
    "#test['applicant_income'].fillna(test.groupby(['loan_purpose'])['applicant_income'].transform('median'),inplace=True)"
   ]
  },
  {
   "cell_type": "code",
   "execution_count": 360,
   "metadata": {},
   "outputs": [
    {
     "data": {
      "image/png": "[encoded data removed]",
      "text/plain": [
       "<Figure size 432x288 with 1 Axes>"
      ]
     },
     "metadata": {
      "needs_background": "light"
     },
     "output_type": "display_data"
    },
    {
     "data": {
      "image/png": "[encoded data removed]",
      "text/plain": [
       "<Figure size 432x288 with 1 Axes>"
      ]
     },
     "metadata": {
      "needs_background": "light"
     },
     "output_type": "display_data"
    }
   ],
   "source": [
    "column=['loan_amount', 'applicant_income']\n",
    "def distplot(df, column, bins = 10, hist = False):\n",
    "    for col in column:\n",
    "        sns.distplot(df[col], bins=bins, rug=True, hist=hist)\n",
    "        plt.title('Distribution for' + col)\n",
    "        plt.xlabel(col)\n",
    "        plt.ylabel('Frequency')\n",
    "        plt.show()\n",
    "\n",
    "distplot(train, column, hist= True)"
   ]
  },
  {
   "cell_type": "code",
   "execution_count": 542,
   "metadata": {},
   "outputs": [],
   "source": [
    "train[['applicant_income','loan_amount']]=train[['applicant_income','loan_amount']].apply(lambda x: np.log(x+1))\n",
    "test[['applicant_income','loan_amount']]=test[['applicant_income','loan_amount']].apply(lambda x: np.log(x+1))"
   ]
  },
  {
   "cell_type": "code",
   "execution_count": 261,
   "metadata": {},
   "outputs": [
    {
     "data": {
      "text/plain": [
       "<matplotlib.axes._subplots.AxesSubplot at 0x461309d470>"
      ]
     },
     "execution_count": 261,
     "metadata": {},
     "output_type": "execute_result"
    },
    {
     "data": {
      "image/png": "[encoded data removed]",
      "text/plain": [
       "<Figure size 864x576 with 1 Axes>"
      ]
     },
     "metadata": {},
     "output_type": "display_data"
    }
   ],
   "source": [
    "plt.figure(figsize=(12,8))\n",
    "sns.boxplot(x='applicant_sex',y='population',data=train)"
   ]
  },
  {
   "cell_type": "code",
   "execution_count": 619,
   "metadata": {},
   "outputs": [
    {
     "name": "stdout",
     "output_type": "stream",
     "text": [
      "0    0.964083\n",
      "1    0.035917\n",
      "Name: accepted, dtype: float64\n"
     ]
    }
   ],
   "source": [
    "print(train[train['county_code']==-1]['accepted'].value_counts(normalize=True))"
   ]
  },
  {
   "cell_type": "code",
   "execution_count": 620,
   "metadata": {},
   "outputs": [
    {
     "name": "stdout",
     "output_type": "stream",
     "text": [
      "0    0.970561\n",
      "1    0.029439\n",
      "Name: accepted, dtype: float64\n",
      "0    0.658643\n",
      "1    0.341357\n",
      "Name: accepted, dtype: float64\n"
     ]
    }
   ],
   "source": [
    "print(train[train['state_code']==-1]['accepted'].value_counts(normalize=True))\n",
    "print(train[train['msa_md']==-1]['accepted'].value_counts(normalize=True))"
   ]
  },
  {
   "cell_type": "code",
   "execution_count": 543,
   "metadata": {},
   "outputs": [],
   "source": [
    "train['msa_md'] = train['msa_md'].replace(-1,np.nan)\n",
    "train['county_code'] = train['county_code'].replace(-1,np.nan)\n",
    "train['state_code'] = train['state_code'].replace(-1,np.nan)\n",
    "test['msa_md'] = test['msa_md'].replace(-1,np.nan)\n",
    "test['county_code'] = test['county_code'].replace(-1,np.nan)\n",
    "test['state_code'] = test['state_code'].replace(-1,np.nan)"
   ]
  },
  {
   "cell_type": "code",
   "execution_count": 544,
   "metadata": {},
   "outputs": [],
   "source": [
    "train['msa_md'].fillna(train['msa_md'].value_counts().index[0],inplace=True)\n",
    "test['msa_md'].fillna(test['msa_md'].value_counts().index[0],inplace=True)\n",
    "train['county_code'].fillna(train['county_code'].value_counts().index[0],inplace=True)\n",
    "test['county_code'].fillna(test['county_code'].value_counts().index[0],inplace=True)\n",
    "train['state_code'].fillna(train['state_code'].value_counts().index[0],inplace=True)\n",
    "test['state_code'].fillna(test['state_code'].value_counts().index[0],inplace=True)"
   ]
  },
  {
   "cell_type": "code",
   "execution_count": null,
   "metadata": {},
   "outputs": [],
   "source": []
  },
  {
   "cell_type": "code",
   "execution_count": 621,
   "metadata": {},
   "outputs": [
    {
     "data": {
      "text/plain": [
       "<matplotlib.axes._subplots.AxesSubplot at 0xc3d6476780>"
      ]
     },
     "execution_count": 621,
     "metadata": {},
     "output_type": "execute_result"
    },
    {
     "data": {
      "image/png": "[encoded data removed]",
      "text/plain": [
       "<Figure size 864x576 with 1 Axes>"
      ]
     },
     "metadata": {},
     "output_type": "display_data"
    }
   ],
   "source": [
    "plt.figure(figsize=(12,8))\n",
    "sns.boxplot(x='applicant_ethnicity',y='population',data=train)"
   ]
  },
  {
   "cell_type": "code",
   "execution_count": 545,
   "metadata": {},
   "outputs": [],
   "source": [
    "train['population'].fillna(train['population'].median(),inplace=True)\n",
    "test['population'].fillna(test['population'].median(),inplace=True)"
   ]
  },
  {
   "cell_type": "code",
   "execution_count": null,
   "metadata": {},
   "outputs": [],
   "source": []
  },
  {
   "cell_type": "code",
   "execution_count": 546,
   "metadata": {},
   "outputs": [
    {
     "data": {
      "text/plain": [
       "row_id                                0\n",
       "loan_type                             0\n",
       "property_type                         0\n",
       "loan_purpose                          0\n",
       "occupancy                             0\n",
       "loan_amount                           0\n",
       "preapproval                           0\n",
       "msa_md                                0\n",
       "state_code                            0\n",
       "county_code                           0\n",
       "applicant_ethnicity                   0\n",
       "applicant_race                        0\n",
       "applicant_sex                         0\n",
       "applicant_income                      0\n",
       "population                            0\n",
       "minority_population_pct           22466\n",
       "ffiecmedian_family_income         22440\n",
       "tract_to_msa_md_income_pct        22514\n",
       "number_of_owner-occupied_units    22565\n",
       "number_of_1_to_4_family_units     22530\n",
       "lender                                0\n",
       "co_applicant                          0\n",
       "accepted                              0\n",
       "dtype: int64"
      ]
     },
     "execution_count": 546,
     "metadata": {},
     "output_type": "execute_result"
    }
   ],
   "source": [
    "train.isnull().sum()"
   ]
  },
  {
   "cell_type": "code",
   "execution_count": null,
   "metadata": {},
   "outputs": [],
   "source": []
  },
  {
   "cell_type": "code",
   "execution_count": 547,
   "metadata": {},
   "outputs": [],
   "source": [
    "train['minority_population_pct'].fillna(train['minority_population_pct'].median(),inplace=True)\n",
    "test['minority_population_pct'].fillna(test['minority_population_pct'].median(),inplace=True)\n"
   ]
  },
  {
   "cell_type": "code",
   "execution_count": 622,
   "metadata": {},
   "outputs": [
    {
     "data": {
      "text/plain": [
       "<matplotlib.axes._subplots.AxesSubplot at 0xcb8ff8de10>"
      ]
     },
     "execution_count": 622,
     "metadata": {},
     "output_type": "execute_result"
    },
    {
     "data": {
      "image/png": "[encoded data removed]",
      "text/plain": [
       "<Figure size 432x288 with 1 Axes>"
      ]
     },
     "metadata": {
      "needs_background": "light"
     },
     "output_type": "display_data"
    }
   ],
   "source": [
    "train['minority_population_pct'].plot.hist()"
   ]
  },
  {
   "cell_type": "code",
   "execution_count": null,
   "metadata": {},
   "outputs": [],
   "source": []
  },
  {
   "cell_type": "code",
   "execution_count": null,
   "metadata": {},
   "outputs": [],
   "source": []
  },
  {
   "cell_type": "code",
   "execution_count": 754,
   "metadata": {},
   "outputs": [],
   "source": [
    "train['minority_population_pct']= (train['minority_population_pct']/100) * train['population']\n",
    "test['minority_population_pct']= (test['minority_population_pct']/100) * train['population']\n"
   ]
  },
  {
   "cell_type": "code",
   "execution_count": 728,
   "metadata": {},
   "outputs": [
    {
     "data": {
      "text/plain": [
       "<matplotlib.axes._subplots.AxesSubplot at 0xcb90e5b668>"
      ]
     },
     "execution_count": 728,
     "metadata": {},
     "output_type": "execute_result"
    },
    {
     "data": {
      "image/png": "[encoded data removed]",
      "text/plain": [
       "<Figure size 432x288 with 1 Axes>"
      ]
     },
     "metadata": {
      "needs_background": "light"
     },
     "output_type": "display_data"
    }
   ],
   "source": [
    "train['minority_population_pct'].plot.hist()"
   ]
  },
  {
   "cell_type": "code",
   "execution_count": 729,
   "metadata": {},
   "outputs": [
    {
     "data": {
      "text/plain": [
       "<matplotlib.axes._subplots.AxesSubplot at 0xcb90e8f160>"
      ]
     },
     "execution_count": 729,
     "metadata": {},
     "output_type": "execute_result"
    },
    {
     "data": {
      "image/png": "[encoded data removed]",
      "text/plain": [
       "<Figure size 432x288 with 1 Axes>"
      ]
     },
     "metadata": {
      "needs_background": "light"
     },
     "output_type": "display_data"
    }
   ],
   "source": [
    "train['population'].plot.hist()"
   ]
  },
  {
   "cell_type": "code",
   "execution_count": 625,
   "metadata": {},
   "outputs": [],
   "source": [
    "train[['minority_population_pct','population']]=train[['minority_population_pct','population']].apply(lambda x: np.log(x+1))\n",
    "test[['minority_population_pct','population']]=test[['minority_population_pct','population']].apply(lambda x: np.log(x+1))"
   ]
  },
  {
   "cell_type": "code",
   "execution_count": null,
   "metadata": {},
   "outputs": [],
   "source": []
  },
  {
   "cell_type": "code",
   "execution_count": 554,
   "metadata": {},
   "outputs": [],
   "source": [
    "train['ffiecmedian_family_income'].fillna(train.groupby(['msa_md'])['ffiecmedian_family_income'].transform('median'),inplace=True)\n",
    "test['ffiecmedian_family_income'].fillna(test.groupby(['msa_md'])['ffiecmedian_family_income'].transform('median'),inplace=True)"
   ]
  },
  {
   "cell_type": "code",
   "execution_count": null,
   "metadata": {},
   "outputs": [],
   "source": []
  },
  {
   "cell_type": "code",
   "execution_count": 555,
   "metadata": {},
   "outputs": [],
   "source": [
    "train['tract_to_msa_md_income_pct'].fillna(train['tract_to_msa_md_income_pct'].median(),inplace=True)\n",
    "test['tract_to_msa_md_income_pct'].fillna(test['tract_to_msa_md_income_pct'].median(),inplace=True)\n",
    "train['number_of_1_to_4_family_units'].fillna(train['number_of_1_to_4_family_units'].median(),inplace=True)\n",
    "test['number_of_1_to_4_family_units'].fillna(test['number_of_1_to_4_family_units'].median(),inplace=True)\n",
    "train['number_of_owner-occupied_units'].fillna(train['number_of_owner-occupied_units'].median(),inplace=True)\n",
    "test['number_of_owner-occupied_units'].fillna(test['number_of_owner-occupied_units'].median(),inplace=True)"
   ]
  },
  {
   "cell_type": "code",
   "execution_count": 755,
   "metadata": {},
   "outputs": [],
   "source": [
    "train['tract_to_msa_md_income_pct']=(train['tract_to_msa_md_income_pct']/100)* train['ffiecmedian_family_income']\n",
    "train['tract_to_msa_md_income_pct']=(train['tract_to_msa_md_income_pct']/100)* train['ffiecmedian_family_income']"
   ]
  },
  {
   "cell_type": "code",
   "execution_count": 627,
   "metadata": {},
   "outputs": [
    {
     "data": {
      "text/plain": [
       "<matplotlib.axes._subplots.AxesSubplot at 0xcb901b89b0>"
      ]
     },
     "execution_count": 627,
     "metadata": {},
     "output_type": "execute_result"
    },
    {
     "data": {
      "image/png": "[encoded data removed]",
      "text/plain": [
       "<Figure size 432x288 with 1 Axes>"
      ]
     },
     "metadata": {
      "needs_background": "light"
     },
     "output_type": "display_data"
    }
   ],
   "source": [
    "train['tract_to_msa_md_income_pct'].plot.hist()"
   ]
  },
  {
   "cell_type": "code",
   "execution_count": 628,
   "metadata": {},
   "outputs": [
    {
     "data": {
      "text/plain": [
       "<matplotlib.axes._subplots.AxesSubplot at 0xcbc9020438>"
      ]
     },
     "execution_count": 628,
     "metadata": {},
     "output_type": "execute_result"
    },
    {
     "data": {
      "image/png": "[encoded data removed]",
      "text/plain": [
       "<Figure size 432x288 with 1 Axes>"
      ]
     },
     "metadata": {
      "needs_background": "light"
     },
     "output_type": "display_data"
    }
   ],
   "source": [
    "train['number_of_1_to_4_family_units'].plot.hist()"
   ]
  },
  {
   "cell_type": "code",
   "execution_count": 629,
   "metadata": {},
   "outputs": [
    {
     "data": {
      "text/plain": [
       "<matplotlib.axes._subplots.AxesSubplot at 0xcb90299b70>"
      ]
     },
     "execution_count": 629,
     "metadata": {},
     "output_type": "execute_result"
    },
    {
     "data": {
      "image/png": "[encoded data removed]",
      "text/plain": [
       "<Figure size 432x288 with 1 Axes>"
      ]
     },
     "metadata": {
      "needs_background": "light"
     },
     "output_type": "display_data"
    }
   ],
   "source": [
    "train['number_of_owner-occupied_units'].plot.hist()"
   ]
  },
  {
   "cell_type": "code",
   "execution_count": 560,
   "metadata": {},
   "outputs": [],
   "source": [
    "train['number_of_1_to_4_family_units']=train['number_of_1_to_4_family_units'].apply(lambda x: np.log(x+1))\n",
    "test['number_of_1_to_4_family_units']=test['number_of_1_to_4_family_units'].apply(lambda x: np.log(x+1))\n"
   ]
  },
  {
   "cell_type": "code",
   "execution_count": null,
   "metadata": {},
   "outputs": [],
   "source": []
  },
  {
   "cell_type": "code",
   "execution_count": 561,
   "metadata": {},
   "outputs": [
    {
     "data": {
      "text/plain": [
       "row_id                            0\n",
       "loan_type                         0\n",
       "property_type                     0\n",
       "loan_purpose                      0\n",
       "occupancy                         0\n",
       "loan_amount                       0\n",
       "preapproval                       0\n",
       "msa_md                            0\n",
       "state_code                        0\n",
       "county_code                       0\n",
       "applicant_ethnicity               0\n",
       "applicant_race                    0\n",
       "applicant_sex                     0\n",
       "applicant_income                  0\n",
       "population                        0\n",
       "minority_population_pct           0\n",
       "ffiecmedian_family_income         0\n",
       "tract_to_msa_md_income_pct        0\n",
       "number_of_owner-occupied_units    0\n",
       "number_of_1_to_4_family_units     0\n",
       "lender                            0\n",
       "co_applicant                      0\n",
       "accepted                          0\n",
       "dtype: int64"
      ]
     },
     "execution_count": 561,
     "metadata": {},
     "output_type": "execute_result"
    }
   ],
   "source": [
    "train.isnull().sum()"
   ]
  },
  {
   "cell_type": "code",
   "execution_count": 562,
   "metadata": {},
   "outputs": [
    {
     "data": {
      "image/png": "[encoded data removed]",
      "text/plain": [
       "<Figure size 864x576 with 1 Axes>"
      ]
     },
     "metadata": {
      "needs_background": "light"
     },
     "output_type": "display_data"
    }
   ],
   "source": [
    "bar_chart('property_type')"
   ]
  },
  {
   "cell_type": "code",
   "execution_count": null,
   "metadata": {},
   "outputs": [],
   "source": []
  },
  {
   "cell_type": "code",
   "execution_count": 630,
   "metadata": {},
   "outputs": [
    {
     "data": {
      "text/plain": [
       "<matplotlib.axes._subplots.AxesSubplot at 0xcb90543f60>"
      ]
     },
     "execution_count": 630,
     "metadata": {},
     "output_type": "execute_result"
    },
    {
     "data": {
      "image/png": "[encoded data removed]",
      "text/plain": [
       "<Figure size 720x504 with 1 Axes>"
      ]
     },
     "metadata": {
      "needs_background": "light"
     },
     "output_type": "display_data"
    }
   ],
   "source": [
    "plt.figure(figsize=(10,7))\n",
    "train['property_type'].value_counts().plot.bar()"
   ]
  },
  {
   "cell_type": "code",
   "execution_count": 564,
   "metadata": {},
   "outputs": [
    {
     "data": {
      "text/plain": [
       "property_type  accepted\n",
       "1              1           244257\n",
       "               0           233960\n",
       "2              0            15282\n",
       "               1             4459\n",
       "3              1             1398\n",
       "               0              644\n",
       "Name: accepted, dtype: int64"
      ]
     },
     "execution_count": 564,
     "metadata": {},
     "output_type": "execute_result"
    }
   ],
   "source": [
    "train.groupby(['property_type'])['accepted'].value_counts()"
   ]
  },
  {
   "cell_type": "code",
   "execution_count": 477,
   "metadata": {},
   "outputs": [],
   "source": [
    "train['property_type'] = train['property_type'].apply(lambda x: 1 if x==1 else 0)"
   ]
  },
  {
   "cell_type": "code",
   "execution_count": 478,
   "metadata": {},
   "outputs": [],
   "source": [
    "test['property_type'] = test['property_type'].apply(lambda x: 1 if x==1 else 0)"
   ]
  },
  {
   "cell_type": "code",
   "execution_count": 479,
   "metadata": {},
   "outputs": [
    {
     "data": {
      "text/plain": [
       "<matplotlib.axes._subplots.AxesSubplot at 0xcb9327f828>"
      ]
     },
     "execution_count": 479,
     "metadata": {},
     "output_type": "execute_result"
    },
    {
     "data": {
      "image/png": "[encoded data removed]",
      "text/plain": [
       "<Figure size 720x504 with 1 Axes>"
      ]
     },
     "metadata": {
      "needs_background": "light"
     },
     "output_type": "display_data"
    }
   ],
   "source": [
    "plt.figure(figsize=(10,7))\n",
    "train['property_type'].value_counts().plot.bar()"
   ]
  },
  {
   "cell_type": "code",
   "execution_count": 689,
   "metadata": {},
   "outputs": [
    {
     "name": "stdout",
     "output_type": "stream",
     "text": [
      "<class 'pandas.core.frame.DataFrame'>\n",
      "Int64Index: 500000 entries, 0 to 499999\n",
      "Data columns (total 23 columns):\n",
      "row_id                            500000 non-null int64\n",
      "loan_type                         500000 non-null int64\n",
      "property_type                     500000 non-null int64\n",
      "loan_purpose                      500000 non-null int64\n",
      "occupancy                         500000 non-null int64\n",
      "loan_amount                       500000 non-null float64\n",
      "preapproval                       500000 non-null int64\n",
      "msa_md                            500000 non-null int64\n",
      "state_code                        500000 non-null int64\n",
      "county_code                       500000 non-null int64\n",
      "applicant_ethnicity               500000 non-null int64\n",
      "applicant_race                    500000 non-null int64\n",
      "applicant_sex                     500000 non-null int64\n",
      "applicant_income                  500000 non-null float64\n",
      "population                        500000 non-null float64\n",
      "minority_population_pct           500000 non-null float64\n",
      "ffiecmedian_family_income         500000 non-null float64\n",
      "tract_to_msa_md_income_pct        500000 non-null float64\n",
      "number_of_owner-occupied_units    500000 non-null float64\n",
      "number_of_1_to_4_family_units     500000 non-null float64\n",
      "lender                            500000 non-null int64\n",
      "co_applicant                      500000 non-null bool\n",
      "accepted                          500000 non-null int64\n",
      "dtypes: bool(1), float64(8), int64(14)\n",
      "memory usage: 88.2 MB\n"
     ]
    }
   ],
   "source": [
    "train.info()"
   ]
  },
  {
   "cell_type": "code",
   "execution_count": 632,
   "metadata": {},
   "outputs": [],
   "source": [
    "train['race']= train['race'].astype(int)\n",
    "test['race']= test['race'].astype(int)"
   ]
  },
  {
   "cell_type": "code",
   "execution_count": 633,
   "metadata": {},
   "outputs": [
    {
     "name": "stdout",
     "output_type": "stream",
     "text": [
      "<class 'pandas.core.frame.DataFrame'>\n",
      "Int64Index: 500000 entries, 0 to 499999\n",
      "Data columns (total 23 columns):\n",
      "row_id                            500000 non-null int64\n",
      "loan_type                         500000 non-null int64\n",
      "property_type                     500000 non-null int64\n",
      "loan_purpose                      500000 non-null int64\n",
      "occupancy                         500000 non-null object\n",
      "loan_amount                       500000 non-null float64\n",
      "preapproval                       500000 non-null int64\n",
      "msa_md                            500000 non-null int64\n",
      "state_code                        500000 non-null int64\n",
      "county_code                       500000 non-null int64\n",
      "applicant_ethnicity               500000 non-null int64\n",
      "applicant_sex                     500000 non-null object\n",
      "applicant_income                  500000 non-null float64\n",
      "population                        477535 non-null float64\n",
      "minority_population_pct           499999 non-null float64\n",
      "ffiecmedian_family_income         500000 non-null float64\n",
      "tract_to_msa_md_income_pct        500000 non-null float64\n",
      "number_of_owner-occupied_units    500000 non-null float64\n",
      "number_of_1_to_4_family_units     500000 non-null float64\n",
      "lender                            500000 non-null int64\n",
      "co_applicant                      500000 non-null bool\n",
      "accepted                          500000 non-null int64\n",
      "race                              500000 non-null int32\n",
      "dtypes: bool(1), float64(8), int32(1), int64(11), object(2)\n",
      "memory usage: 106.3+ MB\n"
     ]
    }
   ],
   "source": [
    "train.info()"
   ]
  },
  {
   "cell_type": "code",
   "execution_count": 756,
   "metadata": {},
   "outputs": [],
   "source": [
    "train['co_applicant']=train['co_applicant'].apply(lambda x: 1 if x=='True' else 0)\n",
    "test['co_applicant']=test['co_applicant'].apply(lambda x: 1 if x=='True' else 0)\n"
   ]
  },
  {
   "cell_type": "code",
   "execution_count": 635,
   "metadata": {},
   "outputs": [],
   "source": [
    "train['applicant_sex']=train['applicant_sex'].apply(lambda x: 1 if x=='M' else 0)\n",
    "test['applicant_sex']=test['applicant_sex'].apply(lambda x: 1 if x=='M' else 0)"
   ]
  },
  {
   "cell_type": "code",
   "execution_count": 757,
   "metadata": {},
   "outputs": [],
   "source": [
    "train['loan_income_ratio']= train['applicant_income']/train['loan_amount']\n",
    "test['loan_income_ratio']= test['applicant_income']/test['loan_amount']\n"
   ]
  },
  {
   "cell_type": "code",
   "execution_count": 758,
   "metadata": {},
   "outputs": [],
   "source": [
    "mean_acceptance_rate = pd.DataFrame(train.groupby(['lender'])['accepted'].mean())"
   ]
  },
  {
   "cell_type": "code",
   "execution_count": 759,
   "metadata": {},
   "outputs": [],
   "source": [
    "train= pd.merge(train,mean_acceptance_rate,how='left', on='lender')\n",
    "test= pd.merge(test,mean_acceptance_rate,how='left', on='lender')"
   ]
  },
  {
   "cell_type": "code",
   "execution_count": 760,
   "metadata": {},
   "outputs": [
    {
     "name": "stdout",
     "output_type": "stream",
     "text": [
      "<class 'pandas.core.frame.DataFrame'>\n",
      "Int64Index: 500000 entries, 0 to 499999\n",
      "Data columns (total 25 columns):\n",
      "row_id                            500000 non-null int64\n",
      "loan_type                         500000 non-null int64\n",
      "property_type                     500000 non-null int64\n",
      "loan_purpose                      500000 non-null int64\n",
      "occupancy                         500000 non-null int64\n",
      "loan_amount                       500000 non-null float64\n",
      "preapproval                       500000 non-null int64\n",
      "msa_md                            500000 non-null int64\n",
      "state_code                        500000 non-null int64\n",
      "county_code                       500000 non-null int64\n",
      "applicant_ethnicity               500000 non-null int64\n",
      "applicant_race                    500000 non-null int64\n",
      "applicant_sex                     500000 non-null int64\n",
      "applicant_income                  500000 non-null float64\n",
      "population                        500000 non-null float64\n",
      "minority_population_pct           500000 non-null float64\n",
      "ffiecmedian_family_income         500000 non-null float64\n",
      "tract_to_msa_md_income_pct        500000 non-null float64\n",
      "number_of_owner-occupied_units    500000 non-null float64\n",
      "number_of_1_to_4_family_units     500000 non-null float64\n",
      "lender                            500000 non-null int64\n",
      "co_applicant                      500000 non-null int64\n",
      "accepted_x                        500000 non-null int64\n",
      "loan_income_ratio                 500000 non-null float64\n",
      "accepted_y                        500000 non-null float64\n",
      "dtypes: float64(10), int64(15)\n",
      "memory usage: 99.2 MB\n"
     ]
    }
   ],
   "source": [
    " train.info()"
   ]
  },
  {
   "cell_type": "code",
   "execution_count": 762,
   "metadata": {},
   "outputs": [
    {
     "data": {
      "text/plain": [
       "Index(['row_id', 'loan_type', 'property_type', 'loan_purpose', 'occupancy',\n",
       "       'loan_amount', 'preapproval', 'msa_md', 'state_code', 'county_code',\n",
       "       'applicant_ethnicity', 'applicant_race', 'applicant_sex',\n",
       "       'applicant_income', 'population', 'minority_population_pct',\n",
       "       'ffiecmedian_family_income', 'tract_to_msa_md_income_pct',\n",
       "       'number_of_owner-occupied_units', 'number_of_1_to_4_family_units',\n",
       "       'lender', 'co_applicant', 'loan_income_ratio', 'accepted'],\n",
       "      dtype='object')"
      ]
     },
     "execution_count": 762,
     "metadata": {},
     "output_type": "execute_result"
    }
   ],
   "source": [
    "test.columns"
   ]
  },
  {
   "cell_type": "code",
   "execution_count": 763,
   "metadata": {},
   "outputs": [],
   "source": [
    "train.columns=['row_id', 'loan_type', 'property_type', 'loan_purpose', 'occupancy',\n",
    "       'loan_amount', 'preapproval', 'msa_md', 'state_code', 'county_code',\n",
    "       'applicant_ethnicity', 'applicant_race', 'applicant_sex',\n",
    "       'applicant_income', 'population', 'minority_population_pct',\n",
    "       'ffiecmedian_family_income', 'tract_to_msa_md_income_pct',\n",
    "       'number_of_owner-occupied_units', 'number_of_1_to_4_family_units',\n",
    "       'lender', 'co_applicant', 'accepted', 'loan_income_ratio',\n",
    "       'lender_accepted_rate']\n",
    "test.columns= ['row_id', 'loan_type', 'property_type', 'loan_purpose', 'occupancy',\n",
    "       'loan_amount', 'preapproval', 'msa_md', 'state_code', 'county_code',\n",
    "       'applicant_ethnicity', 'applicant_race', 'applicant_sex',\n",
    "       'applicant_income', 'population', 'minority_population_pct',\n",
    "       'ffiecmedian_family_income', 'tract_to_msa_md_income_pct',\n",
    "       'number_of_owner-occupied_units', 'number_of_1_to_4_family_units',\n",
    "       'lender', 'co_applicant', 'loan_income_ratio', 'accepted']"
   ]
  },
  {
   "cell_type": "code",
   "execution_count": 764,
   "metadata": {},
   "outputs": [
    {
     "data": {
      "text/html": [
       "<div>\n",
       "<style scoped>\n",
       "    .dataframe tbody tr th:only-of-type {\n",
       "        vertical-align: middle;\n",
       "    }\n",
       "\n",
       "    .dataframe tbody tr th {\n",
       "        vertical-align: top;\n",
       "    }\n",
       "\n",
       "    .dataframe thead th {\n",
       "        text-align: right;\n",
       "    }\n",
       "</style>\n",
       "<table border=\"1\" class=\"dataframe\">\n",
       "  <thead>\n",
       "    <tr style=\"text-align: right;\">\n",
       "      <th></th>\n",
       "      <th>row_id</th>\n",
       "      <th>loan_type</th>\n",
       "      <th>property_type</th>\n",
       "      <th>loan_purpose</th>\n",
       "      <th>occupancy</th>\n",
       "      <th>loan_amount</th>\n",
       "      <th>preapproval</th>\n",
       "      <th>msa_md</th>\n",
       "      <th>state_code</th>\n",
       "      <th>county_code</th>\n",
       "      <th>...</th>\n",
       "      <th>minority_population_pct</th>\n",
       "      <th>ffiecmedian_family_income</th>\n",
       "      <th>tract_to_msa_md_income_pct</th>\n",
       "      <th>number_of_owner-occupied_units</th>\n",
       "      <th>number_of_1_to_4_family_units</th>\n",
       "      <th>lender</th>\n",
       "      <th>co_applicant</th>\n",
       "      <th>accepted</th>\n",
       "      <th>loan_income_ratio</th>\n",
       "      <th>lender_accepted_rate</th>\n",
       "    </tr>\n",
       "  </thead>\n",
       "  <tbody>\n",
       "    <tr>\n",
       "      <th>0</th>\n",
       "      <td>0</td>\n",
       "      <td>3</td>\n",
       "      <td>1</td>\n",
       "      <td>1</td>\n",
       "      <td>1</td>\n",
       "      <td>70.0</td>\n",
       "      <td>3</td>\n",
       "      <td>18</td>\n",
       "      <td>37</td>\n",
       "      <td>246</td>\n",
       "      <td>...</td>\n",
       "      <td>2743.58690</td>\n",
       "      <td>60588.0</td>\n",
       "      <td>1.869702e+07</td>\n",
       "      <td>716.0</td>\n",
       "      <td>2642.0</td>\n",
       "      <td>4536</td>\n",
       "      <td>0</td>\n",
       "      <td>1</td>\n",
       "      <td>0.342857</td>\n",
       "      <td>0.837209</td>\n",
       "    </tr>\n",
       "    <tr>\n",
       "      <th>1</th>\n",
       "      <td>1</td>\n",
       "      <td>1</td>\n",
       "      <td>1</td>\n",
       "      <td>3</td>\n",
       "      <td>1</td>\n",
       "      <td>178.0</td>\n",
       "      <td>3</td>\n",
       "      <td>369</td>\n",
       "      <td>52</td>\n",
       "      <td>299</td>\n",
       "      <td>...</td>\n",
       "      <td>918.35470</td>\n",
       "      <td>54821.0</td>\n",
       "      <td>3.005342e+07</td>\n",
       "      <td>1622.0</td>\n",
       "      <td>2108.0</td>\n",
       "      <td>2458</td>\n",
       "      <td>0</td>\n",
       "      <td>0</td>\n",
       "      <td>0.320225</td>\n",
       "      <td>0.168919</td>\n",
       "    </tr>\n",
       "    <tr>\n",
       "      <th>2</th>\n",
       "      <td>2</td>\n",
       "      <td>2</td>\n",
       "      <td>1</td>\n",
       "      <td>3</td>\n",
       "      <td>1</td>\n",
       "      <td>163.0</td>\n",
       "      <td>3</td>\n",
       "      <td>16</td>\n",
       "      <td>10</td>\n",
       "      <td>306</td>\n",
       "      <td>...</td>\n",
       "      <td>3733.79380</td>\n",
       "      <td>67719.0</td>\n",
       "      <td>4.585863e+07</td>\n",
       "      <td>760.0</td>\n",
       "      <td>1048.0</td>\n",
       "      <td>5710</td>\n",
       "      <td>0</td>\n",
       "      <td>1</td>\n",
       "      <td>0.411043</td>\n",
       "      <td>0.489632</td>\n",
       "    </tr>\n",
       "    <tr>\n",
       "      <th>3</th>\n",
       "      <td>3</td>\n",
       "      <td>1</td>\n",
       "      <td>1</td>\n",
       "      <td>1</td>\n",
       "      <td>1</td>\n",
       "      <td>155.0</td>\n",
       "      <td>1</td>\n",
       "      <td>305</td>\n",
       "      <td>47</td>\n",
       "      <td>180</td>\n",
       "      <td>...</td>\n",
       "      <td>416.42082</td>\n",
       "      <td>78439.0</td>\n",
       "      <td>6.152677e+07</td>\n",
       "      <td>2025.0</td>\n",
       "      <td>2299.0</td>\n",
       "      <td>5888</td>\n",
       "      <td>0</td>\n",
       "      <td>1</td>\n",
       "      <td>0.677419</td>\n",
       "      <td>0.691964</td>\n",
       "    </tr>\n",
       "    <tr>\n",
       "      <th>4</th>\n",
       "      <td>4</td>\n",
       "      <td>1</td>\n",
       "      <td>1</td>\n",
       "      <td>1</td>\n",
       "      <td>1</td>\n",
       "      <td>305.0</td>\n",
       "      <td>3</td>\n",
       "      <td>24</td>\n",
       "      <td>37</td>\n",
       "      <td>20</td>\n",
       "      <td>...</td>\n",
       "      <td>6732.00000</td>\n",
       "      <td>63075.0</td>\n",
       "      <td>3.270291e+07</td>\n",
       "      <td>1464.0</td>\n",
       "      <td>1847.0</td>\n",
       "      <td>289</td>\n",
       "      <td>0</td>\n",
       "      <td>1</td>\n",
       "      <td>0.232787</td>\n",
       "      <td>0.542994</td>\n",
       "    </tr>\n",
       "  </tbody>\n",
       "</table>\n",
       "<p>5 rows × 25 columns</p>\n",
       "</div>"
      ],
      "text/plain": [
       "   row_id  loan_type  property_type  loan_purpose  occupancy  loan_amount  \\\n",
       "0       0          3              1             1          1         70.0   \n",
       "1       1          1              1             3          1        178.0   \n",
       "2       2          2              1             3          1        163.0   \n",
       "3       3          1              1             1          1        155.0   \n",
       "4       4          1              1             1          1        305.0   \n",
       "\n",
       "   preapproval  msa_md  state_code  county_code          ...           \\\n",
       "0            3      18          37          246          ...            \n",
       "1            3     369          52          299          ...            \n",
       "2            3      16          10          306          ...            \n",
       "3            1     305          47          180          ...            \n",
       "4            3      24          37           20          ...            \n",
       "\n",
       "   minority_population_pct  ffiecmedian_family_income  \\\n",
       "0               2743.58690                    60588.0   \n",
       "1                918.35470                    54821.0   \n",
       "2               3733.79380                    67719.0   \n",
       "3                416.42082                    78439.0   \n",
       "4               6732.00000                    63075.0   \n",
       "\n",
       "   tract_to_msa_md_income_pct  number_of_owner-occupied_units  \\\n",
       "0                1.869702e+07                           716.0   \n",
       "1                3.005342e+07                          1622.0   \n",
       "2                4.585863e+07                           760.0   \n",
       "3                6.152677e+07                          2025.0   \n",
       "4                3.270291e+07                          1464.0   \n",
       "\n",
       "   number_of_1_to_4_family_units  lender  co_applicant  accepted  \\\n",
       "0                         2642.0    4536             0         1   \n",
       "1                         2108.0    2458             0         0   \n",
       "2                         1048.0    5710             0         1   \n",
       "3                         2299.0    5888             0         1   \n",
       "4                         1847.0     289             0         1   \n",
       "\n",
       "   loan_income_ratio  lender_accepted_rate  \n",
       "0           0.342857              0.837209  \n",
       "1           0.320225              0.168919  \n",
       "2           0.411043              0.489632  \n",
       "3           0.677419              0.691964  \n",
       "4           0.232787              0.542994  \n",
       "\n",
       "[5 rows x 25 columns]"
      ]
     },
     "execution_count": 764,
     "metadata": {},
     "output_type": "execute_result"
    }
   ],
   "source": [
    "#state_rate= pd.DataFrame(train.groupby(['state_code'])['accepted'].mean())\n",
    "\n",
    "train.head()"
   ]
  },
  {
   "cell_type": "code",
   "execution_count": 765,
   "metadata": {},
   "outputs": [],
   "source": [
    "#train= pd.merge(train,state_rate,how='inner', on='state_code')\n",
    "#test = pd.merge(test,state_rate,how='inner', on='state_code')"
   ]
  },
  {
   "cell_type": "code",
   "execution_count": 395,
   "metadata": {},
   "outputs": [
    {
     "data": {
      "text/plain": [
       "Index(['row_id', 'loan_type', 'property_type', 'loan_purpose', 'occupancy',\n",
       "       'loan_amount', 'preapproval', 'msa_md', 'state_code', 'county_code',\n",
       "       'applicant_ethnicity', 'applicant_sex', 'applicant_income',\n",
       "       'population', 'minority_population_pct', 'ffiecmedian_family_income',\n",
       "       'tract_to_msa_md_income_pct', 'number_of_owner-occupied_units',\n",
       "       'number_of_1_to_4_family_units', 'lender', 'co_applicant', 'race',\n",
       "       'loan_income_ratio', 'lender_acceptance_rate', 'accepted'],\n",
       "      dtype='object')"
      ]
     },
     "execution_count": 395,
     "metadata": {},
     "output_type": "execute_result"
    }
   ],
   "source": [
    "test.columns"
   ]
  },
  {
   "cell_type": "code",
   "execution_count": 767,
   "metadata": {},
   "outputs": [
    {
     "name": "stdout",
     "output_type": "stream",
     "text": [
      "<class 'pandas.core.frame.DataFrame'>\n",
      "Int64Index: 500000 entries, 0 to 499999\n",
      "Data columns (total 25 columns):\n",
      "row_id                            500000 non-null int64\n",
      "loan_type                         500000 non-null int64\n",
      "property_type                     500000 non-null int64\n",
      "loan_purpose                      500000 non-null int64\n",
      "occupancy                         500000 non-null int64\n",
      "loan_amount                       500000 non-null float64\n",
      "preapproval                       500000 non-null int64\n",
      "msa_md                            500000 non-null int64\n",
      "state_code                        500000 non-null int64\n",
      "county_code                       500000 non-null int64\n",
      "applicant_ethnicity               500000 non-null int64\n",
      "applicant_race                    500000 non-null int64\n",
      "applicant_sex                     500000 non-null int64\n",
      "applicant_income                  500000 non-null float64\n",
      "population                        500000 non-null float64\n",
      "minority_population_pct           500000 non-null float64\n",
      "ffiecmedian_family_income         500000 non-null float64\n",
      "tract_to_msa_md_income_pct        500000 non-null float64\n",
      "number_of_owner-occupied_units    500000 non-null float64\n",
      "number_of_1_to_4_family_units     500000 non-null float64\n",
      "lender                            500000 non-null int64\n",
      "co_applicant                      500000 non-null int64\n",
      "accepted                          500000 non-null int64\n",
      "loan_income_ratio                 500000 non-null float64\n",
      "lender_accepted_rate              500000 non-null float64\n",
      "dtypes: float64(10), int64(15)\n",
      "memory usage: 99.2 MB\n"
     ]
    }
   ],
   "source": [
    "train.info()"
   ]
  },
  {
   "cell_type": "code",
   "execution_count": null,
   "metadata": {},
   "outputs": [],
   "source": []
  },
  {
   "cell_type": "code",
   "execution_count": 768,
   "metadata": {},
   "outputs": [],
   "source": [
    "cols= ['loan_type','loan_purpose','property_type','occupancy','preapproval','applicant_ethnicity','applicant_race','applicant_sex']\n",
    "\n",
    "train = pd.get_dummies(train,columns=cols,drop_first=True)"
   ]
  },
  {
   "cell_type": "code",
   "execution_count": 769,
   "metadata": {},
   "outputs": [],
   "source": [
    "cols= ['loan_type','loan_purpose','property_type','occupancy','preapproval','applicant_ethnicity','applicant_race','applicant_sex']\n",
    "\n",
    "test = pd.get_dummies(test,columns=cols,drop_first=True)"
   ]
  },
  {
   "cell_type": "code",
   "execution_count": 770,
   "metadata": {},
   "outputs": [],
   "source": [
    "id = test['row_id']"
   ]
  },
  {
   "cell_type": "code",
   "execution_count": 771,
   "metadata": {},
   "outputs": [],
   "source": [
    "train.drop(['row_id'],axis=1,inplace=True)\n",
    "test.drop(['row_id'],axis=1,inplace=True)"
   ]
  },
  {
   "cell_type": "code",
   "execution_count": 772,
   "metadata": {},
   "outputs": [
    {
     "data": {
      "text/html": [
       "<div>\n",
       "<style scoped>\n",
       "    .dataframe tbody tr th:only-of-type {\n",
       "        vertical-align: middle;\n",
       "    }\n",
       "\n",
       "    .dataframe tbody tr th {\n",
       "        vertical-align: top;\n",
       "    }\n",
       "\n",
       "    .dataframe thead th {\n",
       "        text-align: right;\n",
       "    }\n",
       "</style>\n",
       "<table border=\"1\" class=\"dataframe\">\n",
       "  <thead>\n",
       "    <tr style=\"text-align: right;\">\n",
       "      <th></th>\n",
       "      <th>loan_amount</th>\n",
       "      <th>msa_md</th>\n",
       "      <th>state_code</th>\n",
       "      <th>county_code</th>\n",
       "      <th>applicant_income</th>\n",
       "      <th>population</th>\n",
       "      <th>minority_population_pct</th>\n",
       "      <th>ffiecmedian_family_income</th>\n",
       "      <th>tract_to_msa_md_income_pct</th>\n",
       "      <th>number_of_owner-occupied_units</th>\n",
       "      <th>...</th>\n",
       "      <th>applicant_ethnicity_4</th>\n",
       "      <th>applicant_race_2</th>\n",
       "      <th>applicant_race_3</th>\n",
       "      <th>applicant_race_4</th>\n",
       "      <th>applicant_race_5</th>\n",
       "      <th>applicant_race_6</th>\n",
       "      <th>applicant_race_7</th>\n",
       "      <th>applicant_sex_2</th>\n",
       "      <th>applicant_sex_3</th>\n",
       "      <th>applicant_sex_4</th>\n",
       "    </tr>\n",
       "  </thead>\n",
       "  <tbody>\n",
       "    <tr>\n",
       "      <th>0</th>\n",
       "      <td>70.0</td>\n",
       "      <td>18</td>\n",
       "      <td>37</td>\n",
       "      <td>246</td>\n",
       "      <td>24.0</td>\n",
       "      <td>6203.0</td>\n",
       "      <td>2743.58690</td>\n",
       "      <td>60588.0</td>\n",
       "      <td>1.869702e+07</td>\n",
       "      <td>716.0</td>\n",
       "      <td>...</td>\n",
       "      <td>0</td>\n",
       "      <td>0</td>\n",
       "      <td>0</td>\n",
       "      <td>0</td>\n",
       "      <td>1</td>\n",
       "      <td>0</td>\n",
       "      <td>0</td>\n",
       "      <td>0</td>\n",
       "      <td>0</td>\n",
       "      <td>0</td>\n",
       "    </tr>\n",
       "    <tr>\n",
       "      <th>1</th>\n",
       "      <td>178.0</td>\n",
       "      <td>369</td>\n",
       "      <td>52</td>\n",
       "      <td>299</td>\n",
       "      <td>57.0</td>\n",
       "      <td>5774.0</td>\n",
       "      <td>918.35470</td>\n",
       "      <td>54821.0</td>\n",
       "      <td>3.005342e+07</td>\n",
       "      <td>1622.0</td>\n",
       "      <td>...</td>\n",
       "      <td>0</td>\n",
       "      <td>0</td>\n",
       "      <td>0</td>\n",
       "      <td>0</td>\n",
       "      <td>1</td>\n",
       "      <td>0</td>\n",
       "      <td>0</td>\n",
       "      <td>0</td>\n",
       "      <td>0</td>\n",
       "      <td>0</td>\n",
       "    </tr>\n",
       "    <tr>\n",
       "      <th>2</th>\n",
       "      <td>163.0</td>\n",
       "      <td>16</td>\n",
       "      <td>10</td>\n",
       "      <td>306</td>\n",
       "      <td>67.0</td>\n",
       "      <td>6094.0</td>\n",
       "      <td>3733.79380</td>\n",
       "      <td>67719.0</td>\n",
       "      <td>4.585863e+07</td>\n",
       "      <td>760.0</td>\n",
       "      <td>...</td>\n",
       "      <td>0</td>\n",
       "      <td>0</td>\n",
       "      <td>0</td>\n",
       "      <td>0</td>\n",
       "      <td>1</td>\n",
       "      <td>0</td>\n",
       "      <td>0</td>\n",
       "      <td>0</td>\n",
       "      <td>0</td>\n",
       "      <td>0</td>\n",
       "    </tr>\n",
       "    <tr>\n",
       "      <th>3</th>\n",
       "      <td>155.0</td>\n",
       "      <td>305</td>\n",
       "      <td>47</td>\n",
       "      <td>180</td>\n",
       "      <td>105.0</td>\n",
       "      <td>6667.0</td>\n",
       "      <td>416.42082</td>\n",
       "      <td>78439.0</td>\n",
       "      <td>6.152677e+07</td>\n",
       "      <td>2025.0</td>\n",
       "      <td>...</td>\n",
       "      <td>0</td>\n",
       "      <td>0</td>\n",
       "      <td>0</td>\n",
       "      <td>0</td>\n",
       "      <td>1</td>\n",
       "      <td>0</td>\n",
       "      <td>0</td>\n",
       "      <td>0</td>\n",
       "      <td>0</td>\n",
       "      <td>0</td>\n",
       "    </tr>\n",
       "    <tr>\n",
       "      <th>4</th>\n",
       "      <td>305.0</td>\n",
       "      <td>24</td>\n",
       "      <td>37</td>\n",
       "      <td>20</td>\n",
       "      <td>71.0</td>\n",
       "      <td>6732.0</td>\n",
       "      <td>6732.00000</td>\n",
       "      <td>63075.0</td>\n",
       "      <td>3.270291e+07</td>\n",
       "      <td>1464.0</td>\n",
       "      <td>...</td>\n",
       "      <td>0</td>\n",
       "      <td>0</td>\n",
       "      <td>1</td>\n",
       "      <td>0</td>\n",
       "      <td>0</td>\n",
       "      <td>0</td>\n",
       "      <td>0</td>\n",
       "      <td>1</td>\n",
       "      <td>0</td>\n",
       "      <td>0</td>\n",
       "    </tr>\n",
       "  </tbody>\n",
       "</table>\n",
       "<p>5 rows × 39 columns</p>\n",
       "</div>"
      ],
      "text/plain": [
       "   loan_amount  msa_md  state_code  county_code  applicant_income  population  \\\n",
       "0         70.0      18          37          246              24.0      6203.0   \n",
       "1        178.0     369          52          299              57.0      5774.0   \n",
       "2        163.0      16          10          306              67.0      6094.0   \n",
       "3        155.0     305          47          180             105.0      6667.0   \n",
       "4        305.0      24          37           20              71.0      6732.0   \n",
       "\n",
       "   minority_population_pct  ffiecmedian_family_income  \\\n",
       "0               2743.58690                    60588.0   \n",
       "1                918.35470                    54821.0   \n",
       "2               3733.79380                    67719.0   \n",
       "3                416.42082                    78439.0   \n",
       "4               6732.00000                    63075.0   \n",
       "\n",
       "   tract_to_msa_md_income_pct  number_of_owner-occupied_units  \\\n",
       "0                1.869702e+07                           716.0   \n",
       "1                3.005342e+07                          1622.0   \n",
       "2                4.585863e+07                           760.0   \n",
       "3                6.152677e+07                          2025.0   \n",
       "4                3.270291e+07                          1464.0   \n",
       "\n",
       "        ...         applicant_ethnicity_4  applicant_race_2  applicant_race_3  \\\n",
       "0       ...                             0                 0                 0   \n",
       "1       ...                             0                 0                 0   \n",
       "2       ...                             0                 0                 0   \n",
       "3       ...                             0                 0                 0   \n",
       "4       ...                             0                 0                 1   \n",
       "\n",
       "   applicant_race_4  applicant_race_5  applicant_race_6  applicant_race_7  \\\n",
       "0                 0                 1                 0                 0   \n",
       "1                 0                 1                 0                 0   \n",
       "2                 0                 1                 0                 0   \n",
       "3                 0                 1                 0                 0   \n",
       "4                 0                 0                 0                 0   \n",
       "\n",
       "   applicant_sex_2  applicant_sex_3  applicant_sex_4  \n",
       "0                0                0                0  \n",
       "1                0                0                0  \n",
       "2                0                0                0  \n",
       "3                0                0                0  \n",
       "4                1                0                0  \n",
       "\n",
       "[5 rows x 39 columns]"
      ]
     },
     "execution_count": 772,
     "metadata": {},
     "output_type": "execute_result"
    }
   ],
   "source": [
    "train.head()"
   ]
  },
  {
   "cell_type": "code",
   "execution_count": 773,
   "metadata": {},
   "outputs": [],
   "source": [
    "from sklearn.model_selection import train_test_split\n",
    "from sklearn.metrics import mean_squared_error\n",
    "from sklearn.linear_model import LogisticRegression\n",
    "from sklearn.ensemble import RandomForestClassifier, GradientBoostingClassifier\n",
    "import sklearn.metrics as sklm\n",
    "from math import sqrt"
   ]
  },
  {
   "cell_type": "code",
   "execution_count": 774,
   "metadata": {},
   "outputs": [],
   "source": [
    "from sklearn.model_selection import train_test_split"
   ]
  },
  {
   "cell_type": "code",
   "execution_count": 775,
   "metadata": {},
   "outputs": [],
   "source": [
    "X = train.drop(['accepted'],axis=1)\n",
    "y = train['accepted']"
   ]
  },
  {
   "cell_type": "code",
   "execution_count": 776,
   "metadata": {},
   "outputs": [],
   "source": [
    "split_test_size=0.30\n",
    "X_train, X_test, y_train, y_test= train_test_split(X,y, test_size=split_test_size, random_state=42)"
   ]
  },
  {
   "cell_type": "code",
   "execution_count": 777,
   "metadata": {},
   "outputs": [],
   "source": [
    "from sklearn.preprocessing import StandardScaler"
   ]
  },
  {
   "cell_type": "code",
   "execution_count": 778,
   "metadata": {},
   "outputs": [],
   "source": [
    "scaler = StandardScaler()"
   ]
  },
  {
   "cell_type": "code",
   "execution_count": 779,
   "metadata": {},
   "outputs": [
    {
     "data": {
      "text/plain": [
       "StandardScaler(copy=True, with_mean=True, with_std=True)"
      ]
     },
     "execution_count": 779,
     "metadata": {},
     "output_type": "execute_result"
    }
   ],
   "source": [
    "scaler.fit(X_train)"
   ]
  },
  {
   "cell_type": "code",
   "execution_count": 780,
   "metadata": {},
   "outputs": [],
   "source": [
    "X_train = scaler.transform(X_train)\n",
    "X_test = scaler.transform(X_test)\n",
    "test = scaler.transform(test)"
   ]
  },
  {
   "cell_type": "code",
   "execution_count": 781,
   "metadata": {},
   "outputs": [],
   "source": [
    "from sklearn.metrics import accuracy_score, make_scorer,confusion_matrix,classification_report,roc_auc_score\n",
    "\n",
    "from sklearn.model_selection import GridSearchCV\n",
    "from sklearn.ensemble import AdaBoostClassifier,RandomForestClassifier\n",
    "from sklearn.model_selection import cross_val_score\n",
    "from sklearn.model_selection import KFold"
   ]
  },
  {
   "cell_type": "code",
   "execution_count": 782,
   "metadata": {},
   "outputs": [],
   "source": [
    "num_folds = 10\n",
    "seed = 8\n",
    "def get_best_model_and_accuracy(model, params, X, y):\n",
    "    scorer = make_scorer(roc_auc_score)\n",
    "    kfold = KFold(n_splits=num_folds, random_state=seed)\n",
    "    grid = GridSearchCV(estimator=model, param_grid=params,error_score=0., cv=kfold)                         \n",
    "    grid.fit(X, y)           # fit the model and parameters\n",
    "    # our classical metric for performance\n",
    "    print (\"Best Accuracy: {}\".format(grid.best_score_))\n",
    "    # the best parameters that caused the best accuracy\n",
    "    print (\"Best Parameters: {}\".format(grid.best_params_))\n",
    "    # the average time it took a model to fit to the data (in seconds)\n",
    "    print (\"Average Time to Fit (s): {}\".format(round(grid.cv_results_['mean_fit_time'].mean(), 3)))\n",
    "    # the average time it took a model to predict out of sample data (in seconds)\n",
    "    # this metric gives us insight into how this model will perform in real-time analysis\n",
    "    print (\"Average Time to Score (s): {}\".format(round(grid.cv_results_['mean_score_time'].mean(), 3)))\n",
    "    \n",
    "    print ('Best parameter.{}'.format(grid.best_estimator_))\n"
   ]
  },
  {
   "cell_type": "code",
   "execution_count": 783,
   "metadata": {},
   "outputs": [],
   "source": [
    "# Import four machine learning models\n",
    "from sklearn.linear_model import LogisticRegression\n",
    "from sklearn.tree import DecisionTreeClassifier\n",
    "from sklearn.ensemble import RandomForestClassifier\n",
    "from sklearn.neighbors import KNeighborsClassifier\n",
    "\n",
    "# Set up some parameters for our grid search\n",
    "# We will start with four different machine learning models\n",
    "# logistic regression, KNN, Decision Tree, and Random Forest\n",
    "lr_params = {'C':[1e-1, 1e0, 1e1, 1e2], 'penalty':['l1', 'l2']}\n",
    "tree_params = {'max_depth': [None, 1, 3, 5, 7, 9, 11, 13, 15, 17, 19, 21]}\n",
    "forest_params = {'n_estimators': [10,20,30,40,50,70,90,100], 'max_depth': [None, 1, 3, 5, 7,8,9]}\n",
    "knn_params = {'n_neighbors': [1, 3, 5, 7]}\n",
    "ada_params = {'n_estimators': [200, 300, 500, 600,800,1000]}\n",
    "\n",
    "\n",
    "# instantiate the four machine learning models\n",
    "lr = LogisticRegression()\n",
    "knn = KNeighborsClassifier()\n",
    "d_tree = DecisionTreeClassifier()\n",
    "forest = RandomForestClassifier()\n",
    "Adaboost = AdaBoostClassifier(random_state= 42)"
   ]
  },
  {
   "cell_type": "code",
   "execution_count": 784,
   "metadata": {},
   "outputs": [],
   "source": [
    "model = lgb.LGBMClassifier()"
   ]
  },
  {
   "cell_type": "code",
   "execution_count": null,
   "metadata": {},
   "outputs": [],
   "source": []
  },
  {
   "cell_type": "code",
   "execution_count": 785,
   "metadata": {},
   "outputs": [
    {
     "data": {
      "text/plain": [
       "LGBMClassifier(boosting_type='gbdt', class_weight=None, colsample_bytree=1.0,\n",
       "        importance_type='split', learning_rate=0.1, max_depth=-1,\n",
       "        min_child_samples=20, min_child_weight=0.001, min_split_gain=0.0,\n",
       "        n_estimators=100, n_jobs=-1, num_leaves=31, objective=None,\n",
       "        random_state=None, reg_alpha=0.0, reg_lambda=0.0, silent=True,\n",
       "        subsample=1.0, subsample_for_bin=200000, subsample_freq=0)"
      ]
     },
     "execution_count": 785,
     "metadata": {},
     "output_type": "execute_result"
    }
   ],
   "source": [
    "model.fit(X_train,y_train)"
   ]
  },
  {
   "cell_type": "code",
   "execution_count": null,
   "metadata": {},
   "outputs": [],
   "source": []
  },
  {
   "cell_type": "code",
   "execution_count": 786,
   "metadata": {},
   "outputs": [],
   "source": [
    "predict = model.predict(X_test)"
   ]
  },
  {
   "cell_type": "code",
   "execution_count": 787,
   "metadata": {},
   "outputs": [
    {
     "name": "stdout",
     "output_type": "stream",
     "text": [
      "Accuracy: 0.72694\n",
      "\n",
      "Confusion matrix: [[50458 24173]\n",
      " [16786 58583]]\n",
      "\n",
      "Classification Report               precision    recall  f1-score   support\n",
      "\n",
      "           0       0.75      0.68      0.71     74631\n",
      "           1       0.71      0.78      0.74     75369\n",
      "\n",
      "   micro avg       0.73      0.73      0.73    150000\n",
      "   macro avg       0.73      0.73      0.73    150000\n",
      "weighted avg       0.73      0.73      0.73    150000\n",
      "\n",
      "Roc : 0.726691090575215\n"
     ]
    }
   ],
   "source": [
    "print ('Accuracy: ' + str(accuracy_score(y_test,predict)))\n",
    "print()\n",
    "print('Confusion matrix: '+ str(confusion_matrix(y_test,predict)))\n",
    "\n",
    "print ()\n",
    "print (\"Classification Report \" + str(classification_report(y_test,predict)))\n",
    "\n",
    "print (\"Roc : \" + str(roc_auc_score(y_test,predict)))"
   ]
  },
  {
   "cell_type": "code",
   "execution_count": 788,
   "metadata": {},
   "outputs": [],
   "source": [
    "from catboost import CatBoostClassifier"
   ]
  },
  {
   "cell_type": "code",
   "execution_count": 789,
   "metadata": {},
   "outputs": [],
   "source": [
    "cat = CatBoostClassifier()"
   ]
  },
  {
   "cell_type": "code",
   "execution_count": 790,
   "metadata": {},
   "outputs": [
    {
     "name": "stdout",
     "output_type": "stream",
     "text": [
      "Learning rate set to 0.087922\n",
      "0:\tlearn: 0.6676602\ttotal: 385ms\tremaining: 6m 25s\n",
      "1:\tlearn: 0.6469476\ttotal: 629ms\tremaining: 5m 13s\n",
      "2:\tlearn: 0.6310321\ttotal: 919ms\tremaining: 5m 5s\n",
      "3:\tlearn: 0.6182940\ttotal: 1.16s\tremaining: 4m 47s\n",
      "4:\tlearn: 0.6078405\ttotal: 1.44s\tremaining: 4m 46s\n",
      "5:\tlearn: 0.5998915\ttotal: 1.66s\tremaining: 4m 35s\n",
      "6:\tlearn: 0.5930010\ttotal: 1.95s\tremaining: 4m 36s\n",
      "7:\tlearn: 0.5871302\ttotal: 2.24s\tremaining: 4m 37s\n",
      "8:\tlearn: 0.5817543\ttotal: 2.49s\tremaining: 4m 34s\n",
      "9:\tlearn: 0.5775855\ttotal: 2.73s\tremaining: 4m 30s\n",
      "10:\tlearn: 0.5737473\ttotal: 2.97s\tremaining: 4m 27s\n",
      "11:\tlearn: 0.5700775\ttotal: 3.22s\tremaining: 4m 24s\n",
      "12:\tlearn: 0.5672258\ttotal: 3.47s\tremaining: 4m 23s\n",
      "13:\tlearn: 0.5643641\ttotal: 3.71s\tremaining: 4m 21s\n",
      "14:\tlearn: 0.5620449\ttotal: 3.94s\tremaining: 4m 18s\n",
      "15:\tlearn: 0.5600360\ttotal: 4.18s\tremaining: 4m 17s\n",
      "16:\tlearn: 0.5581338\ttotal: 4.4s\tremaining: 4m 14s\n",
      "17:\tlearn: 0.5567682\ttotal: 4.67s\tremaining: 4m 14s\n",
      "18:\tlearn: 0.5556912\ttotal: 4.92s\tremaining: 4m 13s\n",
      "19:\tlearn: 0.5542339\ttotal: 5.21s\tremaining: 4m 15s\n",
      "20:\tlearn: 0.5528986\ttotal: 5.45s\tremaining: 4m 13s\n",
      "21:\tlearn: 0.5518381\ttotal: 5.68s\tremaining: 4m 12s\n",
      "22:\tlearn: 0.5506098\ttotal: 5.93s\tremaining: 4m 11s\n",
      "23:\tlearn: 0.5495421\ttotal: 6.18s\tremaining: 4m 11s\n",
      "24:\tlearn: 0.5485674\ttotal: 6.48s\tremaining: 4m 12s\n",
      "25:\tlearn: 0.5475624\ttotal: 6.71s\tremaining: 4m 11s\n",
      "26:\tlearn: 0.5468006\ttotal: 6.96s\tremaining: 4m 10s\n",
      "27:\tlearn: 0.5460200\ttotal: 7.21s\tremaining: 4m 10s\n",
      "28:\tlearn: 0.5452279\ttotal: 7.46s\tremaining: 4m 9s\n",
      "29:\tlearn: 0.5446230\ttotal: 7.7s\tremaining: 4m 9s\n",
      "30:\tlearn: 0.5440426\ttotal: 7.99s\tremaining: 4m 9s\n",
      "31:\tlearn: 0.5434954\ttotal: 8.42s\tremaining: 4m 14s\n",
      "32:\tlearn: 0.5429994\ttotal: 8.88s\tremaining: 4m 20s\n",
      "33:\tlearn: 0.5423863\ttotal: 9.21s\tremaining: 4m 21s\n",
      "34:\tlearn: 0.5419686\ttotal: 9.44s\tremaining: 4m 20s\n",
      "35:\tlearn: 0.5414474\ttotal: 9.7s\tremaining: 4m 19s\n",
      "36:\tlearn: 0.5410258\ttotal: 9.95s\tremaining: 4m 18s\n",
      "37:\tlearn: 0.5405913\ttotal: 10.2s\tremaining: 4m 18s\n",
      "38:\tlearn: 0.5402613\ttotal: 10.5s\tremaining: 4m 18s\n",
      "39:\tlearn: 0.5398198\ttotal: 10.8s\tremaining: 4m 18s\n",
      "40:\tlearn: 0.5394972\ttotal: 11s\tremaining: 4m 17s\n",
      "41:\tlearn: 0.5391744\ttotal: 11.3s\tremaining: 4m 18s\n",
      "42:\tlearn: 0.5388469\ttotal: 11.6s\tremaining: 4m 18s\n",
      "43:\tlearn: 0.5385926\ttotal: 11.9s\tremaining: 4m 18s\n",
      "44:\tlearn: 0.5382037\ttotal: 12.1s\tremaining: 4m 17s\n",
      "45:\tlearn: 0.5379242\ttotal: 12.4s\tremaining: 4m 16s\n",
      "46:\tlearn: 0.5377299\ttotal: 12.6s\tremaining: 4m 16s\n",
      "47:\tlearn: 0.5374321\ttotal: 12.9s\tremaining: 4m 15s\n",
      "48:\tlearn: 0.5371868\ttotal: 13.1s\tremaining: 4m 14s\n",
      "49:\tlearn: 0.5369425\ttotal: 13.4s\tremaining: 4m 13s\n",
      "50:\tlearn: 0.5367284\ttotal: 13.6s\tremaining: 4m 13s\n",
      "51:\tlearn: 0.5364389\ttotal: 13.9s\tremaining: 4m 12s\n",
      "52:\tlearn: 0.5360487\ttotal: 14.1s\tremaining: 4m 12s\n",
      "53:\tlearn: 0.5358251\ttotal: 14.4s\tremaining: 4m 11s\n",
      "54:\tlearn: 0.5354987\ttotal: 14.6s\tremaining: 4m 10s\n",
      "55:\tlearn: 0.5353981\ttotal: 14.8s\tremaining: 4m 10s\n",
      "56:\tlearn: 0.5352470\ttotal: 15.1s\tremaining: 4m 9s\n",
      "57:\tlearn: 0.5351093\ttotal: 15.3s\tremaining: 4m 9s\n",
      "58:\tlearn: 0.5349143\ttotal: 15.6s\tremaining: 4m 8s\n",
      "59:\tlearn: 0.5346831\ttotal: 15.8s\tremaining: 4m 8s\n",
      "60:\tlearn: 0.5345569\ttotal: 16.1s\tremaining: 4m 7s\n",
      "61:\tlearn: 0.5343559\ttotal: 16.3s\tremaining: 4m 6s\n",
      "62:\tlearn: 0.5341392\ttotal: 16.6s\tremaining: 4m 6s\n",
      "63:\tlearn: 0.5340116\ttotal: 16.8s\tremaining: 4m 5s\n",
      "64:\tlearn: 0.5339084\ttotal: 17.1s\tremaining: 4m 5s\n",
      "65:\tlearn: 0.5337832\ttotal: 17.3s\tremaining: 4m 5s\n",
      "66:\tlearn: 0.5335888\ttotal: 17.6s\tremaining: 4m 4s\n",
      "67:\tlearn: 0.5334485\ttotal: 17.8s\tremaining: 4m 3s\n",
      "68:\tlearn: 0.5333508\ttotal: 18.2s\tremaining: 4m 5s\n",
      "69:\tlearn: 0.5332476\ttotal: 18.6s\tremaining: 4m 6s\n",
      "70:\tlearn: 0.5331777\ttotal: 19s\tremaining: 4m 8s\n",
      "71:\tlearn: 0.5330809\ttotal: 19.2s\tremaining: 4m 7s\n",
      "72:\tlearn: 0.5328551\ttotal: 19.5s\tremaining: 4m 7s\n",
      "73:\tlearn: 0.5326793\ttotal: 19.7s\tremaining: 4m 6s\n",
      "74:\tlearn: 0.5325987\ttotal: 20s\tremaining: 4m 6s\n",
      "75:\tlearn: 0.5323787\ttotal: 20.2s\tremaining: 4m 5s\n",
      "76:\tlearn: 0.5322991\ttotal: 20.4s\tremaining: 4m 5s\n",
      "77:\tlearn: 0.5322237\ttotal: 20.7s\tremaining: 4m 4s\n",
      "78:\tlearn: 0.5320751\ttotal: 20.9s\tremaining: 4m 4s\n",
      "79:\tlearn: 0.5319765\ttotal: 21.2s\tremaining: 4m 3s\n",
      "80:\tlearn: 0.5318815\ttotal: 21.5s\tremaining: 4m 3s\n",
      "81:\tlearn: 0.5318103\ttotal: 21.7s\tremaining: 4m 2s\n",
      "82:\tlearn: 0.5317370\ttotal: 21.9s\tremaining: 4m 2s\n",
      "83:\tlearn: 0.5316569\ttotal: 22.2s\tremaining: 4m 1s\n",
      "84:\tlearn: 0.5316058\ttotal: 22.4s\tremaining: 4m 1s\n",
      "85:\tlearn: 0.5314745\ttotal: 22.7s\tremaining: 4m\n",
      "86:\tlearn: 0.5313177\ttotal: 22.9s\tremaining: 4m\n",
      "87:\tlearn: 0.5312161\ttotal: 23.2s\tremaining: 4m\n",
      "88:\tlearn: 0.5311229\ttotal: 23.4s\tremaining: 3m 59s\n",
      "89:\tlearn: 0.5310702\ttotal: 23.7s\tremaining: 3m 59s\n",
      "90:\tlearn: 0.5310049\ttotal: 23.9s\tremaining: 3m 58s\n",
      "91:\tlearn: 0.5309557\ttotal: 24.2s\tremaining: 3m 58s\n",
      "92:\tlearn: 0.5308733\ttotal: 24.4s\tremaining: 3m 58s\n",
      "93:\tlearn: 0.5308205\ttotal: 24.7s\tremaining: 3m 57s\n",
      "94:\tlearn: 0.5306598\ttotal: 24.9s\tremaining: 3m 57s\n",
      "95:\tlearn: 0.5305788\ttotal: 25.1s\tremaining: 3m 56s\n",
      "96:\tlearn: 0.5305113\ttotal: 25.4s\tremaining: 3m 56s\n",
      "97:\tlearn: 0.5304088\ttotal: 25.6s\tremaining: 3m 55s\n",
      "98:\tlearn: 0.5303149\ttotal: 25.9s\tremaining: 3m 55s\n",
      "99:\tlearn: 0.5302642\ttotal: 26.1s\tremaining: 3m 54s\n",
      "100:\tlearn: 0.5301956\ttotal: 26.3s\tremaining: 3m 54s\n",
      "101:\tlearn: 0.5300709\ttotal: 26.6s\tremaining: 3m 54s\n",
      "102:\tlearn: 0.5298735\ttotal: 27s\tremaining: 3m 54s\n",
      "103:\tlearn: 0.5297433\ttotal: 27.3s\tremaining: 3m 55s\n",
      "104:\tlearn: 0.5297078\ttotal: 27.6s\tremaining: 3m 55s\n",
      "105:\tlearn: 0.5296684\ttotal: 27.8s\tremaining: 3m 54s\n",
      "106:\tlearn: 0.5295718\ttotal: 28.3s\tremaining: 3m 56s\n",
      "107:\tlearn: 0.5294477\ttotal: 28.7s\tremaining: 3m 57s\n",
      "108:\tlearn: 0.5293612\ttotal: 29.1s\tremaining: 3m 57s\n",
      "109:\tlearn: 0.5293148\ttotal: 29.3s\tremaining: 3m 57s\n",
      "110:\tlearn: 0.5292709\ttotal: 29.5s\tremaining: 3m 56s\n",
      "111:\tlearn: 0.5292244\ttotal: 29.8s\tremaining: 3m 56s\n",
      "112:\tlearn: 0.5291555\ttotal: 30s\tremaining: 3m 55s\n",
      "113:\tlearn: 0.5290060\ttotal: 30.3s\tremaining: 3m 55s\n",
      "114:\tlearn: 0.5289508\ttotal: 30.5s\tremaining: 3m 54s\n",
      "115:\tlearn: 0.5288899\ttotal: 30.7s\tremaining: 3m 54s\n",
      "116:\tlearn: 0.5288315\ttotal: 31s\tremaining: 3m 53s\n",
      "117:\tlearn: 0.5287709\ttotal: 31.2s\tremaining: 3m 53s\n",
      "118:\tlearn: 0.5287268\ttotal: 31.5s\tremaining: 3m 52s\n",
      "119:\tlearn: 0.5287061\ttotal: 31.7s\tremaining: 3m 52s\n",
      "120:\tlearn: 0.5285863\ttotal: 31.9s\tremaining: 3m 52s\n",
      "121:\tlearn: 0.5284853\ttotal: 32.2s\tremaining: 3m 51s\n",
      "122:\tlearn: 0.5284068\ttotal: 32.4s\tremaining: 3m 51s\n",
      "123:\tlearn: 0.5283629\ttotal: 32.7s\tremaining: 3m 50s\n",
      "124:\tlearn: 0.5283134\ttotal: 32.9s\tremaining: 3m 50s\n",
      "125:\tlearn: 0.5282673\ttotal: 33.2s\tremaining: 3m 50s\n",
      "126:\tlearn: 0.5282261\ttotal: 33.4s\tremaining: 3m 49s\n",
      "127:\tlearn: 0.5281348\ttotal: 33.7s\tremaining: 3m 49s\n",
      "128:\tlearn: 0.5280550\ttotal: 33.9s\tremaining: 3m 49s\n",
      "129:\tlearn: 0.5280177\ttotal: 34.2s\tremaining: 3m 48s\n",
      "130:\tlearn: 0.5279789\ttotal: 34.4s\tremaining: 3m 48s\n",
      "131:\tlearn: 0.5278546\ttotal: 34.7s\tremaining: 3m 48s\n",
      "132:\tlearn: 0.5277604\ttotal: 34.9s\tremaining: 3m 47s\n",
      "133:\tlearn: 0.5277154\ttotal: 35.2s\tremaining: 3m 47s\n",
      "134:\tlearn: 0.5276788\ttotal: 35.4s\tremaining: 3m 46s\n",
      "135:\tlearn: 0.5276420\ttotal: 35.6s\tremaining: 3m 46s\n",
      "136:\tlearn: 0.5275374\ttotal: 35.9s\tremaining: 3m 46s\n",
      "137:\tlearn: 0.5274568\ttotal: 36.1s\tremaining: 3m 45s\n",
      "138:\tlearn: 0.5273704\ttotal: 36.4s\tremaining: 3m 45s\n",
      "139:\tlearn: 0.5273248\ttotal: 36.6s\tremaining: 3m 44s\n",
      "140:\tlearn: 0.5271632\ttotal: 36.8s\tremaining: 3m 44s\n",
      "141:\tlearn: 0.5270390\ttotal: 37.1s\tremaining: 3m 43s\n",
      "142:\tlearn: 0.5269625\ttotal: 37.3s\tremaining: 3m 43s\n",
      "143:\tlearn: 0.5269223\ttotal: 37.5s\tremaining: 3m 43s\n",
      "144:\tlearn: 0.5268901\ttotal: 37.8s\tremaining: 3m 42s\n",
      "145:\tlearn: 0.5268418\ttotal: 38.2s\tremaining: 3m 43s\n",
      "146:\tlearn: 0.5267640\ttotal: 38.6s\tremaining: 3m 43s\n",
      "147:\tlearn: 0.5267274\ttotal: 38.9s\tremaining: 3m 44s\n",
      "148:\tlearn: 0.5266610\ttotal: 39.2s\tremaining: 3m 43s\n",
      "149:\tlearn: 0.5266289\ttotal: 39.4s\tremaining: 3m 43s\n",
      "150:\tlearn: 0.5265781\ttotal: 39.7s\tremaining: 3m 42s\n",
      "151:\tlearn: 0.5264590\ttotal: 39.9s\tremaining: 3m 42s\n",
      "152:\tlearn: 0.5264268\ttotal: 40.1s\tremaining: 3m 42s\n",
      "153:\tlearn: 0.5263798\ttotal: 40.4s\tremaining: 3m 41s\n",
      "154:\tlearn: 0.5263235\ttotal: 40.6s\tremaining: 3m 41s\n",
      "155:\tlearn: 0.5262933\ttotal: 40.8s\tremaining: 3m 40s\n",
      "156:\tlearn: 0.5262435\ttotal: 41.1s\tremaining: 3m 40s\n",
      "157:\tlearn: 0.5262132\ttotal: 41.3s\tremaining: 3m 40s\n"
     ]
    },
    {
     "name": "stdout",
     "output_type": "stream",
     "text": [
      "158:\tlearn: 0.5261765\ttotal: 41.6s\tremaining: 3m 39s\n",
      "159:\tlearn: 0.5260681\ttotal: 41.8s\tremaining: 3m 39s\n",
      "160:\tlearn: 0.5260267\ttotal: 42s\tremaining: 3m 39s\n",
      "161:\tlearn: 0.5259731\ttotal: 42.3s\tremaining: 3m 38s\n",
      "162:\tlearn: 0.5259416\ttotal: 42.6s\tremaining: 3m 38s\n",
      "163:\tlearn: 0.5259024\ttotal: 42.9s\tremaining: 3m 38s\n",
      "164:\tlearn: 0.5258566\ttotal: 43.2s\tremaining: 3m 38s\n",
      "165:\tlearn: 0.5258094\ttotal: 43.5s\tremaining: 3m 38s\n",
      "166:\tlearn: 0.5257719\ttotal: 43.7s\tremaining: 3m 38s\n",
      "167:\tlearn: 0.5256901\ttotal: 44s\tremaining: 3m 37s\n",
      "168:\tlearn: 0.5256435\ttotal: 44.2s\tremaining: 3m 37s\n",
      "169:\tlearn: 0.5255822\ttotal: 44.5s\tremaining: 3m 37s\n",
      "170:\tlearn: 0.5255443\ttotal: 44.8s\tremaining: 3m 37s\n",
      "171:\tlearn: 0.5254657\ttotal: 45s\tremaining: 3m 36s\n",
      "172:\tlearn: 0.5254117\ttotal: 45.2s\tremaining: 3m 36s\n",
      "173:\tlearn: 0.5253735\ttotal: 45.5s\tremaining: 3m 35s\n",
      "174:\tlearn: 0.5253267\ttotal: 45.7s\tremaining: 3m 35s\n",
      "175:\tlearn: 0.5252881\ttotal: 46s\tremaining: 3m 35s\n",
      "176:\tlearn: 0.5252136\ttotal: 46.2s\tremaining: 3m 34s\n",
      "177:\tlearn: 0.5251630\ttotal: 46.5s\tremaining: 3m 34s\n",
      "178:\tlearn: 0.5250861\ttotal: 46.7s\tremaining: 3m 34s\n",
      "179:\tlearn: 0.5250443\ttotal: 47s\tremaining: 3m 33s\n",
      "180:\tlearn: 0.5250010\ttotal: 47.2s\tremaining: 3m 33s\n",
      "181:\tlearn: 0.5249594\ttotal: 47.4s\tremaining: 3m 33s\n",
      "182:\tlearn: 0.5249123\ttotal: 47.7s\tremaining: 3m 32s\n",
      "183:\tlearn: 0.5248255\ttotal: 48s\tremaining: 3m 32s\n",
      "184:\tlearn: 0.5247965\ttotal: 48.4s\tremaining: 3m 33s\n",
      "185:\tlearn: 0.5246997\ttotal: 48.8s\tremaining: 3m 33s\n",
      "186:\tlearn: 0.5246593\ttotal: 49.1s\tremaining: 3m 33s\n",
      "187:\tlearn: 0.5246156\ttotal: 49.3s\tremaining: 3m 33s\n",
      "188:\tlearn: 0.5245853\ttotal: 49.6s\tremaining: 3m 32s\n",
      "189:\tlearn: 0.5245252\ttotal: 49.8s\tremaining: 3m 32s\n",
      "190:\tlearn: 0.5244474\ttotal: 50s\tremaining: 3m 31s\n",
      "191:\tlearn: 0.5244077\ttotal: 50.3s\tremaining: 3m 31s\n",
      "192:\tlearn: 0.5243735\ttotal: 50.5s\tremaining: 3m 31s\n",
      "193:\tlearn: 0.5243387\ttotal: 50.8s\tremaining: 3m 30s\n",
      "194:\tlearn: 0.5243011\ttotal: 51s\tremaining: 3m 30s\n",
      "195:\tlearn: 0.5241957\ttotal: 51.3s\tremaining: 3m 30s\n",
      "196:\tlearn: 0.5241433\ttotal: 51.5s\tremaining: 3m 30s\n",
      "197:\tlearn: 0.5240659\ttotal: 51.8s\tremaining: 3m 29s\n",
      "198:\tlearn: 0.5240160\ttotal: 52s\tremaining: 3m 29s\n",
      "199:\tlearn: 0.5239640\ttotal: 52.3s\tremaining: 3m 29s\n",
      "200:\tlearn: 0.5239328\ttotal: 52.6s\tremaining: 3m 29s\n",
      "201:\tlearn: 0.5239026\ttotal: 52.8s\tremaining: 3m 28s\n",
      "202:\tlearn: 0.5238691\ttotal: 53.1s\tremaining: 3m 28s\n",
      "203:\tlearn: 0.5238370\ttotal: 53.3s\tremaining: 3m 27s\n",
      "204:\tlearn: 0.5237700\ttotal: 53.5s\tremaining: 3m 27s\n",
      "205:\tlearn: 0.5237029\ttotal: 53.8s\tremaining: 3m 27s\n",
      "206:\tlearn: 0.5236477\ttotal: 54s\tremaining: 3m 26s\n",
      "207:\tlearn: 0.5236165\ttotal: 54.3s\tremaining: 3m 26s\n",
      "208:\tlearn: 0.5234182\ttotal: 54.5s\tremaining: 3m 26s\n",
      "209:\tlearn: 0.5233768\ttotal: 54.7s\tremaining: 3m 25s\n",
      "210:\tlearn: 0.5233241\ttotal: 55s\tremaining: 3m 25s\n",
      "211:\tlearn: 0.5232951\ttotal: 55.2s\tremaining: 3m 25s\n",
      "212:\tlearn: 0.5232633\ttotal: 55.5s\tremaining: 3m 24s\n",
      "213:\tlearn: 0.5232408\ttotal: 55.7s\tremaining: 3m 24s\n",
      "214:\tlearn: 0.5231824\ttotal: 56s\tremaining: 3m 24s\n",
      "215:\tlearn: 0.5231620\ttotal: 56.2s\tremaining: 3m 23s\n",
      "216:\tlearn: 0.5230189\ttotal: 56.4s\tremaining: 3m 23s\n",
      "217:\tlearn: 0.5229675\ttotal: 56.7s\tremaining: 3m 23s\n",
      "218:\tlearn: 0.5229270\ttotal: 56.9s\tremaining: 3m 22s\n",
      "219:\tlearn: 0.5228768\ttotal: 57.1s\tremaining: 3m 22s\n",
      "220:\tlearn: 0.5228372\ttotal: 57.4s\tremaining: 3m 22s\n",
      "221:\tlearn: 0.5228044\ttotal: 57.6s\tremaining: 3m 21s\n",
      "222:\tlearn: 0.5227752\ttotal: 58s\tremaining: 3m 21s\n",
      "223:\tlearn: 0.5227435\ttotal: 58.4s\tremaining: 3m 22s\n",
      "224:\tlearn: 0.5227131\ttotal: 58.9s\tremaining: 3m 22s\n",
      "225:\tlearn: 0.5226724\ttotal: 59.2s\tremaining: 3m 22s\n",
      "226:\tlearn: 0.5226347\ttotal: 59.5s\tremaining: 3m 22s\n",
      "227:\tlearn: 0.5226086\ttotal: 59.7s\tremaining: 3m 22s\n",
      "228:\tlearn: 0.5225499\ttotal: 60s\tremaining: 3m 21s\n",
      "229:\tlearn: 0.5225118\ttotal: 1m\tremaining: 3m 21s\n",
      "230:\tlearn: 0.5224858\ttotal: 1m\tremaining: 3m 21s\n",
      "231:\tlearn: 0.5224488\ttotal: 1m\tremaining: 3m 20s\n",
      "232:\tlearn: 0.5224194\ttotal: 1m\tremaining: 3m 20s\n",
      "233:\tlearn: 0.5223613\ttotal: 1m 1s\tremaining: 3m 20s\n",
      "234:\tlearn: 0.5223370\ttotal: 1m 1s\tremaining: 3m 19s\n",
      "235:\tlearn: 0.5223037\ttotal: 1m 1s\tremaining: 3m 19s\n",
      "236:\tlearn: 0.5222789\ttotal: 1m 1s\tremaining: 3m 19s\n",
      "237:\tlearn: 0.5222502\ttotal: 1m 2s\tremaining: 3m 19s\n",
      "238:\tlearn: 0.5222111\ttotal: 1m 2s\tremaining: 3m 18s\n",
      "239:\tlearn: 0.5221660\ttotal: 1m 2s\tremaining: 3m 18s\n",
      "240:\tlearn: 0.5221401\ttotal: 1m 2s\tremaining: 3m 18s\n",
      "241:\tlearn: 0.5221073\ttotal: 1m 3s\tremaining: 3m 17s\n",
      "242:\tlearn: 0.5220903\ttotal: 1m 3s\tremaining: 3m 17s\n",
      "243:\tlearn: 0.5220524\ttotal: 1m 3s\tremaining: 3m 17s\n",
      "244:\tlearn: 0.5220135\ttotal: 1m 3s\tremaining: 3m 16s\n",
      "245:\tlearn: 0.5219771\ttotal: 1m 4s\tremaining: 3m 16s\n",
      "246:\tlearn: 0.5219458\ttotal: 1m 4s\tremaining: 3m 16s\n",
      "247:\tlearn: 0.5219126\ttotal: 1m 4s\tremaining: 3m 15s\n",
      "248:\tlearn: 0.5218795\ttotal: 1m 4s\tremaining: 3m 15s\n",
      "249:\tlearn: 0.5218417\ttotal: 1m 5s\tremaining: 3m 15s\n",
      "250:\tlearn: 0.5218092\ttotal: 1m 5s\tremaining: 3m 14s\n",
      "251:\tlearn: 0.5217853\ttotal: 1m 5s\tremaining: 3m 14s\n",
      "252:\tlearn: 0.5217620\ttotal: 1m 5s\tremaining: 3m 14s\n",
      "253:\tlearn: 0.5217320\ttotal: 1m 6s\tremaining: 3m 13s\n",
      "254:\tlearn: 0.5216891\ttotal: 1m 6s\tremaining: 3m 13s\n",
      "255:\tlearn: 0.5216468\ttotal: 1m 6s\tremaining: 3m 13s\n",
      "256:\tlearn: 0.5216216\ttotal: 1m 6s\tremaining: 3m 12s\n",
      "257:\tlearn: 0.5215925\ttotal: 1m 6s\tremaining: 3m 12s\n",
      "258:\tlearn: 0.5215645\ttotal: 1m 7s\tremaining: 3m 12s\n",
      "259:\tlearn: 0.5215453\ttotal: 1m 7s\tremaining: 3m 12s\n",
      "260:\tlearn: 0.5215195\ttotal: 1m 7s\tremaining: 3m 11s\n",
      "261:\tlearn: 0.5214681\ttotal: 1m 8s\tremaining: 3m 11s\n",
      "262:\tlearn: 0.5214503\ttotal: 1m 8s\tremaining: 3m 11s\n",
      "263:\tlearn: 0.5214198\ttotal: 1m 8s\tremaining: 3m 12s\n",
      "264:\tlearn: 0.5213843\ttotal: 1m 9s\tremaining: 3m 11s\n",
      "265:\tlearn: 0.5213606\ttotal: 1m 9s\tremaining: 3m 11s\n",
      "266:\tlearn: 0.5213147\ttotal: 1m 9s\tremaining: 3m 11s\n",
      "267:\tlearn: 0.5212754\ttotal: 1m 9s\tremaining: 3m 10s\n",
      "268:\tlearn: 0.5212426\ttotal: 1m 10s\tremaining: 3m 10s\n",
      "269:\tlearn: 0.5212179\ttotal: 1m 10s\tremaining: 3m 10s\n",
      "270:\tlearn: 0.5211877\ttotal: 1m 10s\tremaining: 3m 10s\n",
      "271:\tlearn: 0.5211647\ttotal: 1m 10s\tremaining: 3m 9s\n",
      "272:\tlearn: 0.5211317\ttotal: 1m 11s\tremaining: 3m 9s\n",
      "273:\tlearn: 0.5210960\ttotal: 1m 11s\tremaining: 3m 9s\n",
      "274:\tlearn: 0.5210724\ttotal: 1m 11s\tremaining: 3m 8s\n",
      "275:\tlearn: 0.5210394\ttotal: 1m 11s\tremaining: 3m 8s\n",
      "276:\tlearn: 0.5210213\ttotal: 1m 12s\tremaining: 3m 8s\n",
      "277:\tlearn: 0.5209973\ttotal: 1m 12s\tremaining: 3m 7s\n",
      "278:\tlearn: 0.5209805\ttotal: 1m 12s\tremaining: 3m 7s\n",
      "279:\tlearn: 0.5209616\ttotal: 1m 12s\tremaining: 3m 7s\n",
      "280:\tlearn: 0.5209372\ttotal: 1m 13s\tremaining: 3m 6s\n",
      "281:\tlearn: 0.5208975\ttotal: 1m 13s\tremaining: 3m 6s\n",
      "282:\tlearn: 0.5208750\ttotal: 1m 13s\tremaining: 3m 6s\n",
      "283:\tlearn: 0.5208320\ttotal: 1m 13s\tremaining: 3m 6s\n",
      "284:\tlearn: 0.5208057\ttotal: 1m 14s\tremaining: 3m 5s\n",
      "285:\tlearn: 0.5207750\ttotal: 1m 14s\tremaining: 3m 5s\n",
      "286:\tlearn: 0.5207427\ttotal: 1m 14s\tremaining: 3m 5s\n",
      "287:\tlearn: 0.5207031\ttotal: 1m 14s\tremaining: 3m 5s\n",
      "288:\tlearn: 0.5206860\ttotal: 1m 15s\tremaining: 3m 5s\n",
      "289:\tlearn: 0.5206466\ttotal: 1m 15s\tremaining: 3m 4s\n",
      "290:\tlearn: 0.5206199\ttotal: 1m 15s\tremaining: 3m 4s\n",
      "291:\tlearn: 0.5205786\ttotal: 1m 15s\tremaining: 3m 4s\n",
      "292:\tlearn: 0.5205465\ttotal: 1m 16s\tremaining: 3m 3s\n",
      "293:\tlearn: 0.5205233\ttotal: 1m 16s\tremaining: 3m 3s\n",
      "294:\tlearn: 0.5204772\ttotal: 1m 16s\tremaining: 3m 3s\n",
      "295:\tlearn: 0.5204625\ttotal: 1m 16s\tremaining: 3m 2s\n",
      "296:\tlearn: 0.5204151\ttotal: 1m 17s\tremaining: 3m 2s\n",
      "297:\tlearn: 0.5203892\ttotal: 1m 17s\tremaining: 3m 2s\n",
      "298:\tlearn: 0.5203687\ttotal: 1m 17s\tremaining: 3m 2s\n",
      "299:\tlearn: 0.5203465\ttotal: 1m 18s\tremaining: 3m 2s\n",
      "300:\tlearn: 0.5203230\ttotal: 1m 18s\tremaining: 3m 2s\n",
      "301:\tlearn: 0.5203039\ttotal: 1m 18s\tremaining: 3m 2s\n",
      "302:\tlearn: 0.5202330\ttotal: 1m 19s\tremaining: 3m 1s\n",
      "303:\tlearn: 0.5201909\ttotal: 1m 19s\tremaining: 3m 1s\n",
      "304:\tlearn: 0.5201683\ttotal: 1m 19s\tremaining: 3m 1s\n",
      "305:\tlearn: 0.5201399\ttotal: 1m 19s\tremaining: 3m 1s\n",
      "306:\tlearn: 0.5200593\ttotal: 1m 20s\tremaining: 3m\n",
      "307:\tlearn: 0.5200274\ttotal: 1m 20s\tremaining: 3m\n",
      "308:\tlearn: 0.5200022\ttotal: 1m 20s\tremaining: 3m\n",
      "309:\tlearn: 0.5199698\ttotal: 1m 20s\tremaining: 2m 59s\n",
      "310:\tlearn: 0.5199361\ttotal: 1m 21s\tremaining: 2m 59s\n",
      "311:\tlearn: 0.5199088\ttotal: 1m 21s\tremaining: 2m 59s\n",
      "312:\tlearn: 0.5198712\ttotal: 1m 21s\tremaining: 2m 59s\n",
      "313:\tlearn: 0.5198461\ttotal: 1m 21s\tremaining: 2m 58s\n"
     ]
    },
    {
     "name": "stdout",
     "output_type": "stream",
     "text": [
      "314:\tlearn: 0.5198165\ttotal: 1m 22s\tremaining: 2m 58s\n",
      "315:\tlearn: 0.5198027\ttotal: 1m 22s\tremaining: 2m 58s\n",
      "316:\tlearn: 0.5197742\ttotal: 1m 22s\tremaining: 2m 57s\n",
      "317:\tlearn: 0.5197444\ttotal: 1m 22s\tremaining: 2m 57s\n",
      "318:\tlearn: 0.5197143\ttotal: 1m 23s\tremaining: 2m 57s\n",
      "319:\tlearn: 0.5196846\ttotal: 1m 23s\tremaining: 2m 56s\n",
      "320:\tlearn: 0.5196572\ttotal: 1m 23s\tremaining: 2m 56s\n",
      "321:\tlearn: 0.5196260\ttotal: 1m 23s\tremaining: 2m 56s\n",
      "322:\tlearn: 0.5196020\ttotal: 1m 24s\tremaining: 2m 56s\n",
      "323:\tlearn: 0.5195619\ttotal: 1m 24s\tremaining: 2m 55s\n",
      "324:\tlearn: 0.5195414\ttotal: 1m 24s\tremaining: 2m 55s\n",
      "325:\tlearn: 0.5195226\ttotal: 1m 24s\tremaining: 2m 55s\n",
      "326:\tlearn: 0.5194999\ttotal: 1m 24s\tremaining: 2m 54s\n",
      "327:\tlearn: 0.5194598\ttotal: 1m 25s\tremaining: 2m 54s\n",
      "328:\tlearn: 0.5194339\ttotal: 1m 25s\tremaining: 2m 54s\n",
      "329:\tlearn: 0.5194063\ttotal: 1m 25s\tremaining: 2m 54s\n",
      "330:\tlearn: 0.5193905\ttotal: 1m 25s\tremaining: 2m 53s\n",
      "331:\tlearn: 0.5193723\ttotal: 1m 26s\tremaining: 2m 53s\n",
      "332:\tlearn: 0.5193476\ttotal: 1m 26s\tremaining: 2m 53s\n",
      "333:\tlearn: 0.5193266\ttotal: 1m 26s\tremaining: 2m 52s\n",
      "334:\tlearn: 0.5192930\ttotal: 1m 26s\tremaining: 2m 52s\n",
      "335:\tlearn: 0.5192718\ttotal: 1m 27s\tremaining: 2m 52s\n",
      "336:\tlearn: 0.5192344\ttotal: 1m 27s\tremaining: 2m 51s\n",
      "337:\tlearn: 0.5192038\ttotal: 1m 27s\tremaining: 2m 51s\n",
      "338:\tlearn: 0.5191779\ttotal: 1m 28s\tremaining: 2m 51s\n",
      "339:\tlearn: 0.5191610\ttotal: 1m 28s\tremaining: 2m 51s\n",
      "340:\tlearn: 0.5191148\ttotal: 1m 28s\tremaining: 2m 51s\n",
      "341:\tlearn: 0.5190956\ttotal: 1m 29s\tremaining: 2m 51s\n",
      "342:\tlearn: 0.5190704\ttotal: 1m 29s\tremaining: 2m 51s\n",
      "343:\tlearn: 0.5190170\ttotal: 1m 29s\tremaining: 2m 50s\n",
      "344:\tlearn: 0.5189834\ttotal: 1m 29s\tremaining: 2m 50s\n",
      "345:\tlearn: 0.5189517\ttotal: 1m 30s\tremaining: 2m 50s\n",
      "346:\tlearn: 0.5189295\ttotal: 1m 30s\tremaining: 2m 49s\n",
      "347:\tlearn: 0.5189029\ttotal: 1m 30s\tremaining: 2m 49s\n",
      "348:\tlearn: 0.5188484\ttotal: 1m 30s\tremaining: 2m 49s\n",
      "349:\tlearn: 0.5188200\ttotal: 1m 31s\tremaining: 2m 49s\n",
      "350:\tlearn: 0.5187996\ttotal: 1m 31s\tremaining: 2m 49s\n",
      "351:\tlearn: 0.5187753\ttotal: 1m 31s\tremaining: 2m 48s\n",
      "352:\tlearn: 0.5187517\ttotal: 1m 31s\tremaining: 2m 48s\n",
      "353:\tlearn: 0.5187345\ttotal: 1m 32s\tremaining: 2m 48s\n",
      "354:\tlearn: 0.5186555\ttotal: 1m 32s\tremaining: 2m 47s\n",
      "355:\tlearn: 0.5186360\ttotal: 1m 32s\tremaining: 2m 47s\n",
      "356:\tlearn: 0.5186147\ttotal: 1m 32s\tremaining: 2m 47s\n",
      "357:\tlearn: 0.5185860\ttotal: 1m 33s\tremaining: 2m 47s\n",
      "358:\tlearn: 0.5185491\ttotal: 1m 33s\tremaining: 2m 46s\n",
      "359:\tlearn: 0.5185201\ttotal: 1m 33s\tremaining: 2m 46s\n",
      "360:\tlearn: 0.5184855\ttotal: 1m 33s\tremaining: 2m 46s\n",
      "361:\tlearn: 0.5184597\ttotal: 1m 34s\tremaining: 2m 45s\n",
      "362:\tlearn: 0.5184429\ttotal: 1m 34s\tremaining: 2m 45s\n",
      "363:\tlearn: 0.5184178\ttotal: 1m 34s\tremaining: 2m 45s\n",
      "364:\tlearn: 0.5183955\ttotal: 1m 34s\tremaining: 2m 44s\n",
      "365:\tlearn: 0.5183551\ttotal: 1m 35s\tremaining: 2m 44s\n",
      "366:\tlearn: 0.5183286\ttotal: 1m 35s\tremaining: 2m 44s\n",
      "367:\tlearn: 0.5183003\ttotal: 1m 35s\tremaining: 2m 44s\n",
      "368:\tlearn: 0.5182726\ttotal: 1m 35s\tremaining: 2m 43s\n",
      "369:\tlearn: 0.5182492\ttotal: 1m 36s\tremaining: 2m 43s\n",
      "370:\tlearn: 0.5182288\ttotal: 1m 36s\tremaining: 2m 43s\n",
      "371:\tlearn: 0.5182062\ttotal: 1m 36s\tremaining: 2m 42s\n",
      "372:\tlearn: 0.5181876\ttotal: 1m 36s\tremaining: 2m 42s\n",
      "373:\tlearn: 0.5181552\ttotal: 1m 36s\tremaining: 2m 42s\n",
      "374:\tlearn: 0.5181288\ttotal: 1m 37s\tremaining: 2m 42s\n",
      "375:\tlearn: 0.5181129\ttotal: 1m 37s\tremaining: 2m 41s\n",
      "376:\tlearn: 0.5180923\ttotal: 1m 37s\tremaining: 2m 41s\n",
      "377:\tlearn: 0.5180693\ttotal: 1m 38s\tremaining: 2m 41s\n",
      "378:\tlearn: 0.5180419\ttotal: 1m 38s\tremaining: 2m 41s\n",
      "379:\tlearn: 0.5180156\ttotal: 1m 38s\tremaining: 2m 41s\n",
      "380:\tlearn: 0.5179944\ttotal: 1m 39s\tremaining: 2m 41s\n",
      "381:\tlearn: 0.5179677\ttotal: 1m 39s\tremaining: 2m 40s\n",
      "382:\tlearn: 0.5179422\ttotal: 1m 39s\tremaining: 2m 40s\n",
      "383:\tlearn: 0.5179265\ttotal: 1m 39s\tremaining: 2m 40s\n",
      "384:\tlearn: 0.5179067\ttotal: 1m 40s\tremaining: 2m 39s\n",
      "385:\tlearn: 0.5178829\ttotal: 1m 40s\tremaining: 2m 39s\n",
      "386:\tlearn: 0.5178617\ttotal: 1m 40s\tremaining: 2m 39s\n",
      "387:\tlearn: 0.5178386\ttotal: 1m 40s\tremaining: 2m 39s\n",
      "388:\tlearn: 0.5178173\ttotal: 1m 41s\tremaining: 2m 38s\n",
      "389:\tlearn: 0.5178016\ttotal: 1m 41s\tremaining: 2m 38s\n",
      "390:\tlearn: 0.5177863\ttotal: 1m 41s\tremaining: 2m 38s\n",
      "391:\tlearn: 0.5177626\ttotal: 1m 41s\tremaining: 2m 37s\n",
      "392:\tlearn: 0.5177395\ttotal: 1m 42s\tremaining: 2m 37s\n",
      "393:\tlearn: 0.5177193\ttotal: 1m 42s\tremaining: 2m 37s\n",
      "394:\tlearn: 0.5176947\ttotal: 1m 42s\tremaining: 2m 37s\n",
      "395:\tlearn: 0.5176606\ttotal: 1m 42s\tremaining: 2m 36s\n",
      "396:\tlearn: 0.5176411\ttotal: 1m 43s\tremaining: 2m 36s\n",
      "397:\tlearn: 0.5176043\ttotal: 1m 43s\tremaining: 2m 36s\n",
      "398:\tlearn: 0.5175853\ttotal: 1m 43s\tremaining: 2m 35s\n",
      "399:\tlearn: 0.5175567\ttotal: 1m 43s\tremaining: 2m 35s\n",
      "400:\tlearn: 0.5175359\ttotal: 1m 43s\tremaining: 2m 35s\n",
      "401:\tlearn: 0.5175088\ttotal: 1m 44s\tremaining: 2m 34s\n",
      "402:\tlearn: 0.5174910\ttotal: 1m 44s\tremaining: 2m 34s\n",
      "403:\tlearn: 0.5174635\ttotal: 1m 44s\tremaining: 2m 34s\n",
      "404:\tlearn: 0.5174301\ttotal: 1m 44s\tremaining: 2m 34s\n",
      "405:\tlearn: 0.5174164\ttotal: 1m 45s\tremaining: 2m 33s\n",
      "406:\tlearn: 0.5173947\ttotal: 1m 45s\tremaining: 2m 33s\n",
      "407:\tlearn: 0.5173685\ttotal: 1m 45s\tremaining: 2m 33s\n",
      "408:\tlearn: 0.5173435\ttotal: 1m 45s\tremaining: 2m 32s\n",
      "409:\tlearn: 0.5173241\ttotal: 1m 46s\tremaining: 2m 32s\n",
      "410:\tlearn: 0.5173004\ttotal: 1m 46s\tremaining: 2m 32s\n",
      "411:\tlearn: 0.5172867\ttotal: 1m 46s\tremaining: 2m 32s\n",
      "412:\tlearn: 0.5172759\ttotal: 1m 46s\tremaining: 2m 31s\n",
      "413:\tlearn: 0.5172558\ttotal: 1m 47s\tremaining: 2m 31s\n",
      "414:\tlearn: 0.5172356\ttotal: 1m 47s\tremaining: 2m 31s\n",
      "415:\tlearn: 0.5172052\ttotal: 1m 47s\tremaining: 2m 31s\n",
      "416:\tlearn: 0.5171864\ttotal: 1m 48s\tremaining: 2m 31s\n",
      "417:\tlearn: 0.5171688\ttotal: 1m 48s\tremaining: 2m 31s\n",
      "418:\tlearn: 0.5171516\ttotal: 1m 48s\tremaining: 2m 31s\n",
      "419:\tlearn: 0.5171378\ttotal: 1m 49s\tremaining: 2m 30s\n",
      "420:\tlearn: 0.5171194\ttotal: 1m 49s\tremaining: 2m 30s\n",
      "421:\tlearn: 0.5170839\ttotal: 1m 49s\tremaining: 2m 30s\n",
      "422:\tlearn: 0.5170614\ttotal: 1m 49s\tremaining: 2m 29s\n",
      "423:\tlearn: 0.5170443\ttotal: 1m 50s\tremaining: 2m 29s\n",
      "424:\tlearn: 0.5170006\ttotal: 1m 50s\tremaining: 2m 29s\n",
      "425:\tlearn: 0.5169834\ttotal: 1m 50s\tremaining: 2m 29s\n",
      "426:\tlearn: 0.5169654\ttotal: 1m 50s\tremaining: 2m 28s\n",
      "427:\tlearn: 0.5169315\ttotal: 1m 51s\tremaining: 2m 28s\n",
      "428:\tlearn: 0.5169116\ttotal: 1m 51s\tremaining: 2m 28s\n",
      "429:\tlearn: 0.5168927\ttotal: 1m 51s\tremaining: 2m 27s\n",
      "430:\tlearn: 0.5168695\ttotal: 1m 51s\tremaining: 2m 27s\n",
      "431:\tlearn: 0.5168391\ttotal: 1m 52s\tremaining: 2m 27s\n",
      "432:\tlearn: 0.5168245\ttotal: 1m 52s\tremaining: 2m 27s\n",
      "433:\tlearn: 0.5168089\ttotal: 1m 52s\tremaining: 2m 26s\n",
      "434:\tlearn: 0.5167772\ttotal: 1m 52s\tremaining: 2m 26s\n",
      "435:\tlearn: 0.5167505\ttotal: 1m 53s\tremaining: 2m 26s\n",
      "436:\tlearn: 0.5167282\ttotal: 1m 53s\tremaining: 2m 25s\n",
      "437:\tlearn: 0.5167176\ttotal: 1m 53s\tremaining: 2m 25s\n",
      "438:\tlearn: 0.5166933\ttotal: 1m 53s\tremaining: 2m 25s\n",
      "439:\tlearn: 0.5166487\ttotal: 1m 53s\tremaining: 2m 25s\n",
      "440:\tlearn: 0.5166266\ttotal: 1m 54s\tremaining: 2m 24s\n",
      "441:\tlearn: 0.5166021\ttotal: 1m 54s\tremaining: 2m 24s\n",
      "442:\tlearn: 0.5165770\ttotal: 1m 54s\tremaining: 2m 24s\n",
      "443:\tlearn: 0.5165575\ttotal: 1m 54s\tremaining: 2m 23s\n",
      "444:\tlearn: 0.5165304\ttotal: 1m 55s\tremaining: 2m 23s\n",
      "445:\tlearn: 0.5165133\ttotal: 1m 55s\tremaining: 2m 23s\n",
      "446:\tlearn: 0.5164864\ttotal: 1m 55s\tremaining: 2m 23s\n",
      "447:\tlearn: 0.5164650\ttotal: 1m 55s\tremaining: 2m 22s\n",
      "448:\tlearn: 0.5164487\ttotal: 1m 56s\tremaining: 2m 22s\n",
      "449:\tlearn: 0.5164333\ttotal: 1m 56s\tremaining: 2m 22s\n",
      "450:\tlearn: 0.5164141\ttotal: 1m 56s\tremaining: 2m 21s\n",
      "451:\tlearn: 0.5163916\ttotal: 1m 56s\tremaining: 2m 21s\n",
      "452:\tlearn: 0.5163612\ttotal: 1m 57s\tremaining: 2m 21s\n",
      "453:\tlearn: 0.5163306\ttotal: 1m 57s\tremaining: 2m 21s\n",
      "454:\tlearn: 0.5163108\ttotal: 1m 57s\tremaining: 2m 20s\n",
      "455:\tlearn: 0.5162895\ttotal: 1m 57s\tremaining: 2m 20s\n",
      "456:\tlearn: 0.5162751\ttotal: 1m 58s\tremaining: 2m 20s\n",
      "457:\tlearn: 0.5162536\ttotal: 1m 58s\tremaining: 2m 20s\n",
      "458:\tlearn: 0.5162278\ttotal: 1m 58s\tremaining: 2m 20s\n",
      "459:\tlearn: 0.5162093\ttotal: 1m 59s\tremaining: 2m 19s\n",
      "460:\tlearn: 0.5161912\ttotal: 1m 59s\tremaining: 2m 19s\n",
      "461:\tlearn: 0.5161689\ttotal: 1m 59s\tremaining: 2m 19s\n",
      "462:\tlearn: 0.5161513\ttotal: 1m 59s\tremaining: 2m 19s\n",
      "463:\tlearn: 0.5161331\ttotal: 2m\tremaining: 2m 18s\n",
      "464:\tlearn: 0.5161159\ttotal: 2m\tremaining: 2m 18s\n",
      "465:\tlearn: 0.5160977\ttotal: 2m\tremaining: 2m 18s\n"
     ]
    },
    {
     "name": "stdout",
     "output_type": "stream",
     "text": [
      "466:\tlearn: 0.5160675\ttotal: 2m\tremaining: 2m 18s\n",
      "467:\tlearn: 0.5160532\ttotal: 2m 1s\tremaining: 2m 17s\n",
      "468:\tlearn: 0.5160336\ttotal: 2m 1s\tremaining: 2m 17s\n",
      "469:\tlearn: 0.5160091\ttotal: 2m 1s\tremaining: 2m 17s\n",
      "470:\tlearn: 0.5159902\ttotal: 2m 1s\tremaining: 2m 16s\n",
      "471:\tlearn: 0.5159598\ttotal: 2m 2s\tremaining: 2m 16s\n",
      "472:\tlearn: 0.5159386\ttotal: 2m 2s\tremaining: 2m 16s\n",
      "473:\tlearn: 0.5159163\ttotal: 2m 2s\tremaining: 2m 16s\n",
      "474:\tlearn: 0.5158936\ttotal: 2m 3s\tremaining: 2m 15s\n",
      "475:\tlearn: 0.5158684\ttotal: 2m 3s\tremaining: 2m 15s\n",
      "476:\tlearn: 0.5158504\ttotal: 2m 3s\tremaining: 2m 15s\n",
      "477:\tlearn: 0.5158276\ttotal: 2m 3s\tremaining: 2m 15s\n",
      "478:\tlearn: 0.5158033\ttotal: 2m 3s\tremaining: 2m 14s\n",
      "479:\tlearn: 0.5157873\ttotal: 2m 4s\tremaining: 2m 14s\n",
      "480:\tlearn: 0.5157596\ttotal: 2m 4s\tremaining: 2m 14s\n",
      "481:\tlearn: 0.5157415\ttotal: 2m 4s\tremaining: 2m 14s\n",
      "482:\tlearn: 0.5157230\ttotal: 2m 4s\tremaining: 2m 13s\n",
      "483:\tlearn: 0.5156989\ttotal: 2m 5s\tremaining: 2m 13s\n",
      "484:\tlearn: 0.5156826\ttotal: 2m 5s\tremaining: 2m 13s\n",
      "485:\tlearn: 0.5156627\ttotal: 2m 5s\tremaining: 2m 12s\n",
      "486:\tlearn: 0.5156330\ttotal: 2m 5s\tremaining: 2m 12s\n",
      "487:\tlearn: 0.5156045\ttotal: 2m 6s\tremaining: 2m 12s\n",
      "488:\tlearn: 0.5155917\ttotal: 2m 6s\tremaining: 2m 12s\n",
      "489:\tlearn: 0.5155727\ttotal: 2m 6s\tremaining: 2m 11s\n",
      "490:\tlearn: 0.5155552\ttotal: 2m 6s\tremaining: 2m 11s\n",
      "491:\tlearn: 0.5155351\ttotal: 2m 7s\tremaining: 2m 11s\n",
      "492:\tlearn: 0.5155153\ttotal: 2m 7s\tremaining: 2m 11s\n",
      "493:\tlearn: 0.5155007\ttotal: 2m 7s\tremaining: 2m 10s\n",
      "494:\tlearn: 0.5154819\ttotal: 2m 8s\tremaining: 2m 10s\n",
      "495:\tlearn: 0.5154681\ttotal: 2m 8s\tremaining: 2m 10s\n",
      "496:\tlearn: 0.5154542\ttotal: 2m 8s\tremaining: 2m 10s\n",
      "497:\tlearn: 0.5154226\ttotal: 2m 9s\tremaining: 2m 10s\n",
      "498:\tlearn: 0.5154056\ttotal: 2m 9s\tremaining: 2m 9s\n",
      "499:\tlearn: 0.5153852\ttotal: 2m 9s\tremaining: 2m 9s\n",
      "500:\tlearn: 0.5153615\ttotal: 2m 9s\tremaining: 2m 9s\n",
      "501:\tlearn: 0.5153449\ttotal: 2m 9s\tremaining: 2m 8s\n",
      "502:\tlearn: 0.5153206\ttotal: 2m 10s\tremaining: 2m 8s\n",
      "503:\tlearn: 0.5153044\ttotal: 2m 10s\tremaining: 2m 8s\n",
      "504:\tlearn: 0.5152731\ttotal: 2m 10s\tremaining: 2m 8s\n",
      "505:\tlearn: 0.5152357\ttotal: 2m 10s\tremaining: 2m 7s\n",
      "506:\tlearn: 0.5152152\ttotal: 2m 11s\tremaining: 2m 7s\n",
      "507:\tlearn: 0.5151969\ttotal: 2m 11s\tremaining: 2m 7s\n",
      "508:\tlearn: 0.5151747\ttotal: 2m 11s\tremaining: 2m 7s\n",
      "509:\tlearn: 0.5151518\ttotal: 2m 11s\tremaining: 2m 6s\n",
      "510:\tlearn: 0.5151284\ttotal: 2m 12s\tremaining: 2m 6s\n",
      "511:\tlearn: 0.5151093\ttotal: 2m 12s\tremaining: 2m 6s\n",
      "512:\tlearn: 0.5150875\ttotal: 2m 12s\tremaining: 2m 5s\n",
      "513:\tlearn: 0.5150692\ttotal: 2m 12s\tremaining: 2m 5s\n",
      "514:\tlearn: 0.5150426\ttotal: 2m 13s\tremaining: 2m 5s\n",
      "515:\tlearn: 0.5150176\ttotal: 2m 13s\tremaining: 2m 5s\n",
      "516:\tlearn: 0.5149990\ttotal: 2m 13s\tremaining: 2m 4s\n",
      "517:\tlearn: 0.5149803\ttotal: 2m 13s\tremaining: 2m 4s\n",
      "518:\tlearn: 0.5149595\ttotal: 2m 14s\tremaining: 2m 4s\n",
      "519:\tlearn: 0.5149066\ttotal: 2m 14s\tremaining: 2m 4s\n",
      "520:\tlearn: 0.5148895\ttotal: 2m 14s\tremaining: 2m 3s\n",
      "521:\tlearn: 0.5148753\ttotal: 2m 14s\tremaining: 2m 3s\n",
      "522:\tlearn: 0.5148621\ttotal: 2m 15s\tremaining: 2m 3s\n",
      "523:\tlearn: 0.5148409\ttotal: 2m 15s\tremaining: 2m 2s\n",
      "524:\tlearn: 0.5148175\ttotal: 2m 15s\tremaining: 2m 2s\n",
      "525:\tlearn: 0.5147984\ttotal: 2m 15s\tremaining: 2m 2s\n",
      "526:\tlearn: 0.5147778\ttotal: 2m 16s\tremaining: 2m 2s\n",
      "527:\tlearn: 0.5147632\ttotal: 2m 16s\tremaining: 2m 1s\n",
      "528:\tlearn: 0.5147429\ttotal: 2m 16s\tremaining: 2m 1s\n",
      "529:\tlearn: 0.5147210\ttotal: 2m 16s\tremaining: 2m 1s\n",
      "530:\tlearn: 0.5147049\ttotal: 2m 17s\tremaining: 2m 1s\n",
      "531:\tlearn: 0.5146807\ttotal: 2m 17s\tremaining: 2m\n",
      "532:\tlearn: 0.5146611\ttotal: 2m 17s\tremaining: 2m\n",
      "533:\tlearn: 0.5146444\ttotal: 2m 18s\tremaining: 2m\n",
      "534:\tlearn: 0.5146288\ttotal: 2m 18s\tremaining: 2m\n",
      "535:\tlearn: 0.5146128\ttotal: 2m 18s\tremaining: 2m\n",
      "536:\tlearn: 0.5145896\ttotal: 2m 19s\tremaining: 1m 59s\n",
      "537:\tlearn: 0.5145667\ttotal: 2m 19s\tremaining: 1m 59s\n",
      "538:\tlearn: 0.5145505\ttotal: 2m 19s\tremaining: 1m 59s\n",
      "539:\tlearn: 0.5145242\ttotal: 2m 19s\tremaining: 1m 59s\n",
      "540:\tlearn: 0.5145088\ttotal: 2m 20s\tremaining: 1m 58s\n",
      "541:\tlearn: 0.5144848\ttotal: 2m 20s\tremaining: 1m 58s\n",
      "542:\tlearn: 0.5144658\ttotal: 2m 20s\tremaining: 1m 58s\n",
      "543:\tlearn: 0.5144443\ttotal: 2m 20s\tremaining: 1m 58s\n",
      "544:\tlearn: 0.5144217\ttotal: 2m 21s\tremaining: 1m 57s\n",
      "545:\tlearn: 0.5143982\ttotal: 2m 21s\tremaining: 1m 57s\n",
      "546:\tlearn: 0.5143776\ttotal: 2m 21s\tremaining: 1m 57s\n",
      "547:\tlearn: 0.5143580\ttotal: 2m 21s\tremaining: 1m 56s\n",
      "548:\tlearn: 0.5143401\ttotal: 2m 22s\tremaining: 1m 56s\n",
      "549:\tlearn: 0.5143149\ttotal: 2m 22s\tremaining: 1m 56s\n",
      "550:\tlearn: 0.5142982\ttotal: 2m 22s\tremaining: 1m 56s\n",
      "551:\tlearn: 0.5142741\ttotal: 2m 22s\tremaining: 1m 55s\n",
      "552:\tlearn: 0.5142605\ttotal: 2m 23s\tremaining: 1m 55s\n",
      "553:\tlearn: 0.5142430\ttotal: 2m 23s\tremaining: 1m 55s\n",
      "554:\tlearn: 0.5142183\ttotal: 2m 23s\tremaining: 1m 55s\n",
      "555:\tlearn: 0.5141976\ttotal: 2m 23s\tremaining: 1m 54s\n",
      "556:\tlearn: 0.5141870\ttotal: 2m 24s\tremaining: 1m 54s\n",
      "557:\tlearn: 0.5141697\ttotal: 2m 24s\tremaining: 1m 54s\n",
      "558:\tlearn: 0.5141557\ttotal: 2m 24s\tremaining: 1m 53s\n",
      "559:\tlearn: 0.5141291\ttotal: 2m 24s\tremaining: 1m 53s\n",
      "560:\tlearn: 0.5141117\ttotal: 2m 24s\tremaining: 1m 53s\n",
      "561:\tlearn: 0.5140913\ttotal: 2m 25s\tremaining: 1m 53s\n",
      "562:\tlearn: 0.5140708\ttotal: 2m 25s\tremaining: 1m 52s\n",
      "563:\tlearn: 0.5140582\ttotal: 2m 25s\tremaining: 1m 52s\n",
      "564:\tlearn: 0.5140370\ttotal: 2m 25s\tremaining: 1m 52s\n",
      "565:\tlearn: 0.5140163\ttotal: 2m 26s\tremaining: 1m 52s\n",
      "566:\tlearn: 0.5139954\ttotal: 2m 26s\tremaining: 1m 51s\n",
      "567:\tlearn: 0.5139783\ttotal: 2m 26s\tremaining: 1m 51s\n",
      "568:\tlearn: 0.5139624\ttotal: 2m 26s\tremaining: 1m 51s\n",
      "569:\tlearn: 0.5139404\ttotal: 2m 27s\tremaining: 1m 51s\n",
      "570:\tlearn: 0.5139268\ttotal: 2m 27s\tremaining: 1m 50s\n",
      "571:\tlearn: 0.5138943\ttotal: 2m 27s\tremaining: 1m 50s\n",
      "572:\tlearn: 0.5138752\ttotal: 2m 28s\tremaining: 1m 50s\n",
      "573:\tlearn: 0.5138534\ttotal: 2m 28s\tremaining: 1m 50s\n",
      "574:\tlearn: 0.5138337\ttotal: 2m 28s\tremaining: 1m 50s\n",
      "575:\tlearn: 0.5138123\ttotal: 2m 29s\tremaining: 1m 49s\n",
      "576:\tlearn: 0.5137881\ttotal: 2m 29s\tremaining: 1m 49s\n",
      "577:\tlearn: 0.5137760\ttotal: 2m 29s\tremaining: 1m 49s\n",
      "578:\tlearn: 0.5137502\ttotal: 2m 29s\tremaining: 1m 48s\n",
      "579:\tlearn: 0.5137298\ttotal: 2m 30s\tremaining: 1m 48s\n",
      "580:\tlearn: 0.5137118\ttotal: 2m 30s\tremaining: 1m 48s\n",
      "581:\tlearn: 0.5136930\ttotal: 2m 30s\tremaining: 1m 48s\n",
      "582:\tlearn: 0.5136768\ttotal: 2m 30s\tremaining: 1m 47s\n",
      "583:\tlearn: 0.5136552\ttotal: 2m 30s\tremaining: 1m 47s\n",
      "584:\tlearn: 0.5136397\ttotal: 2m 31s\tremaining: 1m 47s\n",
      "585:\tlearn: 0.5136195\ttotal: 2m 31s\tremaining: 1m 47s\n",
      "586:\tlearn: 0.5136012\ttotal: 2m 31s\tremaining: 1m 46s\n",
      "587:\tlearn: 0.5135864\ttotal: 2m 31s\tremaining: 1m 46s\n",
      "588:\tlearn: 0.5135644\ttotal: 2m 32s\tremaining: 1m 46s\n",
      "589:\tlearn: 0.5135472\ttotal: 2m 32s\tremaining: 1m 45s\n",
      "590:\tlearn: 0.5135123\ttotal: 2m 32s\tremaining: 1m 45s\n",
      "591:\tlearn: 0.5134928\ttotal: 2m 32s\tremaining: 1m 45s\n",
      "592:\tlearn: 0.5134721\ttotal: 2m 33s\tremaining: 1m 45s\n",
      "593:\tlearn: 0.5134467\ttotal: 2m 33s\tremaining: 1m 44s\n",
      "594:\tlearn: 0.5134332\ttotal: 2m 33s\tremaining: 1m 44s\n",
      "595:\tlearn: 0.5134207\ttotal: 2m 33s\tremaining: 1m 44s\n",
      "596:\tlearn: 0.5133984\ttotal: 2m 34s\tremaining: 1m 44s\n",
      "597:\tlearn: 0.5133713\ttotal: 2m 34s\tremaining: 1m 43s\n",
      "598:\tlearn: 0.5133498\ttotal: 2m 34s\tremaining: 1m 43s\n",
      "599:\tlearn: 0.5133315\ttotal: 2m 35s\tremaining: 1m 43s\n",
      "600:\tlearn: 0.5133162\ttotal: 2m 35s\tremaining: 1m 43s\n",
      "601:\tlearn: 0.5132801\ttotal: 2m 35s\tremaining: 1m 42s\n",
      "602:\tlearn: 0.5132664\ttotal: 2m 35s\tremaining: 1m 42s\n",
      "603:\tlearn: 0.5132478\ttotal: 2m 36s\tremaining: 1m 42s\n",
      "604:\tlearn: 0.5132301\ttotal: 2m 36s\tremaining: 1m 42s\n",
      "605:\tlearn: 0.5132115\ttotal: 2m 36s\tremaining: 1m 41s\n",
      "606:\tlearn: 0.5131901\ttotal: 2m 36s\tremaining: 1m 41s\n",
      "607:\tlearn: 0.5131705\ttotal: 2m 37s\tremaining: 1m 41s\n",
      "608:\tlearn: 0.5131482\ttotal: 2m 37s\tremaining: 1m 41s\n",
      "609:\tlearn: 0.5131358\ttotal: 2m 37s\tremaining: 1m 40s\n",
      "610:\tlearn: 0.5131192\ttotal: 2m 38s\tremaining: 1m 40s\n",
      "611:\tlearn: 0.5130939\ttotal: 2m 38s\tremaining: 1m 40s\n",
      "612:\tlearn: 0.5130798\ttotal: 2m 38s\tremaining: 1m 40s\n",
      "613:\tlearn: 0.5130598\ttotal: 2m 39s\tremaining: 1m 39s\n",
      "614:\tlearn: 0.5130386\ttotal: 2m 39s\tremaining: 1m 39s\n",
      "615:\tlearn: 0.5130201\ttotal: 2m 39s\tremaining: 1m 39s\n",
      "616:\tlearn: 0.5129972\ttotal: 2m 39s\tremaining: 1m 39s\n",
      "617:\tlearn: 0.5129722\ttotal: 2m 40s\tremaining: 1m 38s\n",
      "618:\tlearn: 0.5129538\ttotal: 2m 40s\tremaining: 1m 38s\n",
      "619:\tlearn: 0.5129346\ttotal: 2m 40s\tremaining: 1m 38s\n"
     ]
    },
    {
     "name": "stdout",
     "output_type": "stream",
     "text": [
      "620:\tlearn: 0.5129147\ttotal: 2m 40s\tremaining: 1m 38s\n",
      "621:\tlearn: 0.5128935\ttotal: 2m 40s\tremaining: 1m 37s\n",
      "622:\tlearn: 0.5128767\ttotal: 2m 41s\tremaining: 1m 37s\n",
      "623:\tlearn: 0.5128602\ttotal: 2m 41s\tremaining: 1m 37s\n",
      "624:\tlearn: 0.5128293\ttotal: 2m 41s\tremaining: 1m 37s\n",
      "625:\tlearn: 0.5128113\ttotal: 2m 41s\tremaining: 1m 36s\n",
      "626:\tlearn: 0.5127932\ttotal: 2m 42s\tremaining: 1m 36s\n",
      "627:\tlearn: 0.5127795\ttotal: 2m 42s\tremaining: 1m 36s\n",
      "628:\tlearn: 0.5127594\ttotal: 2m 42s\tremaining: 1m 35s\n",
      "629:\tlearn: 0.5127440\ttotal: 2m 42s\tremaining: 1m 35s\n",
      "630:\tlearn: 0.5127208\ttotal: 2m 43s\tremaining: 1m 35s\n",
      "631:\tlearn: 0.5127037\ttotal: 2m 43s\tremaining: 1m 35s\n",
      "632:\tlearn: 0.5126913\ttotal: 2m 43s\tremaining: 1m 34s\n",
      "633:\tlearn: 0.5126742\ttotal: 2m 43s\tremaining: 1m 34s\n",
      "634:\tlearn: 0.5126615\ttotal: 2m 44s\tremaining: 1m 34s\n",
      "635:\tlearn: 0.5126320\ttotal: 2m 44s\tremaining: 1m 34s\n",
      "636:\tlearn: 0.5126155\ttotal: 2m 44s\tremaining: 1m 33s\n",
      "637:\tlearn: 0.5125977\ttotal: 2m 44s\tremaining: 1m 33s\n",
      "638:\tlearn: 0.5125820\ttotal: 2m 45s\tremaining: 1m 33s\n",
      "639:\tlearn: 0.5125597\ttotal: 2m 45s\tremaining: 1m 33s\n",
      "640:\tlearn: 0.5125271\ttotal: 2m 45s\tremaining: 1m 32s\n",
      "641:\tlearn: 0.5125056\ttotal: 2m 45s\tremaining: 1m 32s\n",
      "642:\tlearn: 0.5124902\ttotal: 2m 46s\tremaining: 1m 32s\n",
      "643:\tlearn: 0.5124707\ttotal: 2m 46s\tremaining: 1m 31s\n",
      "644:\tlearn: 0.5124434\ttotal: 2m 46s\tremaining: 1m 31s\n",
      "645:\tlearn: 0.5124285\ttotal: 2m 46s\tremaining: 1m 31s\n",
      "646:\tlearn: 0.5124117\ttotal: 2m 47s\tremaining: 1m 31s\n",
      "647:\tlearn: 0.5123913\ttotal: 2m 47s\tremaining: 1m 30s\n",
      "648:\tlearn: 0.5123740\ttotal: 2m 47s\tremaining: 1m 30s\n",
      "649:\tlearn: 0.5123519\ttotal: 2m 48s\tremaining: 1m 30s\n",
      "650:\tlearn: 0.5123381\ttotal: 2m 48s\tremaining: 1m 30s\n",
      "651:\tlearn: 0.5123226\ttotal: 2m 48s\tremaining: 1m 30s\n",
      "652:\tlearn: 0.5123071\ttotal: 2m 49s\tremaining: 1m 29s\n",
      "653:\tlearn: 0.5122971\ttotal: 2m 49s\tremaining: 1m 29s\n",
      "654:\tlearn: 0.5122769\ttotal: 2m 49s\tremaining: 1m 29s\n",
      "655:\tlearn: 0.5122655\ttotal: 2m 49s\tremaining: 1m 29s\n",
      "656:\tlearn: 0.5122459\ttotal: 2m 50s\tremaining: 1m 28s\n",
      "657:\tlearn: 0.5122291\ttotal: 2m 50s\tremaining: 1m 28s\n",
      "658:\tlearn: 0.5122126\ttotal: 2m 50s\tremaining: 1m 28s\n",
      "659:\tlearn: 0.5121872\ttotal: 2m 51s\tremaining: 1m 28s\n",
      "660:\tlearn: 0.5121751\ttotal: 2m 51s\tremaining: 1m 27s\n",
      "661:\tlearn: 0.5121540\ttotal: 2m 51s\tremaining: 1m 27s\n",
      "662:\tlearn: 0.5121297\ttotal: 2m 51s\tremaining: 1m 27s\n",
      "663:\tlearn: 0.5121146\ttotal: 2m 52s\tremaining: 1m 27s\n",
      "664:\tlearn: 0.5120951\ttotal: 2m 52s\tremaining: 1m 26s\n",
      "665:\tlearn: 0.5120791\ttotal: 2m 52s\tremaining: 1m 26s\n",
      "666:\tlearn: 0.5120590\ttotal: 2m 52s\tremaining: 1m 26s\n",
      "667:\tlearn: 0.5120408\ttotal: 2m 53s\tremaining: 1m 26s\n",
      "668:\tlearn: 0.5120242\ttotal: 2m 53s\tremaining: 1m 25s\n",
      "669:\tlearn: 0.5120106\ttotal: 2m 53s\tremaining: 1m 25s\n",
      "670:\tlearn: 0.5119923\ttotal: 2m 53s\tremaining: 1m 25s\n",
      "671:\tlearn: 0.5119773\ttotal: 2m 54s\tremaining: 1m 25s\n",
      "672:\tlearn: 0.5119591\ttotal: 2m 54s\tremaining: 1m 24s\n",
      "673:\tlearn: 0.5119435\ttotal: 2m 54s\tremaining: 1m 24s\n",
      "674:\tlearn: 0.5119191\ttotal: 2m 54s\tremaining: 1m 24s\n",
      "675:\tlearn: 0.5119038\ttotal: 2m 55s\tremaining: 1m 23s\n",
      "676:\tlearn: 0.5118745\ttotal: 2m 55s\tremaining: 1m 23s\n",
      "677:\tlearn: 0.5118407\ttotal: 2m 55s\tremaining: 1m 23s\n",
      "678:\tlearn: 0.5118257\ttotal: 2m 55s\tremaining: 1m 23s\n",
      "679:\tlearn: 0.5118103\ttotal: 2m 56s\tremaining: 1m 22s\n",
      "680:\tlearn: 0.5118011\ttotal: 2m 56s\tremaining: 1m 22s\n",
      "681:\tlearn: 0.5117879\ttotal: 2m 56s\tremaining: 1m 22s\n",
      "682:\tlearn: 0.5117689\ttotal: 2m 56s\tremaining: 1m 22s\n",
      "683:\tlearn: 0.5117401\ttotal: 2m 57s\tremaining: 1m 21s\n",
      "684:\tlearn: 0.5117179\ttotal: 2m 57s\tremaining: 1m 21s\n",
      "685:\tlearn: 0.5117043\ttotal: 2m 57s\tremaining: 1m 21s\n",
      "686:\tlearn: 0.5116865\ttotal: 2m 58s\tremaining: 1m 21s\n",
      "687:\tlearn: 0.5116676\ttotal: 2m 58s\tremaining: 1m 20s\n",
      "688:\tlearn: 0.5116441\ttotal: 2m 58s\tremaining: 1m 20s\n",
      "689:\tlearn: 0.5116289\ttotal: 2m 59s\tremaining: 1m 20s\n",
      "690:\tlearn: 0.5116046\ttotal: 2m 59s\tremaining: 1m 20s\n",
      "691:\tlearn: 0.5115898\ttotal: 2m 59s\tremaining: 1m 19s\n",
      "692:\tlearn: 0.5115667\ttotal: 2m 59s\tremaining: 1m 19s\n",
      "693:\tlearn: 0.5115463\ttotal: 3m\tremaining: 1m 19s\n",
      "694:\tlearn: 0.5115289\ttotal: 3m\tremaining: 1m 19s\n",
      "695:\tlearn: 0.5115083\ttotal: 3m\tremaining: 1m 18s\n",
      "696:\tlearn: 0.5114860\ttotal: 3m\tremaining: 1m 18s\n",
      "697:\tlearn: 0.5114631\ttotal: 3m 1s\tremaining: 1m 18s\n",
      "698:\tlearn: 0.5114463\ttotal: 3m 1s\tremaining: 1m 18s\n",
      "699:\tlearn: 0.5114284\ttotal: 3m 1s\tremaining: 1m 17s\n",
      "700:\tlearn: 0.5114048\ttotal: 3m 1s\tremaining: 1m 17s\n",
      "701:\tlearn: 0.5113877\ttotal: 3m 1s\tremaining: 1m 17s\n",
      "702:\tlearn: 0.5113637\ttotal: 3m 2s\tremaining: 1m 16s\n",
      "703:\tlearn: 0.5113500\ttotal: 3m 2s\tremaining: 1m 16s\n",
      "704:\tlearn: 0.5113337\ttotal: 3m 2s\tremaining: 1m 16s\n",
      "705:\tlearn: 0.5113144\ttotal: 3m 2s\tremaining: 1m 16s\n",
      "706:\tlearn: 0.5112935\ttotal: 3m 3s\tremaining: 1m 15s\n",
      "707:\tlearn: 0.5112772\ttotal: 3m 3s\tremaining: 1m 15s\n",
      "708:\tlearn: 0.5112641\ttotal: 3m 3s\tremaining: 1m 15s\n",
      "709:\tlearn: 0.5112428\ttotal: 3m 3s\tremaining: 1m 15s\n",
      "710:\tlearn: 0.5112271\ttotal: 3m 4s\tremaining: 1m 14s\n",
      "711:\tlearn: 0.5112110\ttotal: 3m 4s\tremaining: 1m 14s\n",
      "712:\tlearn: 0.5111989\ttotal: 3m 4s\tremaining: 1m 14s\n",
      "713:\tlearn: 0.5111785\ttotal: 3m 4s\tremaining: 1m 14s\n",
      "714:\tlearn: 0.5111565\ttotal: 3m 5s\tremaining: 1m 13s\n",
      "715:\tlearn: 0.5111422\ttotal: 3m 5s\tremaining: 1m 13s\n",
      "716:\tlearn: 0.5111300\ttotal: 3m 5s\tremaining: 1m 13s\n",
      "717:\tlearn: 0.5111120\ttotal: 3m 5s\tremaining: 1m 13s\n",
      "718:\tlearn: 0.5110945\ttotal: 3m 6s\tremaining: 1m 12s\n",
      "719:\tlearn: 0.5110747\ttotal: 3m 6s\tremaining: 1m 12s\n",
      "720:\tlearn: 0.5110540\ttotal: 3m 6s\tremaining: 1m 12s\n",
      "721:\tlearn: 0.5110346\ttotal: 3m 7s\tremaining: 1m 12s\n",
      "722:\tlearn: 0.5110171\ttotal: 3m 7s\tremaining: 1m 11s\n",
      "723:\tlearn: 0.5110016\ttotal: 3m 7s\tremaining: 1m 11s\n",
      "724:\tlearn: 0.5109849\ttotal: 3m 8s\tremaining: 1m 11s\n",
      "725:\tlearn: 0.5109580\ttotal: 3m 8s\tremaining: 1m 11s\n",
      "726:\tlearn: 0.5109354\ttotal: 3m 8s\tremaining: 1m 10s\n",
      "727:\tlearn: 0.5109187\ttotal: 3m 8s\tremaining: 1m 10s\n",
      "728:\tlearn: 0.5109004\ttotal: 3m 9s\tremaining: 1m 10s\n",
      "729:\tlearn: 0.5108858\ttotal: 3m 9s\tremaining: 1m 10s\n",
      "730:\tlearn: 0.5108723\ttotal: 3m 9s\tremaining: 1m 9s\n",
      "731:\tlearn: 0.5108569\ttotal: 3m 9s\tremaining: 1m 9s\n",
      "732:\tlearn: 0.5108370\ttotal: 3m 10s\tremaining: 1m 9s\n",
      "733:\tlearn: 0.5108236\ttotal: 3m 10s\tremaining: 1m 9s\n",
      "734:\tlearn: 0.5108092\ttotal: 3m 10s\tremaining: 1m 8s\n",
      "735:\tlearn: 0.5107872\ttotal: 3m 10s\tremaining: 1m 8s\n",
      "736:\tlearn: 0.5107732\ttotal: 3m 11s\tremaining: 1m 8s\n",
      "737:\tlearn: 0.5107571\ttotal: 3m 11s\tremaining: 1m 7s\n",
      "738:\tlearn: 0.5107347\ttotal: 3m 11s\tremaining: 1m 7s\n",
      "739:\tlearn: 0.5107187\ttotal: 3m 11s\tremaining: 1m 7s\n",
      "740:\tlearn: 0.5107035\ttotal: 3m 12s\tremaining: 1m 7s\n",
      "741:\tlearn: 0.5106761\ttotal: 3m 12s\tremaining: 1m 6s\n",
      "742:\tlearn: 0.5106581\ttotal: 3m 12s\tremaining: 1m 6s\n",
      "743:\tlearn: 0.5106425\ttotal: 3m 12s\tremaining: 1m 6s\n",
      "744:\tlearn: 0.5106157\ttotal: 3m 13s\tremaining: 1m 6s\n",
      "745:\tlearn: 0.5105912\ttotal: 3m 13s\tremaining: 1m 5s\n",
      "746:\tlearn: 0.5105755\ttotal: 3m 13s\tremaining: 1m 5s\n",
      "747:\tlearn: 0.5105541\ttotal: 3m 14s\tremaining: 1m 5s\n",
      "748:\tlearn: 0.5105271\ttotal: 3m 14s\tremaining: 1m 5s\n",
      "749:\tlearn: 0.5105070\ttotal: 3m 14s\tremaining: 1m 4s\n",
      "750:\tlearn: 0.5104918\ttotal: 3m 14s\tremaining: 1m 4s\n",
      "751:\tlearn: 0.5104816\ttotal: 3m 14s\tremaining: 1m 4s\n",
      "752:\tlearn: 0.5104641\ttotal: 3m 15s\tremaining: 1m 4s\n",
      "753:\tlearn: 0.5104442\ttotal: 3m 15s\tremaining: 1m 3s\n",
      "754:\tlearn: 0.5104268\ttotal: 3m 15s\tremaining: 1m 3s\n",
      "755:\tlearn: 0.5104099\ttotal: 3m 15s\tremaining: 1m 3s\n",
      "756:\tlearn: 0.5103894\ttotal: 3m 16s\tremaining: 1m 2s\n",
      "757:\tlearn: 0.5103729\ttotal: 3m 16s\tremaining: 1m 2s\n",
      "758:\tlearn: 0.5103571\ttotal: 3m 16s\tremaining: 1m 2s\n",
      "759:\tlearn: 0.5103321\ttotal: 3m 16s\tremaining: 1m 2s\n",
      "760:\tlearn: 0.5103167\ttotal: 3m 17s\tremaining: 1m 1s\n",
      "761:\tlearn: 0.5103041\ttotal: 3m 17s\tremaining: 1m 1s\n",
      "762:\tlearn: 0.5102872\ttotal: 3m 18s\tremaining: 1m 1s\n",
      "763:\tlearn: 0.5102655\ttotal: 3m 18s\tremaining: 1m 1s\n",
      "764:\tlearn: 0.5102571\ttotal: 3m 18s\tremaining: 1m 1s\n",
      "765:\tlearn: 0.5102398\ttotal: 3m 18s\tremaining: 1m\n",
      "766:\tlearn: 0.5102291\ttotal: 3m 19s\tremaining: 1m\n",
      "767:\tlearn: 0.5102129\ttotal: 3m 19s\tremaining: 1m\n",
      "768:\tlearn: 0.5101968\ttotal: 3m 19s\tremaining: 60s\n",
      "769:\tlearn: 0.5101731\ttotal: 3m 19s\tremaining: 59.7s\n",
      "770:\tlearn: 0.5101545\ttotal: 3m 20s\tremaining: 59.5s\n",
      "771:\tlearn: 0.5101390\ttotal: 3m 20s\tremaining: 59.2s\n",
      "772:\tlearn: 0.5101138\ttotal: 3m 20s\tremaining: 58.9s\n",
      "773:\tlearn: 0.5100940\ttotal: 3m 20s\tremaining: 58.7s\n"
     ]
    },
    {
     "name": "stdout",
     "output_type": "stream",
     "text": [
      "774:\tlearn: 0.5100812\ttotal: 3m 21s\tremaining: 58.4s\n",
      "775:\tlearn: 0.5100705\ttotal: 3m 21s\tremaining: 58.2s\n",
      "776:\tlearn: 0.5100506\ttotal: 3m 21s\tremaining: 57.9s\n",
      "777:\tlearn: 0.5100301\ttotal: 3m 22s\tremaining: 57.7s\n",
      "778:\tlearn: 0.5100119\ttotal: 3m 22s\tremaining: 57.4s\n",
      "779:\tlearn: 0.5099766\ttotal: 3m 22s\tremaining: 57.2s\n",
      "780:\tlearn: 0.5099609\ttotal: 3m 22s\tremaining: 56.9s\n",
      "781:\tlearn: 0.5099319\ttotal: 3m 23s\tremaining: 56.6s\n",
      "782:\tlearn: 0.5099221\ttotal: 3m 23s\tremaining: 56.4s\n",
      "783:\tlearn: 0.5099026\ttotal: 3m 23s\tremaining: 56.1s\n",
      "784:\tlearn: 0.5098859\ttotal: 3m 23s\tremaining: 55.9s\n",
      "785:\tlearn: 0.5098608\ttotal: 3m 24s\tremaining: 55.6s\n",
      "786:\tlearn: 0.5098425\ttotal: 3m 24s\tremaining: 55.3s\n",
      "787:\tlearn: 0.5098223\ttotal: 3m 24s\tremaining: 55.1s\n",
      "788:\tlearn: 0.5098115\ttotal: 3m 24s\tremaining: 54.8s\n",
      "789:\tlearn: 0.5097865\ttotal: 3m 25s\tremaining: 54.5s\n",
      "790:\tlearn: 0.5097496\ttotal: 3m 25s\tremaining: 54.3s\n",
      "791:\tlearn: 0.5097346\ttotal: 3m 25s\tremaining: 54s\n",
      "792:\tlearn: 0.5097148\ttotal: 3m 25s\tremaining: 53.8s\n",
      "793:\tlearn: 0.5096935\ttotal: 3m 26s\tremaining: 53.5s\n",
      "794:\tlearn: 0.5096819\ttotal: 3m 26s\tremaining: 53.2s\n",
      "795:\tlearn: 0.5096631\ttotal: 3m 26s\tremaining: 53s\n",
      "796:\tlearn: 0.5096446\ttotal: 3m 26s\tremaining: 52.7s\n",
      "797:\tlearn: 0.5096225\ttotal: 3m 27s\tremaining: 52.4s\n",
      "798:\tlearn: 0.5096070\ttotal: 3m 27s\tremaining: 52.2s\n",
      "799:\tlearn: 0.5095928\ttotal: 3m 27s\tremaining: 52s\n",
      "800:\tlearn: 0.5095689\ttotal: 3m 28s\tremaining: 51.8s\n",
      "801:\tlearn: 0.5095528\ttotal: 3m 28s\tremaining: 51.5s\n",
      "802:\tlearn: 0.5095343\ttotal: 3m 28s\tremaining: 51.2s\n",
      "803:\tlearn: 0.5095154\ttotal: 3m 29s\tremaining: 51s\n",
      "804:\tlearn: 0.5094955\ttotal: 3m 29s\tremaining: 50.7s\n",
      "805:\tlearn: 0.5094776\ttotal: 3m 29s\tremaining: 50.4s\n",
      "806:\tlearn: 0.5094648\ttotal: 3m 29s\tremaining: 50.2s\n",
      "807:\tlearn: 0.5094431\ttotal: 3m 30s\tremaining: 49.9s\n",
      "808:\tlearn: 0.5094272\ttotal: 3m 30s\tremaining: 49.7s\n",
      "809:\tlearn: 0.5094124\ttotal: 3m 30s\tremaining: 49.4s\n",
      "810:\tlearn: 0.5093920\ttotal: 3m 30s\tremaining: 49.1s\n",
      "811:\tlearn: 0.5093711\ttotal: 3m 31s\tremaining: 48.9s\n",
      "812:\tlearn: 0.5093451\ttotal: 3m 31s\tremaining: 48.6s\n",
      "813:\tlearn: 0.5093332\ttotal: 3m 31s\tremaining: 48.3s\n",
      "814:\tlearn: 0.5093224\ttotal: 3m 31s\tremaining: 48.1s\n",
      "815:\tlearn: 0.5093026\ttotal: 3m 32s\tremaining: 47.8s\n",
      "816:\tlearn: 0.5092833\ttotal: 3m 32s\tremaining: 47.6s\n",
      "817:\tlearn: 0.5092561\ttotal: 3m 32s\tremaining: 47.3s\n",
      "818:\tlearn: 0.5092380\ttotal: 3m 32s\tremaining: 47s\n",
      "819:\tlearn: 0.5092149\ttotal: 3m 33s\tremaining: 46.8s\n",
      "820:\tlearn: 0.5091988\ttotal: 3m 33s\tremaining: 46.5s\n",
      "821:\tlearn: 0.5091821\ttotal: 3m 33s\tremaining: 46.2s\n",
      "822:\tlearn: 0.5091685\ttotal: 3m 33s\tremaining: 46s\n",
      "823:\tlearn: 0.5091499\ttotal: 3m 34s\tremaining: 45.7s\n",
      "824:\tlearn: 0.5091315\ttotal: 3m 34s\tremaining: 45.5s\n",
      "825:\tlearn: 0.5091122\ttotal: 3m 34s\tremaining: 45.2s\n",
      "826:\tlearn: 0.5090963\ttotal: 3m 34s\tremaining: 44.9s\n",
      "827:\tlearn: 0.5090792\ttotal: 3m 35s\tremaining: 44.7s\n",
      "828:\tlearn: 0.5090659\ttotal: 3m 35s\tremaining: 44.4s\n",
      "829:\tlearn: 0.5090526\ttotal: 3m 35s\tremaining: 44.1s\n",
      "830:\tlearn: 0.5090358\ttotal: 3m 35s\tremaining: 43.9s\n",
      "831:\tlearn: 0.5090136\ttotal: 3m 36s\tremaining: 43.6s\n",
      "832:\tlearn: 0.5089966\ttotal: 3m 36s\tremaining: 43.4s\n",
      "833:\tlearn: 0.5089764\ttotal: 3m 36s\tremaining: 43.1s\n",
      "834:\tlearn: 0.5089540\ttotal: 3m 36s\tremaining: 42.8s\n",
      "835:\tlearn: 0.5089373\ttotal: 3m 36s\tremaining: 42.6s\n",
      "836:\tlearn: 0.5089195\ttotal: 3m 37s\tremaining: 42.3s\n",
      "837:\tlearn: 0.5089083\ttotal: 3m 37s\tremaining: 42.1s\n",
      "838:\tlearn: 0.5088886\ttotal: 3m 38s\tremaining: 41.9s\n",
      "839:\tlearn: 0.5088670\ttotal: 3m 38s\tremaining: 41.6s\n",
      "840:\tlearn: 0.5088541\ttotal: 3m 38s\tremaining: 41.4s\n",
      "841:\tlearn: 0.5088282\ttotal: 3m 39s\tremaining: 41.1s\n",
      "842:\tlearn: 0.5088071\ttotal: 3m 39s\tremaining: 40.9s\n",
      "843:\tlearn: 0.5087868\ttotal: 3m 39s\tremaining: 40.6s\n",
      "844:\tlearn: 0.5087690\ttotal: 3m 39s\tremaining: 40.3s\n",
      "845:\tlearn: 0.5087545\ttotal: 3m 40s\tremaining: 40.1s\n",
      "846:\tlearn: 0.5087380\ttotal: 3m 40s\tremaining: 39.8s\n",
      "847:\tlearn: 0.5087177\ttotal: 3m 40s\tremaining: 39.6s\n",
      "848:\tlearn: 0.5087008\ttotal: 3m 41s\tremaining: 39.3s\n",
      "849:\tlearn: 0.5086793\ttotal: 3m 41s\tremaining: 39.1s\n",
      "850:\tlearn: 0.5086653\ttotal: 3m 41s\tremaining: 38.8s\n",
      "851:\tlearn: 0.5086450\ttotal: 3m 41s\tremaining: 38.6s\n",
      "852:\tlearn: 0.5086311\ttotal: 3m 42s\tremaining: 38.3s\n",
      "853:\tlearn: 0.5086144\ttotal: 3m 42s\tremaining: 38s\n",
      "854:\tlearn: 0.5085976\ttotal: 3m 42s\tremaining: 37.8s\n",
      "855:\tlearn: 0.5085764\ttotal: 3m 43s\tremaining: 37.5s\n",
      "856:\tlearn: 0.5085611\ttotal: 3m 43s\tremaining: 37.3s\n",
      "857:\tlearn: 0.5085470\ttotal: 3m 43s\tremaining: 37s\n",
      "858:\tlearn: 0.5085318\ttotal: 3m 43s\tremaining: 36.7s\n",
      "859:\tlearn: 0.5085158\ttotal: 3m 44s\tremaining: 36.5s\n",
      "860:\tlearn: 0.5084933\ttotal: 3m 44s\tremaining: 36.2s\n",
      "861:\tlearn: 0.5084698\ttotal: 3m 44s\tremaining: 36s\n",
      "862:\tlearn: 0.5084538\ttotal: 3m 44s\tremaining: 35.7s\n",
      "863:\tlearn: 0.5084378\ttotal: 3m 45s\tremaining: 35.4s\n",
      "864:\tlearn: 0.5084271\ttotal: 3m 45s\tremaining: 35.2s\n",
      "865:\tlearn: 0.5084070\ttotal: 3m 45s\tremaining: 34.9s\n",
      "866:\tlearn: 0.5083920\ttotal: 3m 45s\tremaining: 34.6s\n",
      "867:\tlearn: 0.5083554\ttotal: 3m 46s\tremaining: 34.4s\n",
      "868:\tlearn: 0.5083365\ttotal: 3m 46s\tremaining: 34.1s\n",
      "869:\tlearn: 0.5083221\ttotal: 3m 46s\tremaining: 33.9s\n",
      "870:\tlearn: 0.5083057\ttotal: 3m 46s\tremaining: 33.6s\n",
      "871:\tlearn: 0.5082943\ttotal: 3m 47s\tremaining: 33.4s\n",
      "872:\tlearn: 0.5082806\ttotal: 3m 47s\tremaining: 33.1s\n",
      "873:\tlearn: 0.5082726\ttotal: 3m 48s\tremaining: 32.9s\n",
      "874:\tlearn: 0.5082622\ttotal: 3m 48s\tremaining: 32.6s\n",
      "875:\tlearn: 0.5082482\ttotal: 3m 48s\tremaining: 32.4s\n",
      "876:\tlearn: 0.5082322\ttotal: 3m 48s\tremaining: 32.1s\n",
      "877:\tlearn: 0.5082227\ttotal: 3m 49s\tremaining: 31.8s\n",
      "878:\tlearn: 0.5082094\ttotal: 3m 49s\tremaining: 31.6s\n",
      "879:\tlearn: 0.5081878\ttotal: 3m 49s\tremaining: 31.3s\n",
      "880:\tlearn: 0.5081724\ttotal: 3m 49s\tremaining: 31.1s\n",
      "881:\tlearn: 0.5081536\ttotal: 3m 50s\tremaining: 30.8s\n",
      "882:\tlearn: 0.5081367\ttotal: 3m 50s\tremaining: 30.5s\n",
      "883:\tlearn: 0.5081186\ttotal: 3m 50s\tremaining: 30.3s\n",
      "884:\tlearn: 0.5080954\ttotal: 3m 50s\tremaining: 30s\n",
      "885:\tlearn: 0.5080760\ttotal: 3m 51s\tremaining: 29.7s\n",
      "886:\tlearn: 0.5080585\ttotal: 3m 51s\tremaining: 29.5s\n",
      "887:\tlearn: 0.5080454\ttotal: 3m 51s\tremaining: 29.2s\n",
      "888:\tlearn: 0.5080219\ttotal: 3m 51s\tremaining: 29s\n",
      "889:\tlearn: 0.5080028\ttotal: 3m 52s\tremaining: 28.7s\n",
      "890:\tlearn: 0.5079858\ttotal: 3m 52s\tremaining: 28.4s\n",
      "891:\tlearn: 0.5079701\ttotal: 3m 52s\tremaining: 28.2s\n",
      "892:\tlearn: 0.5079501\ttotal: 3m 52s\tremaining: 27.9s\n",
      "893:\tlearn: 0.5079378\ttotal: 3m 53s\tremaining: 27.7s\n",
      "894:\tlearn: 0.5079249\ttotal: 3m 53s\tremaining: 27.4s\n",
      "895:\tlearn: 0.5079064\ttotal: 3m 53s\tremaining: 27.1s\n",
      "896:\tlearn: 0.5078935\ttotal: 3m 54s\tremaining: 26.9s\n",
      "897:\tlearn: 0.5078792\ttotal: 3m 54s\tremaining: 26.6s\n",
      "898:\tlearn: 0.5078569\ttotal: 3m 54s\tremaining: 26.4s\n",
      "899:\tlearn: 0.5078446\ttotal: 3m 54s\tremaining: 26.1s\n",
      "900:\tlearn: 0.5078311\ttotal: 3m 55s\tremaining: 25.8s\n",
      "901:\tlearn: 0.5078163\ttotal: 3m 55s\tremaining: 25.6s\n",
      "902:\tlearn: 0.5078009\ttotal: 3m 55s\tremaining: 25.3s\n",
      "903:\tlearn: 0.5077849\ttotal: 3m 55s\tremaining: 25.1s\n",
      "904:\tlearn: 0.5077691\ttotal: 3m 56s\tremaining: 24.8s\n",
      "905:\tlearn: 0.5077543\ttotal: 3m 56s\tremaining: 24.5s\n",
      "906:\tlearn: 0.5077356\ttotal: 3m 56s\tremaining: 24.3s\n",
      "907:\tlearn: 0.5077179\ttotal: 3m 56s\tremaining: 24s\n",
      "908:\tlearn: 0.5076837\ttotal: 3m 57s\tremaining: 23.8s\n",
      "909:\tlearn: 0.5076674\ttotal: 3m 57s\tremaining: 23.5s\n",
      "910:\tlearn: 0.5076502\ttotal: 3m 58s\tremaining: 23.3s\n",
      "911:\tlearn: 0.5076313\ttotal: 3m 58s\tremaining: 23s\n",
      "912:\tlearn: 0.5076164\ttotal: 3m 58s\tremaining: 22.7s\n",
      "913:\tlearn: 0.5076013\ttotal: 3m 58s\tremaining: 22.5s\n",
      "914:\tlearn: 0.5075819\ttotal: 3m 59s\tremaining: 22.2s\n",
      "915:\tlearn: 0.5075661\ttotal: 3m 59s\tremaining: 21.9s\n",
      "916:\tlearn: 0.5075501\ttotal: 3m 59s\tremaining: 21.7s\n",
      "917:\tlearn: 0.5075402\ttotal: 3m 59s\tremaining: 21.4s\n",
      "918:\tlearn: 0.5075159\ttotal: 4m\tremaining: 21.2s\n",
      "919:\tlearn: 0.5074980\ttotal: 4m\tremaining: 20.9s\n",
      "920:\tlearn: 0.5074830\ttotal: 4m\tremaining: 20.6s\n",
      "921:\tlearn: 0.5074691\ttotal: 4m\tremaining: 20.4s\n",
      "922:\tlearn: 0.5074556\ttotal: 4m 1s\tremaining: 20.1s\n",
      "923:\tlearn: 0.5074331\ttotal: 4m 1s\tremaining: 19.8s\n",
      "924:\tlearn: 0.5074122\ttotal: 4m 1s\tremaining: 19.6s\n",
      "925:\tlearn: 0.5073922\ttotal: 4m 1s\tremaining: 19.3s\n",
      "926:\tlearn: 0.5073722\ttotal: 4m 2s\tremaining: 19.1s\n",
      "927:\tlearn: 0.5073589\ttotal: 4m 2s\tremaining: 18.8s\n",
      "928:\tlearn: 0.5073400\ttotal: 4m 2s\tremaining: 18.5s\n",
      "929:\tlearn: 0.5073299\ttotal: 4m 2s\tremaining: 18.3s\n"
     ]
    },
    {
     "name": "stdout",
     "output_type": "stream",
     "text": [
      "930:\tlearn: 0.5073141\ttotal: 4m 3s\tremaining: 18s\n",
      "931:\tlearn: 0.5072895\ttotal: 4m 3s\tremaining: 17.8s\n",
      "932:\tlearn: 0.5072716\ttotal: 4m 3s\tremaining: 17.5s\n",
      "933:\tlearn: 0.5072543\ttotal: 4m 3s\tremaining: 17.2s\n",
      "934:\tlearn: 0.5072381\ttotal: 4m 3s\tremaining: 17s\n",
      "935:\tlearn: 0.5072206\ttotal: 4m 4s\tremaining: 16.7s\n",
      "936:\tlearn: 0.5072051\ttotal: 4m 4s\tremaining: 16.4s\n",
      "937:\tlearn: 0.5071862\ttotal: 4m 4s\tremaining: 16.2s\n",
      "938:\tlearn: 0.5071716\ttotal: 4m 4s\tremaining: 15.9s\n",
      "939:\tlearn: 0.5071549\ttotal: 4m 5s\tremaining: 15.7s\n",
      "940:\tlearn: 0.5071399\ttotal: 4m 5s\tremaining: 15.4s\n",
      "941:\tlearn: 0.5071243\ttotal: 4m 5s\tremaining: 15.1s\n",
      "942:\tlearn: 0.5071105\ttotal: 4m 5s\tremaining: 14.9s\n",
      "943:\tlearn: 0.5070915\ttotal: 4m 6s\tremaining: 14.6s\n",
      "944:\tlearn: 0.5070756\ttotal: 4m 6s\tremaining: 14.3s\n",
      "945:\tlearn: 0.5070564\ttotal: 4m 6s\tremaining: 14.1s\n",
      "946:\tlearn: 0.5070387\ttotal: 4m 7s\tremaining: 13.8s\n",
      "947:\tlearn: 0.5070201\ttotal: 4m 7s\tremaining: 13.6s\n",
      "948:\tlearn: 0.5070040\ttotal: 4m 7s\tremaining: 13.3s\n",
      "949:\tlearn: 0.5069896\ttotal: 4m 8s\tremaining: 13.1s\n",
      "950:\tlearn: 0.5069706\ttotal: 4m 8s\tremaining: 12.8s\n",
      "951:\tlearn: 0.5069528\ttotal: 4m 8s\tremaining: 12.5s\n",
      "952:\tlearn: 0.5069344\ttotal: 4m 8s\tremaining: 12.3s\n",
      "953:\tlearn: 0.5069210\ttotal: 4m 9s\tremaining: 12s\n",
      "954:\tlearn: 0.5069079\ttotal: 4m 9s\tremaining: 11.8s\n",
      "955:\tlearn: 0.5068909\ttotal: 4m 9s\tremaining: 11.5s\n",
      "956:\tlearn: 0.5068802\ttotal: 4m 10s\tremaining: 11.2s\n",
      "957:\tlearn: 0.5068706\ttotal: 4m 10s\tremaining: 11s\n",
      "958:\tlearn: 0.5068553\ttotal: 4m 10s\tremaining: 10.7s\n",
      "959:\tlearn: 0.5068385\ttotal: 4m 11s\tremaining: 10.5s\n",
      "960:\tlearn: 0.5068144\ttotal: 4m 11s\tremaining: 10.2s\n",
      "961:\tlearn: 0.5067884\ttotal: 4m 11s\tremaining: 9.94s\n",
      "962:\tlearn: 0.5067758\ttotal: 4m 11s\tremaining: 9.68s\n",
      "963:\tlearn: 0.5067583\ttotal: 4m 12s\tremaining: 9.41s\n",
      "964:\tlearn: 0.5067308\ttotal: 4m 12s\tremaining: 9.15s\n",
      "965:\tlearn: 0.5067158\ttotal: 4m 12s\tremaining: 8.89s\n",
      "966:\tlearn: 0.5066846\ttotal: 4m 12s\tremaining: 8.63s\n",
      "967:\tlearn: 0.5066621\ttotal: 4m 13s\tremaining: 8.37s\n",
      "968:\tlearn: 0.5066433\ttotal: 4m 13s\tremaining: 8.11s\n",
      "969:\tlearn: 0.5066302\ttotal: 4m 13s\tremaining: 7.84s\n",
      "970:\tlearn: 0.5066156\ttotal: 4m 13s\tremaining: 7.58s\n",
      "971:\tlearn: 0.5065991\ttotal: 4m 14s\tremaining: 7.32s\n",
      "972:\tlearn: 0.5065665\ttotal: 4m 14s\tremaining: 7.06s\n",
      "973:\tlearn: 0.5065494\ttotal: 4m 14s\tremaining: 6.8s\n",
      "974:\tlearn: 0.5065262\ttotal: 4m 14s\tremaining: 6.54s\n",
      "975:\tlearn: 0.5065049\ttotal: 4m 15s\tremaining: 6.28s\n",
      "976:\tlearn: 0.5064858\ttotal: 4m 15s\tremaining: 6.01s\n",
      "977:\tlearn: 0.5064562\ttotal: 4m 15s\tremaining: 5.75s\n",
      "978:\tlearn: 0.5064390\ttotal: 4m 15s\tremaining: 5.49s\n",
      "979:\tlearn: 0.5064270\ttotal: 4m 16s\tremaining: 5.23s\n",
      "980:\tlearn: 0.5064129\ttotal: 4m 16s\tremaining: 4.97s\n",
      "981:\tlearn: 0.5063966\ttotal: 4m 16s\tremaining: 4.71s\n",
      "982:\tlearn: 0.5063844\ttotal: 4m 17s\tremaining: 4.45s\n",
      "983:\tlearn: 0.5063607\ttotal: 4m 17s\tremaining: 4.19s\n",
      "984:\tlearn: 0.5063493\ttotal: 4m 17s\tremaining: 3.93s\n",
      "985:\tlearn: 0.5063320\ttotal: 4m 18s\tremaining: 3.67s\n",
      "986:\tlearn: 0.5063216\ttotal: 4m 18s\tremaining: 3.4s\n",
      "987:\tlearn: 0.5062968\ttotal: 4m 18s\tremaining: 3.14s\n",
      "988:\tlearn: 0.5062853\ttotal: 4m 18s\tremaining: 2.88s\n",
      "989:\tlearn: 0.5062697\ttotal: 4m 19s\tremaining: 2.62s\n",
      "990:\tlearn: 0.5062566\ttotal: 4m 19s\tremaining: 2.35s\n",
      "991:\tlearn: 0.5062387\ttotal: 4m 19s\tremaining: 2.09s\n",
      "992:\tlearn: 0.5062215\ttotal: 4m 19s\tremaining: 1.83s\n",
      "993:\tlearn: 0.5062037\ttotal: 4m 20s\tremaining: 1.57s\n",
      "994:\tlearn: 0.5061842\ttotal: 4m 20s\tremaining: 1.31s\n",
      "995:\tlearn: 0.5061680\ttotal: 4m 20s\tremaining: 1.05s\n",
      "996:\tlearn: 0.5061526\ttotal: 4m 20s\tremaining: 785ms\n",
      "997:\tlearn: 0.5061356\ttotal: 4m 21s\tremaining: 524ms\n",
      "998:\tlearn: 0.5061209\ttotal: 4m 21s\tremaining: 262ms\n",
      "999:\tlearn: 0.5061116\ttotal: 4m 21s\tremaining: 0us\n"
     ]
    },
    {
     "data": {
      "text/plain": [
       "<catboost.core.CatBoostClassifier at 0xcb8efa0d30>"
      ]
     },
     "execution_count": 790,
     "metadata": {},
     "output_type": "execute_result"
    }
   ],
   "source": [
    "cat.fit(X_train,y_train)"
   ]
  },
  {
   "cell_type": "code",
   "execution_count": 791,
   "metadata": {},
   "outputs": [],
   "source": [
    "predict = cat.predict(X_test)"
   ]
  },
  {
   "cell_type": "code",
   "execution_count": 792,
   "metadata": {},
   "outputs": [
    {
     "name": "stdout",
     "output_type": "stream",
     "text": [
      "Accuracy: 0.7299466666666666\n",
      "\n",
      "Confusion matrix: [[50700 23931]\n",
      " [16577 58792]]\n",
      "\n",
      "Classification Report               precision    recall  f1-score   support\n",
      "\n",
      "           0       0.75      0.68      0.71     74631\n",
      "           1       0.71      0.78      0.74     75369\n",
      "\n",
      "   micro avg       0.73      0.73      0.73    150000\n",
      "   macro avg       0.73      0.73      0.73    150000\n",
      "weighted avg       0.73      0.73      0.73    150000\n",
      "\n",
      "Roc : 0.729698912450421\n"
     ]
    }
   ],
   "source": [
    "print ('Accuracy: ' + str(accuracy_score(y_test,predict)))\n",
    "print()\n",
    "print('Confusion matrix: '+ str(confusion_matrix(y_test,predict)))\n",
    "\n",
    "print ()\n",
    "print (\"Classification Report \" + str(classification_report(y_test,predict)))\n",
    "\n",
    "print (\"Roc : \" + str(roc_auc_score(y_test,predict)))"
   ]
  },
  {
   "cell_type": "code",
   "execution_count": null,
   "metadata": {},
   "outputs": [],
   "source": []
  },
  {
   "cell_type": "code",
   "execution_count": 515,
   "metadata": {},
   "outputs": [
    {
     "data": {
      "text/plain": [
       "XGBClassifier(base_score=0.5, booster='gbtree', colsample_bylevel=1,\n",
       "       colsample_bynode=1, colsample_bytree=1, gamma=0, learning_rate=0.1,\n",
       "       max_delta_step=0, max_depth=3, min_child_weight=1, missing=None,\n",
       "       n_estimators=100, n_jobs=1, nthread=None,\n",
       "       objective='binary:logistic', random_state=0, reg_alpha=0,\n",
       "       reg_lambda=1, scale_pos_weight=1, seed=None, silent=None,\n",
       "       subsample=1, verbosity=1)"
      ]
     },
     "execution_count": 515,
     "metadata": {},
     "output_type": "execute_result"
    }
   ],
   "source": [
    "xgb.fit(X_train, y_train)"
   ]
  },
  {
   "cell_type": "code",
   "execution_count": 516,
   "metadata": {},
   "outputs": [],
   "source": [
    "Xgb = xgb.predict(X_test)"
   ]
  },
  {
   "cell_type": "code",
   "execution_count": 517,
   "metadata": {},
   "outputs": [
    {
     "name": "stdout",
     "output_type": "stream",
     "text": [
      "Accuracy: 0.7196933333333333\n",
      "\n",
      "Confusion matrix: [[50111 25009]\n",
      " [17037 57843]]\n",
      "\n",
      "Classification Report               precision    recall  f1-score   support\n",
      "\n",
      "           0       0.75      0.67      0.70     75120\n",
      "           1       0.70      0.77      0.73     74880\n",
      "\n",
      "   micro avg       0.72      0.72      0.72    150000\n",
      "   macro avg       0.72      0.72      0.72    150000\n",
      "weighted avg       0.72      0.72      0.72    150000\n",
      "\n",
      "Roc : 0.7197776506307856\n"
     ]
    }
   ],
   "source": [
    "print ('Accuracy: ' + str(accuracy_score(y_test,Xgb)))\n",
    "print()\n",
    "print('Confusion matrix: '+ str(confusion_matrix(y_test,Xgb)))\n",
    "\n",
    "print ()\n",
    "print (\"Classification Report \" + str(classification_report(y_test,Xgb)))\n",
    "\n",
    "print (\"Roc : \" + str(roc_auc_score(y_test,Xgb)))"
   ]
  },
  {
   "cell_type": "code",
   "execution_count": 793,
   "metadata": {},
   "outputs": [],
   "source": [
    "prediction = cat.predict(test)"
   ]
  },
  {
   "cell_type": "code",
   "execution_count": 794,
   "metadata": {},
   "outputs": [],
   "source": [
    "my_submission=pd.DataFrame({'row_Id': id,'accepted': prediction})"
   ]
  },
  {
   "cell_type": "code",
   "execution_count": 795,
   "metadata": {},
   "outputs": [],
   "source": [
    "my_submission.to_csv('submission.csv', index=False)"
   ]
  },
  {
   "cell_type": "code",
   "execution_count": 796,
   "metadata": {},
   "outputs": [],
   "source": [
    "my_submission['accepted']= my_submission['accepted'].astype(int)"
   ]
  },
  {
   "cell_type": "code",
   "execution_count": 797,
   "metadata": {},
   "outputs": [],
   "source": [
    "my_submission.to_csv('submission.csv', index=False)"
   ]
  },
  {
   "cell_type": "code",
   "execution_count": null,
   "metadata": {},
   "outputs": [],
   "source": []
  }
 ],
 "metadata": {
  "kernelspec": {
   "display_name": "Python 3",
   "language": "python",
   "name": "python3"
  },
  "language_info": {
   "codemirror_mode": {
    "name": "ipython",
    "version": 3
   },
   "file_extension": ".py",
   "mimetype": "text/x-python",
   "name": "python",
   "nbconvert_exporter": "python",
   "pygments_lexer": "ipython3",
   "version": "3.7.1"
  }
 },
 "nbformat": 4,
 "nbformat_minor": 2
}
